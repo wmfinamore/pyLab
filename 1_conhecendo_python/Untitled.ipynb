{
 "cells": [
  {
   "cell_type": "code",
   "execution_count": 9,
   "id": "sonic-alpha",
   "metadata": {},
   "outputs": [
    {
     "name": "stdout",
     "output_type": "stream",
     "text": [
      "['Cleese', 'Palin', 'Jones', 'Idle']\n",
      "4\n",
      "Palin\n"
     ]
    }
   ],
   "source": [
    "cast = [\"Cleese\", \"Palin\", \"Jones\", \"Idle\"]\n",
    "print(cast)\n",
    "\n",
    "# É nomal chamar um BIF nos resultados de outro BIF.\n",
    "print(len(cast))\n",
    "\n",
    "print(cast[1])"
   ]
  },
  {
   "cell_type": "code",
   "execution_count": 10,
   "id": "described-despite",
   "metadata": {},
   "outputs": [
    {
     "name": "stdout",
     "output_type": "stream",
     "text": [
      "['Cleese', 'Palin', 'Jones', 'Idle', 'Gilliam']\n",
      "['Cleese', 'Palin', 'Jones', 'Idle']\n",
      "['Cleese', 'Palin', 'Jones', 'Idle', 'Gilliam', 'Chapman']\n"
     ]
    }
   ],
   "source": [
    "# Adiciona um item no final da lista\n",
    "cast.append('Gilliam')\n",
    "print(cast)\n",
    "\n",
    "# remove último item da lista\n",
    "cast.pop()\n",
    "print(cast)\n",
    "\n",
    "#Adiciona uma lista ao final da lista\n",
    "cast.extend(['Gilliam', 'Chapman'])\n",
    "print(cast)"
   ]
  },
  {
   "cell_type": "code",
   "execution_count": 11,
   "id": "inner-madagascar",
   "metadata": {},
   "outputs": [
    {
     "name": "stdout",
     "output_type": "stream",
     "text": [
      "['Cleese', 'Palin', 'Jones', 'Idle', 'Gilliam']\n",
      "['Chapman', 'Cleese', 'Palin', 'Jones', 'Idle', 'Gilliam']\n"
     ]
    }
   ],
   "source": [
    "#remove item específico da lista\n",
    "cast.remove('Chapman')\n",
    "print(cast)\n",
    "\n",
    "#insere um item na posição indicada da lista\n",
    "cast.insert(0, 'Chapman')\n",
    "print(cast)"
   ]
  },
  {
   "cell_type": "code",
   "execution_count": 5,
   "id": "improved-chile",
   "metadata": {},
   "outputs": [
    {
     "name": "stdout",
     "output_type": "stream",
     "text": [
      "['The Holy Grail', 1975, 'The LIfe of Brian', 1979, 'The Meaning of Life', 1983]\n"
     ]
    }
   ],
   "source": [
    "movies = [\"The Holy Grail\", \"The LIfe of Brian\", \"The Meaning of Life\"]\n",
    "movies.insert(1,1975)\n",
    "movies.insert(3,1979)\n",
    "movies.append(1983)\n",
    "print(movies)"
   ]
  },
  {
   "cell_type": "code",
   "execution_count": 6,
   "id": "drawn-liver",
   "metadata": {},
   "outputs": [
    {
     "name": "stdout",
     "output_type": "stream",
     "text": [
      "['The Holy Grail', 1975, 'The LIfe of Brian', 1979, 'The Meaning of Life', 1983]\n"
     ]
    }
   ],
   "source": [
    "movies = [\"The Holy Grail\",1975, \"The LIfe of Brian\",1979, \"The Meaning of Life\",1983]\n",
    "print(movies)"
   ]
  },
  {
   "cell_type": "code",
   "execution_count": 14,
   "id": "approved-algorithm",
   "metadata": {},
   "outputs": [
    {
     "name": "stdout",
     "output_type": "stream",
     "text": [
      "The Holy Grail\n",
      "The Life o Brian\n"
     ]
    }
   ],
   "source": [
    "# iterandi listas\n",
    "fav_movies = [\"The Holy Grail\", \"The Life o Brian\"]\n",
    "print(fav_movies[0])\n",
    "print(fav_movies[1])"
   ]
  },
  {
   "cell_type": "code",
   "execution_count": 13,
   "id": "therapeutic-index",
   "metadata": {},
   "outputs": [
    {
     "name": "stdout",
     "output_type": "stream",
     "text": [
      "The Holy Grail\n",
      "The Life o Brian\n"
     ]
    }
   ],
   "source": [
    "#loop for\n",
    "for each_flick in fav_movies:\n",
    "    print(each_flick)"
   ]
  },
  {
   "cell_type": "code",
   "execution_count": 12,
   "id": "drawn-coaching",
   "metadata": {},
   "outputs": [
    {
     "name": "stdout",
     "output_type": "stream",
     "text": [
      "The Holy Grail\n",
      "1975\n",
      "The LIfe of Brian\n",
      "1979\n",
      "The Meaning of Life\n",
      "1983\n"
     ]
    }
   ],
   "source": [
    "# loop while\n",
    "count = 0\n",
    "while count < len(movies):\n",
    "    print(movies[count])\n",
    "    count += 1\n",
    "    "
   ]
  }
 ],
 "metadata": {
  "kernelspec": {
   "display_name": "Python 3",
   "language": "python",
   "name": "python3"
  },
  "language_info": {
   "codemirror_mode": {
    "name": "ipython",
    "version": 3
   },
   "file_extension": ".py",
   "mimetype": "text/x-python",
   "name": "python",
   "nbconvert_exporter": "python",
   "pygments_lexer": "ipython3",
   "version": "3.9.2"
  }
 },
 "nbformat": 4,
 "nbformat_minor": 5
}
