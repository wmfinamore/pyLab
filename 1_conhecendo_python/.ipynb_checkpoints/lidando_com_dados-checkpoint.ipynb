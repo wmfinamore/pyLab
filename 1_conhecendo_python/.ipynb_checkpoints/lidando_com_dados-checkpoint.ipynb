{
 "cells": [
  {
   "cell_type": "code",
   "execution_count": 1,
   "id": "sonic-alpha",
   "metadata": {},
   "outputs": [
    {
     "name": "stdout",
     "output_type": "stream",
     "text": [
      "['Cleese', 'Palin', 'Jones', 'Idle']\n",
      "4\n",
      "Palin\n"
     ]
    }
   ],
   "source": [
    "cast = [\"Cleese\", \"Palin\", \"Jones\", \"Idle\"]\n",
    "print(cast)\n",
    "\n",
    "# É nomal chamar um BIF nos resultados de outro BIF.\n",
    "print(len(cast))\n",
    "\n",
    "print(cast[1])"
   ]
  },
  {
   "cell_type": "code",
   "execution_count": 2,
   "id": "described-despite",
   "metadata": {},
   "outputs": [
    {
     "name": "stdout",
     "output_type": "stream",
     "text": [
      "['Cleese', 'Palin', 'Jones', 'Idle', 'Gilliam']\n",
      "['Cleese', 'Palin', 'Jones', 'Idle']\n",
      "['Cleese', 'Palin', 'Jones', 'Idle', 'Gilliam', 'Chapman']\n"
     ]
    }
   ],
   "source": [
    "# Adiciona um item no final da lista\n",
    "cast.append('Gilliam')\n",
    "print(cast)\n",
    "\n",
    "# remove último item da lista\n",
    "cast.pop()\n",
    "print(cast)\n",
    "\n",
    "#Adiciona uma lista ao final da lista\n",
    "cast.extend(['Gilliam', 'Chapman'])\n",
    "print(cast)"
   ]
  },
  {
   "cell_type": "code",
   "execution_count": 3,
   "id": "inner-madagascar",
   "metadata": {},
   "outputs": [
    {
     "name": "stdout",
     "output_type": "stream",
     "text": [
      "['Cleese', 'Palin', 'Jones', 'Idle', 'Gilliam']\n",
      "['Chapman', 'Cleese', 'Palin', 'Jones', 'Idle', 'Gilliam']\n"
     ]
    }
   ],
   "source": [
    "#remove item específico da lista\n",
    "cast.remove('Chapman')\n",
    "print(cast)\n",
    "\n",
    "#insere um item na posição indicada da lista\n",
    "cast.insert(0, 'Chapman')\n",
    "print(cast)"
   ]
  },
  {
   "cell_type": "code",
   "execution_count": 5,
   "id": "improved-chile",
   "metadata": {},
   "outputs": [
    {
     "name": "stdout",
     "output_type": "stream",
     "text": [
      "['The Holy Grail', 1975, 'The LIfe of Brian', 1979, 'The Meaning of Life', 1983]\n"
     ]
    }
   ],
   "source": [
    "movies = [\"The Holy Grail\", \"The LIfe of Brian\", \"The Meaning of Life\"]\n",
    "movies.insert(1,1975)\n",
    "movies.insert(3,1979)\n",
    "movies.append(1983)\n",
    "print(movies)"
   ]
  },
  {
   "cell_type": "code",
   "execution_count": 4,
   "id": "drawn-liver",
   "metadata": {},
   "outputs": [
    {
     "name": "stdout",
     "output_type": "stream",
     "text": [
      "['The Holy Grail', 1975, 'The LIfe of Brian', 1979, 'The Meaning of Life', 1983]\n"
     ]
    }
   ],
   "source": [
    "movies = [\"The Holy Grail\",1975, \"The LIfe of Brian\",1979, \"The Meaning of Life\",1983]\n",
    "print(movies)"
   ]
  },
  {
   "cell_type": "code",
   "execution_count": 5,
   "id": "approved-algorithm",
   "metadata": {},
   "outputs": [
    {
     "name": "stdout",
     "output_type": "stream",
     "text": [
      "The Holy Grail\n",
      "The Life o Brian\n"
     ]
    }
   ],
   "source": [
    "# iterando listas\n",
    "fav_movies = [\"The Holy Grail\", \"The Life o Brian\"]\n",
    "print(fav_movies[0])\n",
    "print(fav_movies[1])"
   ]
  },
  {
   "cell_type": "code",
   "execution_count": 6,
   "id": "therapeutic-index",
   "metadata": {},
   "outputs": [
    {
     "name": "stdout",
     "output_type": "stream",
     "text": [
      "The Holy Grail\n",
      "The Life o Brian\n"
     ]
    }
   ],
   "source": [
    "#loop for\n",
    "for each_flick in fav_movies:\n",
    "    print(each_flick)"
   ]
  },
  {
   "cell_type": "code",
   "execution_count": 7,
   "id": "drawn-coaching",
   "metadata": {},
   "outputs": [
    {
     "name": "stdout",
     "output_type": "stream",
     "text": [
      "The Holy Grail\n",
      "1975\n",
      "The LIfe of Brian\n",
      "1979\n",
      "The Meaning of Life\n",
      "1983\n"
     ]
    }
   ],
   "source": [
    "# loop while\n",
    "count = 0\n",
    "while count < len(movies):\n",
    "    print(movies[count])\n",
    "    count += 1\n",
    "    "
   ]
  },
  {
   "cell_type": "code",
   "execution_count": 8,
   "id": "0fcc9fde-81ce-4513-9749-ad3c3156baec",
   "metadata": {},
   "outputs": [],
   "source": [
    "#Listas dentro de listas\n",
    "movies = [\n",
    "    \"The Holly Grail\", 1975, \"Terry Jones & Terry Gilliam\", 91,\n",
    "    [\n",
    "        \"Graham Chapman\",\n",
    "        [\"Michael Palin\", \"John Cleese\", \"Terry Gilliam\", \"Eric Idle\", \"Terry Jones\"]\n",
    "    ]\n",
    "]"
   ]
  },
  {
   "cell_type": "code",
   "execution_count": 10,
   "id": "5f241ef8-225b-438a-89bd-30350b73c3a0",
   "metadata": {},
   "outputs": [
    {
     "name": "stdout",
     "output_type": "stream",
     "text": [
      "Eric Idle\n"
     ]
    }
   ],
   "source": [
    "print(movies[4][1][3])"
   ]
  },
  {
   "cell_type": "code",
   "execution_count": 11,
   "id": "6c9ce68f-12ec-4c80-a9be-e67309c701aa",
   "metadata": {},
   "outputs": [
    {
     "name": "stdout",
     "output_type": "stream",
     "text": [
      "['The Holly Grail', 1975, 'Terry Jones & Terry Gilliam', 91, ['Graham Chapman', ['Michael Palin', 'John Cleese', 'Terry Gilliam', 'Eric Idle', 'Terry Jones']]]\n"
     ]
    }
   ],
   "source": [
    "print(movies)"
   ]
  },
  {
   "cell_type": "code",
   "execution_count": 12,
   "id": "826d876f-bbb8-4788-94f6-3d8ab479265b",
   "metadata": {},
   "outputs": [
    {
     "name": "stdout",
     "output_type": "stream",
     "text": [
      "The Holly Grail\n",
      "1975\n",
      "Terry Jones & Terry Gilliam\n",
      "91\n",
      "['Graham Chapman', ['Michael Palin', 'John Cleese', 'Terry Gilliam', 'Eric Idle', 'Terry Jones']]\n"
     ]
    }
   ],
   "source": [
    "for each_item in movies:\n",
    "    print(each_item)"
   ]
  },
  {
   "cell_type": "code",
   "execution_count": 15,
   "id": "26a932d4-b08e-4c0a-9e0e-ced0c1c2267f",
   "metadata": {},
   "outputs": [
    {
     "name": "stdout",
     "output_type": "stream",
     "text": [
      "The Holly Grail\n",
      "1975\n",
      "Terry Jones & Terry Gilliam\n",
      "91\n",
      "Graham Chapman\n",
      "Michael Palin\n",
      "John Cleese\n",
      "Terry Gilliam\n",
      "Eric Idle\n",
      "Terry Jones\n"
     ]
    }
   ],
   "source": [
    "# iterando listas dentros de listas\n",
    "for a in movies:\n",
    "    if isinstance(a, list):\n",
    "        for b in a:\n",
    "            if isinstance(b, list):\n",
    "                for c in b:\n",
    "                    print(c) # nivel 3\n",
    "            else:\n",
    "                print(b) # nivel 2\n",
    "    else:\n",
    "        print(a) # nivel 1"
   ]
  },
  {
   "cell_type": "code",
   "execution_count": 16,
   "id": "23898213-1c45-49c2-8026-bff730087201",
   "metadata": {},
   "outputs": [],
   "source": [
    "# usando recursividade para iterar vários niveis de lista\n",
    "def movie(my_movies):\n",
    "    for m in my_movies:\n",
    "        if isinstance(m, list):\n",
    "            return movie(m)\n",
    "        else:\n",
    "            print(m)\n"
   ]
  },
  {
   "cell_type": "code",
   "execution_count": 18,
   "id": "fa3d2147-2024-4479-885c-351ed9184bb7",
   "metadata": {},
   "outputs": [
    {
     "name": "stdout",
     "output_type": "stream",
     "text": [
      "The Holly Grail\n",
      "1975\n",
      "Terry Jones & Terry Gilliam\n",
      "91\n",
      "Graham Chapman\n",
      "Michael Palin\n",
      "John Cleese\n",
      "Terry Gilliam\n",
      "Eric Idle\n",
      "Terry Jones\n"
     ]
    }
   ],
   "source": [
    "movie(movies)"
   ]
  },
  {
   "cell_type": "markdown",
   "id": "7850c390-8684-49d4-a7d9-86fc4b4418fc",
   "metadata": {},
   "source": [
    "## FIM do capitulo 1"
   ]
  }
 ],
 "metadata": {
  "kernelspec": {
   "display_name": "Python 3",
   "language": "python",
   "name": "python3"
  },
  "language_info": {
   "codemirror_mode": {
    "name": "ipython",
    "version": 3
   },
   "file_extension": ".py",
   "mimetype": "text/x-python",
   "name": "python",
   "nbconvert_exporter": "python",
   "pygments_lexer": "ipython3",
   "version": "3.9.2"
  }
 },
 "nbformat": 4,
 "nbformat_minor": 5
}
