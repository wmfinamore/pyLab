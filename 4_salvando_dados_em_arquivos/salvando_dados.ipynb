{
 "cells": [
  {
   "cell_type": "code",
   "execution_count": 4,
   "id": "e5c0f41d-fcb3-4179-820a-cb44c37032a5",
   "metadata": {},
   "outputs": [
    {
     "name": "stdout",
     "output_type": "stream",
     "text": [
      "[' Is this the right room for an argument?\\n', \" No you haven't!\\n\", ' When?\\n', \" No you didn't!\\n\", \" You didn't!\\n\", ' You did not!\\n', ' Ah! (taking out his wallet and paying) Just the five minutes.\\n', ' You most certainly did not!\\n', \" Oh no you didn't!\\n\", \" Oh no you didn't!\\n\", \" Oh look, this isn't an argument!\\n\", \" No it isn't!\\n\", \" It's just contradiction!\\n\", ' It IS!\\n', ' You just contradicted me!\\n', ' You DID!\\n', ' You did just then!\\n', ' (exasperated) Oh, this is futile!!\\n', ' Yes it is!']\n",
      "[\" I've told you once.\\n\", ' Yes I have.\\n', ' Just now.\\n', ' Yes I did!\\n', \" I'm telling you, I did!\\n\", \" Oh I'm sorry, is this a five minute argument, or the full half hour?\\n\", ' Just the five minutes. Thank you.\\n', ' Anyway, I did.\\n', \" Now let's get one thing quite clear: I most definitely told you!\\n\", ' Oh yes I did!\\n', ' Oh yes I did!\\n', ' Yes it is!\\n', \" No it isn't!\\n\", ' It is NOT!\\n', \" No I didn't!\\n\", ' No no no!\\n', ' Nonsense!\\n', \" No it isn't!\\n\"]\n"
     ]
    }
   ],
   "source": [
    "# organizando os dados\n",
    "man = []\n",
    "other = []\n",
    "\n",
    "try:\n",
    "    data = open('sketch.txt')\n",
    "    for each_line in data:\n",
    "        try:\n",
    "            (role, line_spoken) = each_line.split(':', 1)\n",
    "            line_sponken = line_spoken.strip()\n",
    "            if role == 'Man':\n",
    "                man.append(line_spoken)\n",
    "            elif role == 'Other Man':\n",
    "                other.append(line_spoken)\n",
    "        except ValueError:\n",
    "            pass\n",
    "    data.close()\n",
    "except IOError:\n",
    "    print('The datafile is missing!')\n",
    "print(man)\n",
    "print(other)"
   ]
  },
  {
   "cell_type": "code",
   "execution_count": 5,
   "id": "1fdc113d-c6cf-44df-8d70-622110432ef8",
   "metadata": {},
   "outputs": [
    {
     "name": "stdout",
     "output_type": "stream",
     "text": [
      "[' Is this the right room for an argument?\\n', \" No you haven't!\\n\", ' When?\\n', \" No you didn't!\\n\", \" You didn't!\\n\", ' You did not!\\n', ' Ah! (taking out his wallet and paying) Just the five minutes.\\n', ' You most certainly did not!\\n', \" Oh no you didn't!\\n\", \" Oh no you didn't!\\n\", \" Oh look, this isn't an argument!\\n\", \" No it isn't!\\n\", \" It's just contradiction!\\n\", ' It IS!\\n', ' You just contradicted me!\\n', ' You DID!\\n', ' You did just then!\\n', ' (exasperated) Oh, this is futile!!\\n', ' Yes it is!']\n",
      "[\" I've told you once.\\n\", ' Yes I have.\\n', ' Just now.\\n', ' Yes I did!\\n', \" I'm telling you, I did!\\n\", \" Oh I'm sorry, is this a five minute argument, or the full half hour?\\n\", ' Just the five minutes. Thank you.\\n', ' Anyway, I did.\\n', \" Now let's get one thing quite clear: I most definitely told you!\\n\", ' Oh yes I did!\\n', ' Oh yes I did!\\n', ' Yes it is!\\n', \" No it isn't!\\n\", ' It is NOT!\\n', \" No I didn't!\\n\", ' No no no!\\n', ' Nonsense!\\n', \" No it isn't!\\n\"]\n"
     ]
    }
   ],
   "source": [
    "#gravando dados\n",
    "man = []\n",
    "other = []\n",
    "\n",
    "try:\n",
    "    data = open('sketch.txt')\n",
    "    for each_line in data:\n",
    "        try:\n",
    "            (role, line_spoken) = each_line.split(':', 1)\n",
    "            line_sponken = line_spoken.strip()\n",
    "            if role == 'Man':\n",
    "                man.append(line_spoken)\n",
    "            elif role == 'Other Man':\n",
    "                other.append(line_spoken)\n",
    "        except ValueError:\n",
    "            pass\n",
    "    data.close()\n",
    "except IOError:\n",
    "    print('The datafile is missing!')\n",
    "print(man)\n",
    "print(other)\n",
    "try:\n",
    "    man_out = open(\"man.out\", \"w\")\n",
    "    other_out = open(\"other.out\", \"w\")\n",
    "    print(man, file=man_out)\n",
    "    print(other, file=other_out)\n",
    "except IOError:\n",
    "    print('File error')\n",
    "finally:\n",
    "    # caso ocorra um erro, é necessário fechar os arquivos\n",
    "    man_out.close()\n",
    "    other_out.close()\n",
    "    "
   ]
  },
  {
   "cell_type": "code",
   "execution_count": 6,
   "id": "ec655984-4e68-4c1f-8895-87fefb57480d",
   "metadata": {},
   "outputs": [
    {
     "name": "stdout",
     "output_type": "stream",
     "text": [
      "File Error: [Errno 2] No such file or directory: 'missing.txt'\n"
     ]
    }
   ],
   "source": [
    "#Simulando erro e tratando\n",
    "try:\n",
    "    data = open('missing.txt')\n",
    "    print(data.readline(), end='')\n",
    "except IOError as err:\n",
    "    print('File Error: '+ str(err))\n",
    "finally:\n",
    "    if 'data' in locals():\n",
    "        data.close()"
   ]
  },
  {
   "cell_type": "code",
   "execution_count": 7,
   "id": "e9d3de6a-963b-49de-a5a1-efd11e149367",
   "metadata": {},
   "outputs": [],
   "source": [
    "# usando with para tratar arquivos\n",
    "try:\n",
    "    with open('its.txt', \"w\") as data:\n",
    "        print(\"It's...\", file=data)\n",
    "except IOError as err:\n",
    "    print('File erro: '+ str(err))"
   ]
  },
  {
   "cell_type": "code",
   "execution_count": 8,
   "id": "fdd6d477-03df-455b-8a6a-0466edbc3049",
   "metadata": {},
   "outputs": [],
   "source": [
    "# outro exemplo usando with\n",
    "\n",
    "try:\n",
    "    with open('man_data.txt', 'w') as data:\n",
    "        print(man, file=data)\n",
    "        \n",
    "    with open('other_data.txt', 'w') as data:\n",
    "        print(other, file=data)\n",
    "except IOError as err:\n",
    "    print('File error: '+ str(err))\n",
    "        "
   ]
  },
  {
   "cell_type": "code",
   "execution_count": 9,
   "id": "34d76656-73e9-41f4-9b1d-c6a2ebabfb55",
   "metadata": {},
   "outputs": [],
   "source": [
    "# função print_lol com argumento para indicar um local para salvar os dados\n",
    "import sys\n",
    "\n",
    "\n",
    "def print_lol(the_list, tab=False, level=0, fh=sys.stdout):\n",
    "    try:\n",
    "        with open(fh, 'w') as data:\n",
    "            l = level\n",
    "            t = tab\n",
    "            for each_item in the_list:\n",
    "                if isinstance(each_item, list):\n",
    "                    print_lol(each_item,t, l+1, data)\n",
    "                else:\n",
    "                    if t:\n",
    "                        for tab in range(l):\n",
    "                            print(\"\\t\", end='', file=data)\n",
    "                    print(each_item, file=data)\n",
    "    except IOError as err:\n",
    "        print('File error: ' + str(err))\n",
    "    except:\n",
    "        print('Unspecified Error')\n"
   ]
  },
  {
   "cell_type": "code",
   "execution_count": 10,
   "id": "c86c0ac0-b0e7-42f4-94fc-a76f3d51f904",
   "metadata": {},
   "outputs": [],
   "source": [
    "print_lol(man, fh='man_file.txt' )"
   ]
  },
  {
   "cell_type": "code",
   "execution_count": 11,
   "id": "b62b6b23-5dcb-49df-913a-37da49da84f1",
   "metadata": {},
   "outputs": [
    {
     "name": "stdout",
     "output_type": "stream",
     "text": [
      "Unspecified Error\n"
     ]
    }
   ],
   "source": [
    "print_lol(man)"
   ]
  },
  {
   "cell_type": "code",
   "execution_count": 12,
   "id": "c9943b62-0998-49d0-b239-e0a3a07726a3",
   "metadata": {},
   "outputs": [
    {
     "name": "stdout",
     "output_type": "stream",
     "text": [
      "[1, 2, 'three']\n"
     ]
    }
   ],
   "source": [
    "# usando módulo pickle para dump e load de dados\n",
    "import pickle\n",
    "\n",
    "\n",
    "with open('mydata.pickle', 'wb') as mysavedata:\n",
    "    pickle.dump([1, 2, 'three'], mysavedata)\n",
    "    \n",
    "with open('mydata.pickle', 'rb') as myrestoredata:\n",
    "    a_list = pickle.load(myrestoredata)\n",
    "    \n",
    "print(a_list)"
   ]
  },
  {
   "cell_type": "code",
   "execution_count": 14,
   "id": "f7634c4d-00cb-460a-b2d6-dcd8faa3e108",
   "metadata": {},
   "outputs": [],
   "source": [
    "# substituindo print_lol\n",
    "\n",
    "import pickle\n",
    "\n",
    "\n",
    "try:\n",
    "    with open('man_data.txt', 'wb') as man_file, open('other_data.txt', 'wb') as other_file:\n",
    "        pickle.dump(man, man_file)\n",
    "        pickle.dump(other, other_file)\n",
    "except pickle.PickleError as perr:\n",
    "    print('Pickling error: '+str(err))"
   ]
  },
  {
   "cell_type": "code",
   "execution_count": 17,
   "id": "01544017-f699-4b95-90ed-14e24a326621",
   "metadata": {},
   "outputs": [
    {
     "data": {
      "text/plain": [
       "{'__name__': '__main__',\n",
       " '__doc__': 'Automatically created module for IPython interactive environment',\n",
       " '__package__': None,\n",
       " '__loader__': None,\n",
       " '__spec__': None,\n",
       " '__builtin__': <module 'builtins' (built-in)>,\n",
       " '__builtins__': <module 'builtins' (built-in)>,\n",
       " '_ih': ['',\n",
       "  \"# usando módulo pickle para dump e load de dados\\nimport pickle\\n\\n\\nwith open('mydata.pickle', 'wb') as mysavedata:\\n    pickle.dump([1, 2, 'three'], mysavedata)\\n    \\nwith open('mydata.pickle', 'rb') as myrestoradedata:\\n    a_list = pickle.load(myrestoredata)\\n    \\nprint(a_list)\",\n",
       "  \"# usando módulo pickle para dump e load de dados\\nimport pickle\\n\\n\\nwith open('mydata.pickle', 'wb') as mysavedata:\\n    pickle.dump([1, 2, 'three'], mysavedata)\\n    \\nwith open('mydata.pickle', 'rb') as myrestoredata:\\n    a_list = pickle.load(myrestoredata)\\n    \\nprint(a_list)\",\n",
       "  \"# substituindo print_lol\\n\\nimport pickle\\n\\n\\ntry:\\n    with open('man_data.txt', 'wb') as man_file, open('other_data.txt', 'wb') as other_data:\\n        pickle.dump(man, man_file)\\n        pickle.dump(other, other_file)\\nexcept pickle.PickleError as perr:\\n    print('Pickling error: '+str(err))\",\n",
       "  \"# organizando os dados\\nman = []\\nother = []\\n\\ntry:\\n    data = open('sketch.txt')\\n    for each_line in data:\\n        try:\\n            (role, line_spoken) = each_line.split(':', 1)\\n            line_sponken = line_spoken.strip()\\n            if role == 'Man':\\n                man.append(line_spoken)\\n            elif role == 'Other Man':\\n                other.append(line_spoken)\\n        except ValueError:\\n            pass\\n    data.close()\\nexcept IOError:\\n    print('The datafile is missing!')\\nprint(man)\\nprint(other)\",\n",
       "  '#gravando dados\\nman = []\\nother = []\\n\\ntry:\\n    data = open(\\'sketch.txt\\')\\n    for each_line in data:\\n        try:\\n            (role, line_spoken) = each_line.split(\\':\\', 1)\\n            line_sponken = line_spoken.strip()\\n            if role == \\'Man\\':\\n                man.append(line_spoken)\\n            elif role == \\'Other Man\\':\\n                other.append(line_spoken)\\n        except ValueError:\\n            pass\\n    data.close()\\nexcept IOError:\\n    print(\\'The datafile is missing!\\')\\nprint(man)\\nprint(other)\\ntry:\\n    man_out = open(\"man.out\", \"w\")\\n    other_out = open(\"other.out\", \"w\")\\n    print(man, file=man_out)\\n    print(other, file=other_out)\\nexcept IOError:\\n    print(\\'File error\\')\\nfinally:\\n    # caso ocorra um erro, é necessário fechar os arquivos\\n    man_out.close()\\n    other_out.close()\\n    ',\n",
       "  \"#Simulando erro e tratando\\ntry:\\n    data = open('missing.txt')\\n    print(data.readline(), end='')\\nexcept IOError as err:\\n    print('File Error: '+ str(err))\\nfinally:\\n    if 'data' in locals():\\n        data.close()\",\n",
       "  '# usando with para tratar arquivos\\ntry:\\n    with open(\\'its.txt\\', \"w\") as data:\\n        print(\"It\\'s...\", file=data)\\nexcept IOError as err:\\n    print(\\'File erro: \\'+ str(err))',\n",
       "  \"# outro exemplo usando with\\n\\ntry:\\n    with open('man_data.txt', 'w') as data:\\n        print(man, file=data)\\n        \\n    with open('other_data.txt', 'w') as data:\\n        print(other, file=data)\\nexcept IOError as err:\\n    print('File error: '+ str(err))\\n        \",\n",
       "  '# função print_lol com argumento para indicar um local para salvar os dados\\nimport sys\\n\\n\\ndef print_lol(the_list, tab=False, level=0, fh=sys.stdout):\\n    try:\\n        with open(fh, \\'w\\') as data:\\n            l = level\\n            t = tab\\n            for each_item in the_list:\\n                if isinstance(each_item, list):\\n                    print_lol(each_item,t, l+1, data)\\n                else:\\n                    if t:\\n                        for tab in range(l):\\n                            print(\"\\\\t\", end=\\'\\', file=data)\\n                    print(each_item, file=data)\\n    except IOError as err:\\n        print(\\'File error: \\' + str(err))\\n    except:\\n        print(\\'Unspecified Error\\')',\n",
       "  \"print_lol(man, fh='man_file.txt' )\",\n",
       "  'print_lol(man)',\n",
       "  \"# usando módulo pickle para dump e load de dados\\nimport pickle\\n\\n\\nwith open('mydata.pickle', 'wb') as mysavedata:\\n    pickle.dump([1, 2, 'three'], mysavedata)\\n    \\nwith open('mydata.pickle', 'rb') as myrestoredata:\\n    a_list = pickle.load(myrestoredata)\\n    \\nprint(a_list)\",\n",
       "  \"# substituindo print_lol\\n\\nimport pickle\\n\\n\\ntry:\\n    with open('man_data.txt', 'wb') as man_file, open('other_data.txt', 'wb') as other_data:\\n        pickle.dump(man, man_file)\\n        pickle.dump(other, other_file)\\nexcept pickle.PickleError as perr:\\n    print('Pickling error: '+str(err))\",\n",
       "  \"# substituindo print_lol\\n\\nimport pickle\\n\\n\\ntry:\\n    with open('man_data.txt', 'wb') as man_file, open('other_data.txt', 'wb') as other_file:\\n        pickle.dump(man, man_file)\\n        pickle.dump(other, other_file)\\nexcept pickle.PickleError as perr:\\n    print('Pickling error: '+str(err))\",\n",
       "  'locals()',\n",
       "  '# lista as variáveis do escopo atual\\nlocals()',\n",
       "  '# lista as variáveis do escopo atual\\nlocals()'],\n",
       " '_oh': {15: {...}, 16: {...}},\n",
       " '_dh': ['C:\\\\DES\\\\pylab\\\\4_salvando_dados_em_arquivos'],\n",
       " 'In': ['',\n",
       "  \"# usando módulo pickle para dump e load de dados\\nimport pickle\\n\\n\\nwith open('mydata.pickle', 'wb') as mysavedata:\\n    pickle.dump([1, 2, 'three'], mysavedata)\\n    \\nwith open('mydata.pickle', 'rb') as myrestoradedata:\\n    a_list = pickle.load(myrestoredata)\\n    \\nprint(a_list)\",\n",
       "  \"# usando módulo pickle para dump e load de dados\\nimport pickle\\n\\n\\nwith open('mydata.pickle', 'wb') as mysavedata:\\n    pickle.dump([1, 2, 'three'], mysavedata)\\n    \\nwith open('mydata.pickle', 'rb') as myrestoredata:\\n    a_list = pickle.load(myrestoredata)\\n    \\nprint(a_list)\",\n",
       "  \"# substituindo print_lol\\n\\nimport pickle\\n\\n\\ntry:\\n    with open('man_data.txt', 'wb') as man_file, open('other_data.txt', 'wb') as other_data:\\n        pickle.dump(man, man_file)\\n        pickle.dump(other, other_file)\\nexcept pickle.PickleError as perr:\\n    print('Pickling error: '+str(err))\",\n",
       "  \"# organizando os dados\\nman = []\\nother = []\\n\\ntry:\\n    data = open('sketch.txt')\\n    for each_line in data:\\n        try:\\n            (role, line_spoken) = each_line.split(':', 1)\\n            line_sponken = line_spoken.strip()\\n            if role == 'Man':\\n                man.append(line_spoken)\\n            elif role == 'Other Man':\\n                other.append(line_spoken)\\n        except ValueError:\\n            pass\\n    data.close()\\nexcept IOError:\\n    print('The datafile is missing!')\\nprint(man)\\nprint(other)\",\n",
       "  '#gravando dados\\nman = []\\nother = []\\n\\ntry:\\n    data = open(\\'sketch.txt\\')\\n    for each_line in data:\\n        try:\\n            (role, line_spoken) = each_line.split(\\':\\', 1)\\n            line_sponken = line_spoken.strip()\\n            if role == \\'Man\\':\\n                man.append(line_spoken)\\n            elif role == \\'Other Man\\':\\n                other.append(line_spoken)\\n        except ValueError:\\n            pass\\n    data.close()\\nexcept IOError:\\n    print(\\'The datafile is missing!\\')\\nprint(man)\\nprint(other)\\ntry:\\n    man_out = open(\"man.out\", \"w\")\\n    other_out = open(\"other.out\", \"w\")\\n    print(man, file=man_out)\\n    print(other, file=other_out)\\nexcept IOError:\\n    print(\\'File error\\')\\nfinally:\\n    # caso ocorra um erro, é necessário fechar os arquivos\\n    man_out.close()\\n    other_out.close()\\n    ',\n",
       "  \"#Simulando erro e tratando\\ntry:\\n    data = open('missing.txt')\\n    print(data.readline(), end='')\\nexcept IOError as err:\\n    print('File Error: '+ str(err))\\nfinally:\\n    if 'data' in locals():\\n        data.close()\",\n",
       "  '# usando with para tratar arquivos\\ntry:\\n    with open(\\'its.txt\\', \"w\") as data:\\n        print(\"It\\'s...\", file=data)\\nexcept IOError as err:\\n    print(\\'File erro: \\'+ str(err))',\n",
       "  \"# outro exemplo usando with\\n\\ntry:\\n    with open('man_data.txt', 'w') as data:\\n        print(man, file=data)\\n        \\n    with open('other_data.txt', 'w') as data:\\n        print(other, file=data)\\nexcept IOError as err:\\n    print('File error: '+ str(err))\\n        \",\n",
       "  '# função print_lol com argumento para indicar um local para salvar os dados\\nimport sys\\n\\n\\ndef print_lol(the_list, tab=False, level=0, fh=sys.stdout):\\n    try:\\n        with open(fh, \\'w\\') as data:\\n            l = level\\n            t = tab\\n            for each_item in the_list:\\n                if isinstance(each_item, list):\\n                    print_lol(each_item,t, l+1, data)\\n                else:\\n                    if t:\\n                        for tab in range(l):\\n                            print(\"\\\\t\", end=\\'\\', file=data)\\n                    print(each_item, file=data)\\n    except IOError as err:\\n        print(\\'File error: \\' + str(err))\\n    except:\\n        print(\\'Unspecified Error\\')',\n",
       "  \"print_lol(man, fh='man_file.txt' )\",\n",
       "  'print_lol(man)',\n",
       "  \"# usando módulo pickle para dump e load de dados\\nimport pickle\\n\\n\\nwith open('mydata.pickle', 'wb') as mysavedata:\\n    pickle.dump([1, 2, 'three'], mysavedata)\\n    \\nwith open('mydata.pickle', 'rb') as myrestoredata:\\n    a_list = pickle.load(myrestoredata)\\n    \\nprint(a_list)\",\n",
       "  \"# substituindo print_lol\\n\\nimport pickle\\n\\n\\ntry:\\n    with open('man_data.txt', 'wb') as man_file, open('other_data.txt', 'wb') as other_data:\\n        pickle.dump(man, man_file)\\n        pickle.dump(other, other_file)\\nexcept pickle.PickleError as perr:\\n    print('Pickling error: '+str(err))\",\n",
       "  \"# substituindo print_lol\\n\\nimport pickle\\n\\n\\ntry:\\n    with open('man_data.txt', 'wb') as man_file, open('other_data.txt', 'wb') as other_file:\\n        pickle.dump(man, man_file)\\n        pickle.dump(other, other_file)\\nexcept pickle.PickleError as perr:\\n    print('Pickling error: '+str(err))\",\n",
       "  'locals()',\n",
       "  '# lista as variáveis do escopo atual\\nlocals()',\n",
       "  '# lista as variáveis do escopo atual\\nlocals()'],\n",
       " 'Out': {15: {...}, 16: {...}},\n",
       " 'get_ipython': <bound method InteractiveShell.get_ipython of <ipykernel.zmqshell.ZMQInteractiveShell object at 0x000001EB1301E1C0>>,\n",
       " 'exit': <IPython.core.autocall.ZMQExitAutocall at 0x1eb1301ee20>,\n",
       " 'quit': <IPython.core.autocall.ZMQExitAutocall at 0x1eb1301ee20>,\n",
       " '_': {...},\n",
       " '__': {...},\n",
       " '___': '',\n",
       " '_i': '# lista as variáveis do escopo atual\\nlocals()',\n",
       " '_ii': 'locals()',\n",
       " '_iii': \"# substituindo print_lol\\n\\nimport pickle\\n\\n\\ntry:\\n    with open('man_data.txt', 'wb') as man_file, open('other_data.txt', 'wb') as other_file:\\n        pickle.dump(man, man_file)\\n        pickle.dump(other, other_file)\\nexcept pickle.PickleError as perr:\\n    print('Pickling error: '+str(err))\",\n",
       " '_i1': \"# usando módulo pickle para dump e load de dados\\nimport pickle\\n\\n\\nwith open('mydata.pickle', 'wb') as mysavedata:\\n    pickle.dump([1, 2, 'three'], mysavedata)\\n    \\nwith open('mydata.pickle', 'rb') as myrestoradedata:\\n    a_list = pickle.load(myrestoredata)\\n    \\nprint(a_list)\",\n",
       " 'pickle': <module 'pickle' from 'C:\\\\Users\\\\wmfin\\\\AppData\\\\Local\\\\Programs\\\\Python\\\\Python39\\\\lib\\\\pickle.py'>,\n",
       " 'mysavedata': <_io.BufferedWriter name='mydata.pickle'>,\n",
       " 'myrestoradedata': <_io.BufferedReader name='mydata.pickle'>,\n",
       " '_i2': \"# usando módulo pickle para dump e load de dados\\nimport pickle\\n\\n\\nwith open('mydata.pickle', 'wb') as mysavedata:\\n    pickle.dump([1, 2, 'three'], mysavedata)\\n    \\nwith open('mydata.pickle', 'rb') as myrestoredata:\\n    a_list = pickle.load(myrestoredata)\\n    \\nprint(a_list)\",\n",
       " 'myrestoredata': <_io.BufferedReader name='mydata.pickle'>,\n",
       " 'a_list': [1, 2, 'three'],\n",
       " '_i3': \"# substituindo print_lol\\n\\nimport pickle\\n\\n\\ntry:\\n    with open('man_data.txt', 'wb') as man_file, open('other_data.txt', 'wb') as other_data:\\n        pickle.dump(man, man_file)\\n        pickle.dump(other, other_file)\\nexcept pickle.PickleError as perr:\\n    print('Pickling error: '+str(err))\",\n",
       " 'man_file': <_io.BufferedWriter name='man_data.txt'>,\n",
       " 'other_data': <_io.BufferedWriter name='other_data.txt'>,\n",
       " '_i4': \"# organizando os dados\\nman = []\\nother = []\\n\\ntry:\\n    data = open('sketch.txt')\\n    for each_line in data:\\n        try:\\n            (role, line_spoken) = each_line.split(':', 1)\\n            line_sponken = line_spoken.strip()\\n            if role == 'Man':\\n                man.append(line_spoken)\\n            elif role == 'Other Man':\\n                other.append(line_spoken)\\n        except ValueError:\\n            pass\\n    data.close()\\nexcept IOError:\\n    print('The datafile is missing!')\\nprint(man)\\nprint(other)\",\n",
       " 'man': [' Is this the right room for an argument?\\n',\n",
       "  \" No you haven't!\\n\",\n",
       "  ' When?\\n',\n",
       "  \" No you didn't!\\n\",\n",
       "  \" You didn't!\\n\",\n",
       "  ' You did not!\\n',\n",
       "  ' Ah! (taking out his wallet and paying) Just the five minutes.\\n',\n",
       "  ' You most certainly did not!\\n',\n",
       "  \" Oh no you didn't!\\n\",\n",
       "  \" Oh no you didn't!\\n\",\n",
       "  \" Oh look, this isn't an argument!\\n\",\n",
       "  \" No it isn't!\\n\",\n",
       "  \" It's just contradiction!\\n\",\n",
       "  ' It IS!\\n',\n",
       "  ' You just contradicted me!\\n',\n",
       "  ' You DID!\\n',\n",
       "  ' You did just then!\\n',\n",
       "  ' (exasperated) Oh, this is futile!!\\n',\n",
       "  ' Yes it is!'],\n",
       " 'other': [\" I've told you once.\\n\",\n",
       "  ' Yes I have.\\n',\n",
       "  ' Just now.\\n',\n",
       "  ' Yes I did!\\n',\n",
       "  \" I'm telling you, I did!\\n\",\n",
       "  \" Oh I'm sorry, is this a five minute argument, or the full half hour?\\n\",\n",
       "  ' Just the five minutes. Thank you.\\n',\n",
       "  ' Anyway, I did.\\n',\n",
       "  \" Now let's get one thing quite clear: I most definitely told you!\\n\",\n",
       "  ' Oh yes I did!\\n',\n",
       "  ' Oh yes I did!\\n',\n",
       "  ' Yes it is!\\n',\n",
       "  \" No it isn't!\\n\",\n",
       "  ' It is NOT!\\n',\n",
       "  \" No I didn't!\\n\",\n",
       "  ' No no no!\\n',\n",
       "  ' Nonsense!\\n',\n",
       "  \" No it isn't!\\n\"],\n",
       " 'data': <_io.TextIOWrapper name='other_data.txt' mode='w' encoding='cp1252'>,\n",
       " 'each_line': 'Man: Yes it is!',\n",
       " 'role': 'Man',\n",
       " 'line_spoken': ' Yes it is!',\n",
       " 'line_sponken': 'Yes it is!',\n",
       " '_i5': '#gravando dados\\nman = []\\nother = []\\n\\ntry:\\n    data = open(\\'sketch.txt\\')\\n    for each_line in data:\\n        try:\\n            (role, line_spoken) = each_line.split(\\':\\', 1)\\n            line_sponken = line_spoken.strip()\\n            if role == \\'Man\\':\\n                man.append(line_spoken)\\n            elif role == \\'Other Man\\':\\n                other.append(line_spoken)\\n        except ValueError:\\n            pass\\n    data.close()\\nexcept IOError:\\n    print(\\'The datafile is missing!\\')\\nprint(man)\\nprint(other)\\ntry:\\n    man_out = open(\"man.out\", \"w\")\\n    other_out = open(\"other.out\", \"w\")\\n    print(man, file=man_out)\\n    print(other, file=other_out)\\nexcept IOError:\\n    print(\\'File error\\')\\nfinally:\\n    # caso ocorra um erro, é necessário fechar os arquivos\\n    man_out.close()\\n    other_out.close()\\n    ',\n",
       " 'man_out': <_io.TextIOWrapper name='man.out' mode='w' encoding='cp1252'>,\n",
       " 'other_out': <_io.TextIOWrapper name='other.out' mode='w' encoding='cp1252'>,\n",
       " '_i6': \"#Simulando erro e tratando\\ntry:\\n    data = open('missing.txt')\\n    print(data.readline(), end='')\\nexcept IOError as err:\\n    print('File Error: '+ str(err))\\nfinally:\\n    if 'data' in locals():\\n        data.close()\",\n",
       " '_i7': '# usando with para tratar arquivos\\ntry:\\n    with open(\\'its.txt\\', \"w\") as data:\\n        print(\"It\\'s...\", file=data)\\nexcept IOError as err:\\n    print(\\'File erro: \\'+ str(err))',\n",
       " '_i8': \"# outro exemplo usando with\\n\\ntry:\\n    with open('man_data.txt', 'w') as data:\\n        print(man, file=data)\\n        \\n    with open('other_data.txt', 'w') as data:\\n        print(other, file=data)\\nexcept IOError as err:\\n    print('File error: '+ str(err))\\n        \",\n",
       " '_i9': '# função print_lol com argumento para indicar um local para salvar os dados\\nimport sys\\n\\n\\ndef print_lol(the_list, tab=False, level=0, fh=sys.stdout):\\n    try:\\n        with open(fh, \\'w\\') as data:\\n            l = level\\n            t = tab\\n            for each_item in the_list:\\n                if isinstance(each_item, list):\\n                    print_lol(each_item,t, l+1, data)\\n                else:\\n                    if t:\\n                        for tab in range(l):\\n                            print(\"\\\\t\", end=\\'\\', file=data)\\n                    print(each_item, file=data)\\n    except IOError as err:\\n        print(\\'File error: \\' + str(err))\\n    except:\\n        print(\\'Unspecified Error\\')',\n",
       " 'sys': <module 'sys' (built-in)>,\n",
       " 'print_lol': <function __main__.print_lol(the_list, tab=False, level=0, fh=<ipykernel.iostream.OutStream object at 0x000001EB12FABBE0>)>,\n",
       " '_i10': \"print_lol(man, fh='man_file.txt' )\",\n",
       " '_i11': 'print_lol(man)',\n",
       " '_i12': \"# usando módulo pickle para dump e load de dados\\nimport pickle\\n\\n\\nwith open('mydata.pickle', 'wb') as mysavedata:\\n    pickle.dump([1, 2, 'three'], mysavedata)\\n    \\nwith open('mydata.pickle', 'rb') as myrestoredata:\\n    a_list = pickle.load(myrestoredata)\\n    \\nprint(a_list)\",\n",
       " '_i13': \"# substituindo print_lol\\n\\nimport pickle\\n\\n\\ntry:\\n    with open('man_data.txt', 'wb') as man_file, open('other_data.txt', 'wb') as other_data:\\n        pickle.dump(man, man_file)\\n        pickle.dump(other, other_file)\\nexcept pickle.PickleError as perr:\\n    print('Pickling error: '+str(err))\",\n",
       " '_i14': \"# substituindo print_lol\\n\\nimport pickle\\n\\n\\ntry:\\n    with open('man_data.txt', 'wb') as man_file, open('other_data.txt', 'wb') as other_file:\\n        pickle.dump(man, man_file)\\n        pickle.dump(other, other_file)\\nexcept pickle.PickleError as perr:\\n    print('Pickling error: '+str(err))\",\n",
       " 'other_file': <_io.BufferedWriter name='other_data.txt'>,\n",
       " '_i15': 'locals()',\n",
       " '_15': {...},\n",
       " '_i16': '# lista as variáveis do escopo atual\\nlocals()',\n",
       " '_16': {...},\n",
       " '_i17': '# lista as variáveis do escopo atual\\nlocals()'}"
      ]
     },
     "execution_count": 17,
     "metadata": {},
     "output_type": "execute_result"
    }
   ],
   "source": [
    "# lista as variáveis do escopo atual\n",
    "locals()"
   ]
  },
  {
   "cell_type": "markdown",
   "id": "2276dfb2-5777-4d42-85e3-153ea2cdc977",
   "metadata": {},
   "source": [
    "# FIM DO MÓDULO 4"
   ]
  }
 ],
 "metadata": {
  "kernelspec": {
   "display_name": "Python 3",
   "language": "python",
   "name": "python3"
  },
  "language_info": {
   "codemirror_mode": {
    "name": "ipython",
    "version": 3
   },
   "file_extension": ".py",
   "mimetype": "text/x-python",
   "name": "python",
   "nbconvert_exporter": "python",
   "pygments_lexer": "ipython3",
   "version": "3.9.2"
  }
 },
 "nbformat": 4,
 "nbformat_minor": 5
}
