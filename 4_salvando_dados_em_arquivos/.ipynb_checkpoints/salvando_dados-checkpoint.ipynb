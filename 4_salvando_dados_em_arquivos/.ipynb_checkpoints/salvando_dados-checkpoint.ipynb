{
 "cells": [
  {
   "cell_type": "code",
   "execution_count": 1,
   "id": "e5c0f41d-fcb3-4179-820a-cb44c37032a5",
   "metadata": {},
   "outputs": [
    {
     "name": "stdout",
     "output_type": "stream",
     "text": [
      "[' Is this the right room for an argument?\\n', \" No you haven't!\\n\", ' When?\\n', \" No you didn't!\\n\", \" You didn't!\\n\", ' You did not!\\n', ' Ah! (taking out his wallet and paying) Just the five minutes.\\n', ' You most certainly did not!\\n', \" Oh no you didn't!\\n\", \" Oh no you didn't!\\n\", \" Oh look, this isn't an argument!\\n\", \" No it isn't!\\n\", \" It's just contradiction!\\n\", ' It IS!\\n', ' You just contradicted me!\\n', ' You DID!\\n', ' You did just then!\\n', ' (exasperated) Oh, this is futile!!\\n', ' Yes it is!']\n",
      "[\" I've told you once.\\n\", ' Yes I have.\\n', ' Just now.\\n', ' Yes I did!\\n', \" I'm telling you, I did!\\n\", \" Oh I'm sorry, is this a five minute argument, or the full half hour?\\n\", ' Just the five minutes. Thank you.\\n', ' Anyway, I did.\\n', \" Now let's get one thing quite clear: I most definitely told you!\\n\", ' Oh yes I did!\\n', ' Oh yes I did!\\n', ' Yes it is!\\n', \" No it isn't!\\n\", ' It is NOT!\\n', \" No I didn't!\\n\", ' No no no!\\n', ' Nonsense!\\n', \" No it isn't!\\n\"]\n"
     ]
    }
   ],
   "source": [
    "# organizando os dados\n",
    "man = []\n",
    "other = []\n",
    "\n",
    "try:\n",
    "    data = open('sketch.txt')\n",
    "    for each_line in data:\n",
    "        try:\n",
    "            (role, line_spoken) = each_line.split(':', 1)\n",
    "            line_sponken = line_spoken.strip()\n",
    "            if role == 'Man':\n",
    "                man.append(line_spoken)\n",
    "            elif role == 'Other Man':\n",
    "                other.append(line_spoken)\n",
    "        except ValueError:\n",
    "            pass\n",
    "    data.close()\n",
    "except IOError:\n",
    "    print('The datafile is missing!')\n",
    "print(man)\n",
    "print(other)"
   ]
  },
  {
   "cell_type": "code",
   "execution_count": 3,
   "id": "1fdc113d-c6cf-44df-8d70-622110432ef8",
   "metadata": {},
   "outputs": [
    {
     "name": "stdout",
     "output_type": "stream",
     "text": [
      "[' Is this the right room for an argument?\\n', \" No you haven't!\\n\", ' When?\\n', \" No you didn't!\\n\", \" You didn't!\\n\", ' You did not!\\n', ' Ah! (taking out his wallet and paying) Just the five minutes.\\n', ' You most certainly did not!\\n', \" Oh no you didn't!\\n\", \" Oh no you didn't!\\n\", \" Oh look, this isn't an argument!\\n\", \" No it isn't!\\n\", \" It's just contradiction!\\n\", ' It IS!\\n', ' You just contradicted me!\\n', ' You DID!\\n', ' You did just then!\\n', ' (exasperated) Oh, this is futile!!\\n', ' Yes it is!']\n",
      "[\" I've told you once.\\n\", ' Yes I have.\\n', ' Just now.\\n', ' Yes I did!\\n', \" I'm telling you, I did!\\n\", \" Oh I'm sorry, is this a five minute argument, or the full half hour?\\n\", ' Just the five minutes. Thank you.\\n', ' Anyway, I did.\\n', \" Now let's get one thing quite clear: I most definitely told you!\\n\", ' Oh yes I did!\\n', ' Oh yes I did!\\n', ' Yes it is!\\n', \" No it isn't!\\n\", ' It is NOT!\\n', \" No I didn't!\\n\", ' No no no!\\n', ' Nonsense!\\n', \" No it isn't!\\n\"]\n"
     ]
    }
   ],
   "source": [
    "#gravando dados\n",
    "man = []\n",
    "other = []\n",
    "\n",
    "try:\n",
    "    data = open('sketch.txt')\n",
    "    for each_line in data:\n",
    "        try:\n",
    "            (role, line_spoken) = each_line.split(':', 1)\n",
    "            line_sponken = line_spoken.strip()\n",
    "            if role == 'Man':\n",
    "                man.append(line_spoken)\n",
    "            elif role == 'Other Man':\n",
    "                other.append(line_spoken)\n",
    "        except ValueError:\n",
    "            pass\n",
    "    data.close()\n",
    "except IOError:\n",
    "    print('The datafile is missing!')\n",
    "print(man)\n",
    "print(other)\n",
    "try:\n",
    "    man_out = open(\"man.out\", \"w\")\n",
    "    other_out = open(\"other.out\", \"w\")\n",
    "    print(man, file=man_out)\n",
    "    print(other, file=other_out)\n",
    "except IOError:\n",
    "    print('File error')\n",
    "finally:\n",
    "    # caso ocorra um erro, é necessário fechar os arquivos\n",
    "    man_out.close()\n",
    "    other_out.close()\n",
    "    "
   ]
  },
  {
   "cell_type": "code",
   "execution_count": 5,
   "id": "ec655984-4e68-4c1f-8895-87fefb57480d",
   "metadata": {},
   "outputs": [
    {
     "name": "stdout",
     "output_type": "stream",
     "text": [
      "File Error: [Errno 2] No such file or directory: 'missing.txt'\n"
     ]
    }
   ],
   "source": [
    "#Simulando erro e tratando\n",
    "try:\n",
    "    data = open('missing.txt')\n",
    "    print(data.readline(), end='')\n",
    "except IOError as err:\n",
    "    print('File Error: '+ str(err))\n",
    "finally:\n",
    "    if 'data' in locals():\n",
    "        data.close()"
   ]
  },
  {
   "cell_type": "code",
   "execution_count": null,
   "id": "e9d3de6a-963b-49de-a5a1-efd11e149367",
   "metadata": {},
   "outputs": [],
   "source": []
  }
 ],
 "metadata": {
  "kernelspec": {
   "display_name": "Python 3",
   "language": "python",
   "name": "python3"
  },
  "language_info": {
   "codemirror_mode": {
    "name": "ipython",
    "version": 3
   },
   "file_extension": ".py",
   "mimetype": "text/x-python",
   "name": "python",
   "nbconvert_exporter": "python",
   "pygments_lexer": "ipython3",
   "version": "3.9.2"
  }
 },
 "nbformat": 4,
 "nbformat_minor": 5
}
