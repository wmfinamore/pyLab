{
 "cells": [
  {
   "cell_type": "code",
   "execution_count": 3,
   "id": "4e8ba637-c587-495b-a408-4898df487596",
   "metadata": {},
   "outputs": [
    {
     "ename": "SyntaxError",
     "evalue": "invalid syntax (<ipython-input-3-bf92aaff0af0>, line 1)",
     "output_type": "error",
     "traceback": [
      "\u001b[1;36m  File \u001b[1;32m\"<ipython-input-3-bf92aaff0af0>\"\u001b[1;36m, line \u001b[1;32m1\u001b[0m\n\u001b[1;33m    import template t\u001b[0m\n\u001b[1;37m                    ^\u001b[0m\n\u001b[1;31mSyntaxError\u001b[0m\u001b[1;31m:\u001b[0m invalid syntax\n"
     ]
    }
   ],
   "source": [
    "import template t"
   ]
  },
  {
   "cell_type": "code",
   "execution_count": 4,
   "id": "2cd132d6-acef-4772-93ef-afc162b3da92",
   "metadata": {},
   "outputs": [],
   "source": [
    "import template"
   ]
  },
  {
   "cell_type": "code",
   "execution_count": 5,
   "id": "29a33026-698e-4358-bc91-b0df8f426ac2",
   "metadata": {},
   "outputs": [
    {
     "data": {
      "text/plain": [
       "'Content-type: text/html\\n\\n'"
      ]
     },
     "execution_count": 5,
     "metadata": {},
     "output_type": "execute_result"
    }
   ],
   "source": [
    "template.start_response()"
   ]
  },
  {
   "cell_type": "code",
   "execution_count": 6,
   "id": "3c382327-eaf1-4f5e-88e5-e480dc632280",
   "metadata": {},
   "outputs": [
    {
     "data": {
      "text/plain": [
       "'Content-type: text/plain\\n\\n'"
      ]
     },
     "execution_count": 6,
     "metadata": {},
     "output_type": "execute_result"
    }
   ],
   "source": [
    "template.start_response('text/plain')"
   ]
  },
  {
   "cell_type": "code",
   "execution_count": 7,
   "id": "f78ae960-6ae0-45ad-8e01-c1667f2b7825",
   "metadata": {},
   "outputs": [
    {
     "data": {
      "text/plain": [
       "'Content-type: application/json\\n\\n'"
      ]
     },
     "execution_count": 7,
     "metadata": {},
     "output_type": "execute_result"
    }
   ],
   "source": [
    "template.start_response('application/json')"
   ]
  },
  {
   "cell_type": "code",
   "execution_count": 9,
   "id": "1cb9e9e1-3f0f-4b10-8282-4b6b50b02442",
   "metadata": {},
   "outputs": [
    {
     "ename": "FileNotFoundError",
     "evalue": "[Errno 2] No such file or directory: 'template/header.html'",
     "output_type": "error",
     "traceback": [
      "\u001b[1;31m---------------------------------------------------------------------------\u001b[0m",
      "\u001b[1;31mFileNotFoundError\u001b[0m                         Traceback (most recent call last)",
      "\u001b[1;32m<ipython-input-9-21152a98bb47>\u001b[0m in \u001b[0;36m<module>\u001b[1;34m\u001b[0m\n\u001b[1;32m----> 1\u001b[1;33m \u001b[0mtemplate\u001b[0m\u001b[1;33m.\u001b[0m\u001b[0minclude_header\u001b[0m\u001b[1;33m(\u001b[0m\u001b[1;34m\"Welcome to my home on the web!\"\u001b[0m\u001b[1;33m)\u001b[0m\u001b[1;33m\u001b[0m\u001b[1;33m\u001b[0m\u001b[0m\n\u001b[0m",
      "\u001b[1;32mC:\\DES\\pylab\\7_desenvolvimento_web\\template.py\u001b[0m in \u001b[0;36minclude_header\u001b[1;34m(the_title)\u001b[0m\n\u001b[0;32m      7\u001b[0m \u001b[1;33m\u001b[0m\u001b[0m\n\u001b[0;32m      8\u001b[0m \u001b[1;32mdef\u001b[0m \u001b[0minclude_header\u001b[0m\u001b[1;33m(\u001b[0m\u001b[0mthe_title\u001b[0m\u001b[1;33m)\u001b[0m\u001b[1;33m:\u001b[0m\u001b[1;33m\u001b[0m\u001b[1;33m\u001b[0m\u001b[0m\n\u001b[1;32m----> 9\u001b[1;33m     \u001b[1;32mwith\u001b[0m \u001b[0mopen\u001b[0m\u001b[1;33m(\u001b[0m\u001b[1;34m'template/header.html'\u001b[0m\u001b[1;33m)\u001b[0m \u001b[1;32mas\u001b[0m \u001b[0mheadf\u001b[0m\u001b[1;33m:\u001b[0m\u001b[1;33m\u001b[0m\u001b[1;33m\u001b[0m\u001b[0m\n\u001b[0m\u001b[0;32m     10\u001b[0m         \u001b[0mhead_text\u001b[0m \u001b[1;33m=\u001b[0m \u001b[0mheadf\u001b[0m\u001b[1;33m.\u001b[0m\u001b[0mread\u001b[0m\u001b[1;33m(\u001b[0m\u001b[1;33m)\u001b[0m\u001b[1;33m\u001b[0m\u001b[1;33m\u001b[0m\u001b[0m\n\u001b[0;32m     11\u001b[0m     \u001b[0mheader\u001b[0m \u001b[1;33m=\u001b[0m \u001b[0mTemplate\u001b[0m\u001b[1;33m(\u001b[0m\u001b[0mhead_text\u001b[0m\u001b[1;33m)\u001b[0m\u001b[1;33m\u001b[0m\u001b[1;33m\u001b[0m\u001b[0m\n",
      "\u001b[1;31mFileNotFoundError\u001b[0m: [Errno 2] No such file or directory: 'template/header.html'"
     ]
    }
   ],
   "source": [
    "template.include_header(\"Welcome to my home on the web!\")"
   ]
  },
  {
   "cell_type": "code",
   "execution_count": null,
   "id": "a3323dfa-7bc8-499c-91a5-b15b1e9db68b",
   "metadata": {},
   "outputs": [],
   "source": []
  }
 ],
 "metadata": {
  "kernelspec": {
   "display_name": "Python 3",
   "language": "python",
   "name": "python3"
  },
  "language_info": {
   "codemirror_mode": {
    "name": "ipython",
    "version": 3
   },
   "file_extension": ".py",
   "mimetype": "text/x-python",
   "name": "python",
   "nbconvert_exporter": "python",
   "pygments_lexer": "ipython3",
   "version": "3.9.2"
  }
 },
 "nbformat": 4,
 "nbformat_minor": 5
}
