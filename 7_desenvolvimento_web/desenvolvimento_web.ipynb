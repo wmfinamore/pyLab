{
 "cells": [
  {
   "cell_type": "code",
   "execution_count": 1,
   "id": "2cd132d6-acef-4772-93ef-afc162b3da92",
   "metadata": {},
   "outputs": [],
   "source": [
    "import template"
   ]
  },
  {
   "cell_type": "code",
   "execution_count": 2,
   "id": "29a33026-698e-4358-bc91-b0df8f426ac2",
   "metadata": {},
   "outputs": [
    {
     "data": {
      "text/plain": [
       "'Content-type: text/html\\n\\n'"
      ]
     },
     "execution_count": 2,
     "metadata": {},
     "output_type": "execute_result"
    }
   ],
   "source": [
    "template.start_response()"
   ]
  },
  {
   "cell_type": "code",
   "execution_count": 3,
   "id": "3c382327-eaf1-4f5e-88e5-e480dc632280",
   "metadata": {},
   "outputs": [
    {
     "data": {
      "text/plain": [
       "'Content-type: text/plain\\n\\n'"
      ]
     },
     "execution_count": 3,
     "metadata": {},
     "output_type": "execute_result"
    }
   ],
   "source": [
    "template.start_response('text/plain')"
   ]
  },
  {
   "cell_type": "code",
   "execution_count": 4,
   "id": "f78ae960-6ae0-45ad-8e01-c1667f2b7825",
   "metadata": {},
   "outputs": [
    {
     "data": {
      "text/plain": [
       "'Content-type: application/json\\n\\n'"
      ]
     },
     "execution_count": 4,
     "metadata": {},
     "output_type": "execute_result"
    }
   ],
   "source": [
    "template.start_response('application/json')"
   ]
  },
  {
   "cell_type": "code",
   "execution_count": 5,
   "id": "1cb9e9e1-3f0f-4b10-8282-4b6b50b02442",
   "metadata": {},
   "outputs": [
    {
     "data": {
      "text/plain": [
       "'<html>\\\\n<head>\\\\n<title></title>\\\\n<link type=\"text/css\" rel=\"stylesheet\" href=\"coach.css\">\\\\n</head>\\\\n <body>\\\\n<h1></h1>\\\\n'"
      ]
     },
     "execution_count": 5,
     "metadata": {},
     "output_type": "execute_result"
    }
   ],
   "source": [
    "template.include_header(\"Welcome to my home on the web!\")"
   ]
  },
  {
   "cell_type": "code",
   "execution_count": null,
   "id": "a3323dfa-7bc8-499c-91a5-b15b1e9db68b",
   "metadata": {},
   "outputs": [],
   "source": []
  }
 ],
 "metadata": {
  "kernelspec": {
   "display_name": "Python 3",
   "language": "python",
   "name": "python3"
  },
  "language_info": {
   "codemirror_mode": {
    "name": "ipython",
    "version": 3
   },
   "file_extension": ".py",
   "mimetype": "text/x-python",
   "name": "python",
   "nbconvert_exporter": "python",
   "pygments_lexer": "ipython3",
   "version": "3.9.2"
  }
 },
 "nbformat": 4,
 "nbformat_minor": 5
}
