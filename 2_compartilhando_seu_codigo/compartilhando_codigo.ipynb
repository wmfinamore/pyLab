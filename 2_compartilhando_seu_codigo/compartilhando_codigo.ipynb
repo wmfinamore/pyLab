{
 "cells": [
  {
   "cell_type": "code",
   "execution_count": 7,
   "id": "5b38e1b6-fca6-4443-848a-01a7e7fa2b36",
   "metadata": {},
   "outputs": [],
   "source": [
    "# Importando nosso módulo para teste\n",
    "from iteratelist import print_lol"
   ]
  },
  {
   "cell_type": "code",
   "execution_count": 8,
   "id": "67d5b24f-3142-4147-90e3-f8617c790120",
   "metadata": {},
   "outputs": [],
   "source": [
    "movies = [\n",
    "    \"The Holy Grail\", 1975, \"Terry Jones & Terry Gilliam\", 91,\n",
    "    [\"Graham Chapman\",\n",
    "    [\"Michael Palin\", \"John Cleese\", \"Terry Gilliam\", \"Eric Idle\", \"Terry Jones\"]]\n",
    "]"
   ]
  },
  {
   "cell_type": "code",
   "execution_count": 9,
   "id": "1f454b8a-8698-4f0b-9821-bf85574b6fa1",
   "metadata": {},
   "outputs": [
    {
     "name": "stdout",
     "output_type": "stream",
     "text": [
      "The Holy Grail\n",
      "1975\n",
      "Terry Jones & Terry Gilliam\n",
      "91\n",
      "Graham Chapman\n",
      "Michael Palin\n",
      "John Cleese\n",
      "Terry Gilliam\n",
      "Eric Idle\n",
      "Terry Jones\n"
     ]
    }
   ],
   "source": [
    "print_lol(movies)"
   ]
  },
  {
   "cell_type": "code",
   "execution_count": 10,
   "id": "961fd076-f69d-47dd-8000-d89662d4d52e",
   "metadata": {},
   "outputs": [],
   "source": [
    "# importando nosso módulo recem instalado\n",
    "import iteratelist"
   ]
  },
  {
   "cell_type": "code",
   "execution_count": 12,
   "id": "e7376682-966d-47fe-b470-de3961a033c1",
   "metadata": {},
   "outputs": [
    {
     "name": "stdout",
     "output_type": "stream",
     "text": [
      "The Holy Grail\n",
      "1975\n",
      "Terry Jones & Terry Gilliam\n",
      "91\n",
      "Graham Chapman\n",
      "Michael Palin\n",
      "John Cleese\n",
      "Terry Gilliam\n",
      "Eric Idle\n",
      "Terry Jones\n"
     ]
    }
   ],
   "source": [
    "iteratelist.print_lol(movies)"
   ]
  },
  {
   "cell_type": "code",
   "execution_count": 13,
   "id": "c117ed5a-25b6-4f74-af67-665f0f85f0ea",
   "metadata": {},
   "outputs": [],
   "source": [
    "cast = [\"Palin\",\"Cleese\",\"Idle\",\"Jones\",\"Gilliam\",\"Chapman\"]"
   ]
  },
  {
   "cell_type": "code",
   "execution_count": 14,
   "id": "84fb98b5-caa8-482c-9e55-2a7ff0880605",
   "metadata": {},
   "outputs": [
    {
     "name": "stdout",
     "output_type": "stream",
     "text": [
      "Palin\n",
      "Cleese\n",
      "Idle\n",
      "Jones\n",
      "Gilliam\n",
      "Chapman\n"
     ]
    }
   ],
   "source": [
    "iteratelist.print_lol(cast)"
   ]
  }
 ],
 "metadata": {
  "kernelspec": {
   "display_name": "Python 3",
   "language": "python",
   "name": "python3"
  },
  "language_info": {
   "codemirror_mode": {
    "name": "ipython",
    "version": 3
   },
   "file_extension": ".py",
   "mimetype": "text/x-python",
   "name": "python",
   "nbconvert_exporter": "python",
   "pygments_lexer": "ipython3",
   "version": "3.9.2"
  }
 },
 "nbformat": 4,
 "nbformat_minor": 5
}
