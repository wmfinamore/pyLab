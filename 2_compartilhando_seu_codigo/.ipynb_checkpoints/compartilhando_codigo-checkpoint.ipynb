{
 "cells": [
  {
   "cell_type": "code",
   "execution_count": 7,
   "id": "5b38e1b6-fca6-4443-848a-01a7e7fa2b36",
   "metadata": {},
   "outputs": [],
   "source": [
    "# Importando nosso módulo para teste\n",
    "from iteratelist import print_lol"
   ]
  },
  {
   "cell_type": "code",
   "execution_count": 1,
   "id": "67d5b24f-3142-4147-90e3-f8617c790120",
   "metadata": {},
   "outputs": [],
   "source": [
    "movies = [\n",
    "    \"The Holy Grail\", 1975, \"Terry Jones & Terry Gilliam\", 91,\n",
    "    [\"Graham Chapman\",\n",
    "    [\"Michael Palin\", \"John Cleese\", \"Terry Gilliam\", \"Eric Idle\", \"Terry Jones\"]]\n",
    "]"
   ]
  },
  {
   "cell_type": "code",
   "execution_count": 9,
   "id": "1f454b8a-8698-4f0b-9821-bf85574b6fa1",
   "metadata": {},
   "outputs": [
    {
     "name": "stdout",
     "output_type": "stream",
     "text": [
      "The Holy Grail\n",
      "1975\n",
      "Terry Jones & Terry Gilliam\n",
      "91\n",
      "Graham Chapman\n",
      "Michael Palin\n",
      "John Cleese\n",
      "Terry Gilliam\n",
      "Eric Idle\n",
      "Terry Jones\n"
     ]
    }
   ],
   "source": [
    "print_lol(movies)"
   ]
  },
  {
   "cell_type": "code",
   "execution_count": 10,
   "id": "961fd076-f69d-47dd-8000-d89662d4d52e",
   "metadata": {},
   "outputs": [],
   "source": [
    "# importando nosso módulo recem instalado\n",
    "import iteratelist"
   ]
  },
  {
   "cell_type": "code",
   "execution_count": 12,
   "id": "e7376682-966d-47fe-b470-de3961a033c1",
   "metadata": {},
   "outputs": [
    {
     "name": "stdout",
     "output_type": "stream",
     "text": [
      "The Holy Grail\n",
      "1975\n",
      "Terry Jones & Terry Gilliam\n",
      "91\n",
      "Graham Chapman\n",
      "Michael Palin\n",
      "John Cleese\n",
      "Terry Gilliam\n",
      "Eric Idle\n",
      "Terry Jones\n"
     ]
    }
   ],
   "source": [
    "iteratelist.print_lol(movies)"
   ]
  },
  {
   "cell_type": "code",
   "execution_count": 13,
   "id": "c117ed5a-25b6-4f74-af67-665f0f85f0ea",
   "metadata": {},
   "outputs": [],
   "source": [
    "cast = [\"Palin\",\"Cleese\",\"Idle\",\"Jones\",\"Gilliam\",\"Chapman\"]"
   ]
  },
  {
   "cell_type": "code",
   "execution_count": 14,
   "id": "84fb98b5-caa8-482c-9e55-2a7ff0880605",
   "metadata": {},
   "outputs": [
    {
     "name": "stdout",
     "output_type": "stream",
     "text": [
      "Palin\n",
      "Cleese\n",
      "Idle\n",
      "Jones\n",
      "Gilliam\n",
      "Chapman\n"
     ]
    }
   ],
   "source": [
    "iteratelist.print_lol(cast)"
   ]
  },
  {
   "cell_type": "code",
   "execution_count": 2,
   "id": "b75bc1d9-9b83-402d-a771-64d066c5a6a5",
   "metadata": {},
   "outputs": [
    {
     "name": "stdout",
     "output_type": "stream",
     "text": [
      "0\n",
      "1\n",
      "2\n",
      "3\n"
     ]
    }
   ],
   "source": [
    "# testando o BIF(Função Embutida) range()\n",
    "for num in range(4):\n",
    "    print(num)"
   ]
  },
  {
   "cell_type": "code",
   "execution_count": 1,
   "id": "776e71dd-f3ed-4015-9bf4-d67d0004dd19",
   "metadata": {},
   "outputs": [],
   "source": [
    "from iteratelist import print_lol"
   ]
  },
  {
   "cell_type": "code",
   "execution_count": 4,
   "id": "7a0f02be-6498-478c-8584-f010fe5e9051",
   "metadata": {},
   "outputs": [],
   "source": [
    "movies = [\n",
    "    \"The Holy Grail\", 1975, \"Terry Jones & Terry Gilliam\", 91,\n",
    "    [\"Graham Chapman\",\n",
    "    [\"Michael Palin\", \"John Cleese\", \"Terry Gilliam\", \"Eric Idle\", \"Terry Jones\"]]\n",
    "]"
   ]
  },
  {
   "cell_type": "code",
   "execution_count": 3,
   "id": "3c9bc115-7bce-484d-a3b9-05b2e6248b66",
   "metadata": {},
   "outputs": [
    {
     "name": "stdout",
     "output_type": "stream",
     "text": [
      "\tThe Holy Grail\n",
      "\t1975\n",
      "\tTerry Jones & Terry Gilliam\n",
      "\t91\n",
      "\t\tGraham Chapman\n",
      "\t\t\tMichael Palin\n",
      "\t\t\tJohn Cleese\n",
      "\t\t\tTerry Gilliam\n",
      "\t\t\tEric Idle\n",
      "\t\t\tTerry Jones\n"
     ]
    }
   ],
   "source": [
    "print_lol(movies,1)"
   ]
  },
  {
   "cell_type": "code",
   "execution_count": 4,
   "id": "547c8801-a5cc-404a-b659-e5967ed7d32b",
   "metadata": {},
   "outputs": [],
   "source": [
    "# Importando a nova versão do módulo iteratelist\n",
    "from iteratelist import print_lol"
   ]
  },
  {
   "cell_type": "code",
   "execution_count": 5,
   "id": "de6c8e76-c164-4b17-9f3c-bc78b78555d5",
   "metadata": {},
   "outputs": [
    {
     "name": "stdout",
     "output_type": "stream",
     "text": [
      "\t\tThe Holy Grail\n",
      "\t\t1975\n",
      "\t\tTerry Jones & Terry Gilliam\n",
      "\t\t91\n",
      "\t\t\tGraham Chapman\n",
      "\t\t\t\tMichael Palin\n",
      "\t\t\t\tJohn Cleese\n",
      "\t\t\t\tTerry Gilliam\n",
      "\t\t\t\tEric Idle\n",
      "\t\t\t\tTerry Jones\n"
     ]
    }
   ],
   "source": [
    "print_lol(movies, 2)"
   ]
  },
  {
   "cell_type": "code",
   "execution_count": 4,
   "id": "9012d21c-e86a-4f10-9dc3-7ad916107455",
   "metadata": {},
   "outputs": [
    {
     "name": "stdout",
     "output_type": "stream",
     "text": [
      "The Holy Grail\n",
      "1975\n",
      "Terry Jones & Terry Gilliam\n",
      "91\n",
      "Graham Chapman\n",
      "Michael Palin\n",
      "John Cleese\n",
      "Terry Gilliam\n",
      "Eric Idle\n",
      "Terry Jones\n"
     ]
    }
   ],
   "source": [
    "print_lol(movies)"
   ]
  },
  {
   "cell_type": "code",
   "execution_count": 2,
   "id": "43408715-fe85-4175-8837-c84249b27c13",
   "metadata": {},
   "outputs": [],
   "source": [
    "# testando com recuo opcional\n",
    "from iteratelist import print_lol"
   ]
  },
  {
   "cell_type": "code",
   "execution_count": 3,
   "id": "ab9efa86-d2a9-49ca-8316-bacd060f0c4d",
   "metadata": {},
   "outputs": [
    {
     "name": "stdout",
     "output_type": "stream",
     "text": [
      "\t\tThe Holy Grail\n",
      "\t\t1975\n",
      "\t\tTerry Jones & Terry Gilliam\n",
      "\t\t91\n",
      "\t\t\tGraham Chapman\n",
      "\t\t\t\tMichael Palin\n",
      "\t\t\t\tJohn Cleese\n",
      "\t\t\t\tTerry Gilliam\n",
      "\t\t\t\tEric Idle\n",
      "\t\t\t\tTerry Jones\n"
     ]
    }
   ],
   "source": [
    "print_lol(movies, True, 2)"
   ]
  },
  {
   "cell_type": "markdown",
   "id": "3bf60d1a-1eb9-4d0a-bae5-5375e0681f6e",
   "metadata": {},
   "source": [
    "## FIM DO CAPÍTULO 2"
   ]
  }
 ],
 "metadata": {
  "kernelspec": {
   "display_name": "Python 3",
   "language": "python",
   "name": "python3"
  },
  "language_info": {
   "codemirror_mode": {
    "name": "ipython",
    "version": 3
   },
   "file_extension": ".py",
   "mimetype": "text/x-python",
   "name": "python",
   "nbconvert_exporter": "python",
   "pygments_lexer": "ipython3",
   "version": "3.9.2"
  }
 },
 "nbformat": 4,
 "nbformat_minor": 5
}
