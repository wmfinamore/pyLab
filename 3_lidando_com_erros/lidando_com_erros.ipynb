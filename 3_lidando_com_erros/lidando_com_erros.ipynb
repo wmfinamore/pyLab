{
 "cells": [
  {
   "cell_type": "code",
   "execution_count": 2,
   "id": "7476b259-5cd5-41f5-a502-0e91c3a73855",
   "metadata": {},
   "outputs": [
    {
     "data": {
      "text/plain": [
       "'C:\\\\DES\\\\pylab\\\\3_lidando_com_erros'"
      ]
     },
     "execution_count": 2,
     "metadata": {},
     "output_type": "execute_result"
    }
   ],
   "source": [
    "import os\n",
    "\n",
    "os.getcwd() # mostra o diretório atual\n"
   ]
  },
  {
   "cell_type": "code",
   "execution_count": 5,
   "id": "8dfef352-4884-4074-829c-e528b630edb1",
   "metadata": {},
   "outputs": [
    {
     "data": {
      "text/plain": [
       "'C:\\\\DES\\\\pylab\\\\3_lidando_com_erros'"
      ]
     },
     "execution_count": 5,
     "metadata": {},
     "output_type": "execute_result"
    }
   ],
   "source": [
    "os.chdir('C:\\\\DES\\\\pylab\\\\3_lidando_com_erros') #caso fosse necessário mudar o diretório de trabalho para abrir o arquivo\n",
    "os.getcwd()"
   ]
  },
  {
   "cell_type": "code",
   "execution_count": 6,
   "id": "d28d97cf-60b3-443f-90fb-18f15c93ca86",
   "metadata": {},
   "outputs": [
    {
     "name": "stdout",
     "output_type": "stream",
     "text": [
      "Man: Is this the right room for an argument?\n"
     ]
    }
   ],
   "source": [
    "data = open('sketch.txt')\n",
    "print(data.readline(), end='')"
   ]
  },
  {
   "cell_type": "code",
   "execution_count": 7,
   "id": "096c9213-a196-4d25-b8c9-92c167998b1c",
   "metadata": {},
   "outputs": [
    {
     "name": "stdout",
     "output_type": "stream",
     "text": [
      "Other Man: I've told you once.\n"
     ]
    }
   ],
   "source": [
    "print(data.readline(), end='')"
   ]
  },
  {
   "cell_type": "code",
   "execution_count": 8,
   "id": "1e469745-baee-4ff2-af32-f0b2622489c7",
   "metadata": {},
   "outputs": [
    {
     "data": {
      "text/plain": [
       "0"
      ]
     },
     "execution_count": 8,
     "metadata": {},
     "output_type": "execute_result"
    }
   ],
   "source": [
    "data.seek(0) # Use o método seek() para retornar ao início do arquivo. E sim, você pode usar tell() com os arquivos do Python também"
   ]
  },
  {
   "cell_type": "code",
   "execution_count": 9,
   "id": "05d4009f-d7ab-4c0e-94f2-e7b3af93ca0e",
   "metadata": {},
   "outputs": [
    {
     "name": "stdout",
     "output_type": "stream",
     "text": [
      "Man: Is this the right room for an argument?\n",
      "Other Man: I've told you once.\n",
      "Man: No you haven't!\n",
      "Other Man: Yes I have.\n",
      "Man: When?\n",
      "Other Man: Just now.\n",
      "Man: No you didn't!\n",
      "Other Man: Yes I did!\n",
      "Man: You didn't!\n",
      "Other Man: I'm telling you, I did!\n",
      "Man: You did not!\n",
      "Other Man: Oh I'm sorry, is this a five minute argument, or the full half hour?\n",
      "Man: Ah! (taking out his wallet and paying) Just the five minutes.\n",
      "Other Man: Just the five minutes. Thank you.\n",
      "Other Man: Anyway, I did.\n",
      "Man: You most certainly did not!\n",
      "Other Man: Now let's get one thing quite clear: I most definitely told you!\n",
      "Man: Oh no you didn't!\n",
      "Other Man: Oh yes I did!\n",
      "Man: Oh no you didn't!\n",
      "Other Man: Oh yes I did!\n",
      "Man: Oh look, this isn't an argument!\n",
      "(pause)\n",
      "Other Man: Yes it is!\n",
      "Man: No it isn't!\n",
      "(pause)\n",
      "Man: It's just contradiction!\n",
      "Other Man: No it isn't!\n",
      "Man: It IS!\n",
      "Other Man: It is NOT!\n",
      "Man: You just contradicted me!\n",
      "Other Man: No I didn't!\n",
      "Man: You DID!\n",
      "Other Man: No no no!\n",
      "Man: You did just then!\n",
      "Other Man: Nonsense!\n",
      "Man: (exasperated) Oh, this is futile!!\n",
      "(pause)\n",
      "Other Man: No it isn't!\n",
      "Man: Yes it is!"
     ]
    }
   ],
   "source": [
    "\"\"\"\n",
    "Este código deve parecer familiar\n",
    "é uma iteração padrão usando os\n",
    "dados do arquivo como a entrada\n",
    "\"\"\"\n",
    "for each_line in data:\n",
    "    print(each_line, end='')"
   ]
  },
  {
   "cell_type": "code",
   "execution_count": 10,
   "id": "ebc63582-e5ee-4c6b-a952-b0b565a611b5",
   "metadata": {},
   "outputs": [],
   "source": [
    "data.close()"
   ]
  },
  {
   "cell_type": "code",
   "execution_count": 11,
   "id": "6b197ea9-1f4e-4bc8-8407-63fd520144c8",
   "metadata": {},
   "outputs": [
    {
     "name": "stdout",
     "output_type": "stream",
     "text": [
      "Man said: Is this the right room for an argument?\n",
      "Other Man said: I've told you once.\n",
      "Man said: No you haven't!\n",
      "Other Man said: Yes I have.\n",
      "Man said: When?\n",
      "Other Man said: Just now.\n",
      "Man said: No you didn't!\n",
      "Other Man said: Yes I did!\n",
      "Man said: You didn't!\n",
      "Other Man said: I'm telling you, I did!\n",
      "Man said: You did not!\n",
      "Other Man said: Oh I'm sorry, is this a five minute argument, or the full half hour?\n",
      "Man said: Ah! (taking out his wallet and paying) Just the five minutes.\n",
      "Other Man said: Just the five minutes. Thank you.\n",
      "Other Man said: Anyway, I did.\n",
      "Man said: You most certainly did not!\n"
     ]
    },
    {
     "ename": "ValueError",
     "evalue": "too many values to unpack (expected 2)",
     "output_type": "error",
     "traceback": [
      "\u001b[1;31m---------------------------------------------------------------------------\u001b[0m",
      "\u001b[1;31mValueError\u001b[0m                                Traceback (most recent call last)",
      "\u001b[1;32m<ipython-input-11-835a1f397b21>\u001b[0m in \u001b[0;36m<module>\u001b[1;34m\u001b[0m\n\u001b[0;32m      1\u001b[0m \u001b[0mdata\u001b[0m \u001b[1;33m=\u001b[0m \u001b[0mopen\u001b[0m\u001b[1;33m(\u001b[0m\u001b[1;34m'sketch.txt'\u001b[0m\u001b[1;33m)\u001b[0m \u001b[1;31m# abre o aquivo\u001b[0m\u001b[1;33m\u001b[0m\u001b[1;33m\u001b[0m\u001b[0m\n\u001b[0;32m      2\u001b[0m \u001b[1;32mfor\u001b[0m \u001b[0meach_line\u001b[0m \u001b[1;32min\u001b[0m \u001b[0mdata\u001b[0m\u001b[1;33m:\u001b[0m \u001b[1;31m# processa os dados, extraindo cada parte de cada linha e exibindo cada parte na tela\u001b[0m\u001b[1;33m\u001b[0m\u001b[1;33m\u001b[0m\u001b[0m\n\u001b[1;32m----> 3\u001b[1;33m     \u001b[1;33m(\u001b[0m\u001b[0mrole\u001b[0m\u001b[1;33m,\u001b[0m \u001b[0mline_spoken\u001b[0m\u001b[1;33m)\u001b[0m \u001b[1;33m=\u001b[0m \u001b[0meach_line\u001b[0m\u001b[1;33m.\u001b[0m\u001b[0msplit\u001b[0m\u001b[1;33m(\u001b[0m\u001b[1;34m':'\u001b[0m\u001b[1;33m)\u001b[0m\u001b[1;33m\u001b[0m\u001b[1;33m\u001b[0m\u001b[0m\n\u001b[0m\u001b[0;32m      4\u001b[0m     \u001b[0mprint\u001b[0m\u001b[1;33m(\u001b[0m\u001b[0mrole\u001b[0m\u001b[1;33m,\u001b[0m \u001b[0mend\u001b[0m\u001b[1;33m=\u001b[0m\u001b[1;34m''\u001b[0m\u001b[1;33m)\u001b[0m\u001b[1;33m\u001b[0m\u001b[1;33m\u001b[0m\u001b[0m\n\u001b[0;32m      5\u001b[0m     \u001b[0mprint\u001b[0m\u001b[1;33m(\u001b[0m\u001b[1;34m' said:'\u001b[0m\u001b[1;33m,\u001b[0m \u001b[0mend\u001b[0m\u001b[1;33m=\u001b[0m\u001b[1;34m''\u001b[0m\u001b[1;33m)\u001b[0m\u001b[1;33m\u001b[0m\u001b[1;33m\u001b[0m\u001b[0m\n",
      "\u001b[1;31mValueError\u001b[0m: too many values to unpack (expected 2)"
     ]
    }
   ],
   "source": [
    "data = open('sketch.txt') # abre o aquivo\n",
    "for each_line in data: # processa os dados, extraindo cada parte de cada linha e exibindo cada parte na tela\n",
    "    (role, line_spoken) = each_line.split(':')\n",
    "    print(role, end='')\n",
    "    print(' said:', end='')\n",
    "    print(line_spoken, end='')"
   ]
  },
  {
   "cell_type": "code",
   "execution_count": 12,
   "id": "1ad2d5ca-7727-43c1-a3b1-56d0742ca252",
   "metadata": {},
   "outputs": [
    {
     "name": "stdout",
     "output_type": "stream",
     "text": [
      "Help on built-in function split:\n",
      "\n",
      "split(sep=None, maxsplit=-1) method of builtins.str instance\n",
      "    Return a list of the words in the string, using sep as the delimiter string.\n",
      "    \n",
      "    sep\n",
      "      The delimiter according which to split the string.\n",
      "      None (the default value) means split according to any whitespace,\n",
      "      and discard empty strings from the result.\n",
      "    maxsplit\n",
      "      Maximum number of splits to do.\n",
      "      -1 (the default value) means no limit.\n",
      "\n"
     ]
    }
   ],
   "source": [
    "help(each_line.split) # acessa a documentação de um método usando o BIF help()"
   ]
  },
  {
   "cell_type": "code",
   "execution_count": 14,
   "id": "00a842ad-59fd-43f3-a654-7209aae3d84c",
   "metadata": {},
   "outputs": [
    {
     "name": "stdout",
     "output_type": "stream",
     "text": [
      "Man said: Is this the right room for an argument?\n",
      "Other Man said: I've told you once.\n",
      "Man said: No you haven't!\n",
      "Other Man said: Yes I have.\n",
      "Man said: When?\n",
      "Other Man said: Just now.\n",
      "Man said: No you didn't!\n",
      "Other Man said: Yes I did!\n",
      "Man said: You didn't!\n",
      "Other Man said: I'm telling you, I did!\n",
      "Man said: You did not!\n",
      "Other Man said: Oh I'm sorry, is this a five minute argument, or the full half hour?\n",
      "Man said: Ah! (taking out his wallet and paying) Just the five minutes.\n",
      "Other Man said: Just the five minutes. Thank you.\n",
      "Other Man said: Anyway, I did.\n",
      "Man said: You most certainly did not!\n",
      "Other Man said: Now let's get one thing quite clear: I most definitely told you!\n",
      "Man said: Oh no you didn't!\n",
      "Other Man said: Oh yes I did!\n",
      "Man said: Oh no you didn't!\n",
      "Other Man said: Oh yes I did!\n",
      "Man said: Oh look, this isn't an argument!\n"
     ]
    },
    {
     "ename": "ValueError",
     "evalue": "not enough values to unpack (expected 2, got 1)",
     "output_type": "error",
     "traceback": [
      "\u001b[1;31m---------------------------------------------------------------------------\u001b[0m",
      "\u001b[1;31mValueError\u001b[0m                                Traceback (most recent call last)",
      "\u001b[1;32m<ipython-input-14-c8d269a53d8f>\u001b[0m in \u001b[0;36m<module>\u001b[1;34m\u001b[0m\n\u001b[0;32m      1\u001b[0m \u001b[0mdata\u001b[0m\u001b[1;33m.\u001b[0m\u001b[0mseek\u001b[0m\u001b[1;33m(\u001b[0m\u001b[1;36m0\u001b[0m\u001b[1;33m)\u001b[0m\u001b[1;33m\u001b[0m\u001b[1;33m\u001b[0m\u001b[0m\n\u001b[0;32m      2\u001b[0m \u001b[1;32mfor\u001b[0m \u001b[0meach_line\u001b[0m \u001b[1;32min\u001b[0m \u001b[0mdata\u001b[0m\u001b[1;33m:\u001b[0m \u001b[1;31m# processa os dados, extraindo cada parte de cada linha e exibindo cada parte na tela\u001b[0m\u001b[1;33m\u001b[0m\u001b[1;33m\u001b[0m\u001b[0m\n\u001b[1;32m----> 3\u001b[1;33m     \u001b[1;33m(\u001b[0m\u001b[0mrole\u001b[0m\u001b[1;33m,\u001b[0m \u001b[0mline_spoken\u001b[0m\u001b[1;33m)\u001b[0m \u001b[1;33m=\u001b[0m \u001b[0meach_line\u001b[0m\u001b[1;33m.\u001b[0m\u001b[0msplit\u001b[0m\u001b[1;33m(\u001b[0m\u001b[1;34m':'\u001b[0m\u001b[1;33m,\u001b[0m \u001b[1;36m1\u001b[0m\u001b[1;33m)\u001b[0m\u001b[1;33m\u001b[0m\u001b[1;33m\u001b[0m\u001b[0m\n\u001b[0m\u001b[0;32m      4\u001b[0m     \u001b[0mprint\u001b[0m\u001b[1;33m(\u001b[0m\u001b[0mrole\u001b[0m\u001b[1;33m,\u001b[0m \u001b[0mend\u001b[0m\u001b[1;33m=\u001b[0m\u001b[1;34m''\u001b[0m\u001b[1;33m)\u001b[0m\u001b[1;33m\u001b[0m\u001b[1;33m\u001b[0m\u001b[0m\n\u001b[0;32m      5\u001b[0m     \u001b[0mprint\u001b[0m\u001b[1;33m(\u001b[0m\u001b[1;34m' said:'\u001b[0m\u001b[1;33m,\u001b[0m \u001b[0mend\u001b[0m\u001b[1;33m=\u001b[0m\u001b[1;34m''\u001b[0m\u001b[1;33m)\u001b[0m\u001b[1;33m\u001b[0m\u001b[1;33m\u001b[0m\u001b[0m\n",
      "\u001b[1;31mValueError\u001b[0m: not enough values to unpack (expected 2, got 1)"
     ]
    }
   ],
   "source": [
    "data.seek(0)\n",
    "for each_line in data: # processa os dados, extraindo cada parte de cada linha e exibindo cada parte na tela\n",
    "    (role, line_spoken) = each_line.split(':', 1)\n",
    "    print(role, end='')\n",
    "    print(' said:', end='')\n",
    "    print(line_spoken, end='')"
   ]
  },
  {
   "cell_type": "code",
   "execution_count": 16,
   "id": "64c84f23-a366-403d-9aff-38a4c8b6a43d",
   "metadata": {},
   "outputs": [
    {
     "name": "stdout",
     "output_type": "stream",
     "text": [
      "Man said: Is this the right room for an argument?\n",
      "Other Man said: I've told you once.\n",
      "Man said: No you haven't!\n",
      "Other Man said: Yes I have.\n",
      "Man said: When?\n",
      "Other Man said: Just now.\n",
      "Man said: No you didn't!\n",
      "Other Man said: Yes I did!\n",
      "Man said: You didn't!\n",
      "Other Man said: I'm telling you, I did!\n",
      "Man said: You did not!\n",
      "Other Man said: Oh I'm sorry, is this a five minute argument, or the full half hour?\n",
      "Man said: Ah! (taking out his wallet and paying) Just the five minutes.\n",
      "Other Man said: Just the five minutes. Thank you.\n",
      "Other Man said: Anyway, I did.\n",
      "Man said: You most certainly did not!\n",
      "Other Man said: Now let's get one thing quite clear: I most definitely told you!\n",
      "Man said: Oh no you didn't!\n",
      "Other Man said: Oh yes I did!\n",
      "Man said: Oh no you didn't!\n",
      "Other Man said: Oh yes I did!\n",
      "Man said: Oh look, this isn't an argument!\n",
      "Other Man said: Yes it is!\n",
      "Man said: No it isn't!\n",
      "Man said: It's just contradiction!\n",
      "Other Man said: No it isn't!\n",
      "Man said: It IS!\n",
      "Other Man said: It is NOT!\n",
      "Man said: You just contradicted me!\n",
      "Other Man said: No I didn't!\n",
      "Man said: You DID!\n",
      "Other Man said: No no no!\n",
      "Man said: You did just then!\n",
      "Other Man said: Nonsense!\n",
      "Man said: (exasperated) Oh, this is futile!!\n",
      "Other Man said: No it isn't!\n",
      "Man said: Yes it is!"
     ]
    }
   ],
   "source": [
    "data = open('sketch.txt')\n",
    "for each_line in data: # processa os dados, extraindo cada parte de cada linha e exibindo cada parte na tela\n",
    "    if each_line.find(':') >= 0 :\n",
    "        (role, line_spoken) = each_line.split(':',1)\n",
    "        print(role, end='')\n",
    "        print(' said:', end='')\n",
    "        print(line_spoken, end='')\n",
    "data.close()"
   ]
  },
  {
   "cell_type": "code",
   "execution_count": 19,
   "id": "bec947c2-7dc7-4924-b1fd-1e8887219152",
   "metadata": {},
   "outputs": [
    {
     "ename": "SyntaxError",
     "evalue": "invalid syntax (<ipython-input-19-6796f41ff036>, line 3)",
     "output_type": "error",
     "traceback": [
      "\u001b[1;36m  File \u001b[1;32m\"<ipython-input-19-6796f41ff036>\"\u001b[1;36m, line \u001b[1;32m3\u001b[0m\n\u001b[1;33m    not each_line.find(':') == -1:\u001b[0m\n\u001b[1;37m                                  ^\u001b[0m\n\u001b[1;31mSyntaxError\u001b[0m\u001b[1;31m:\u001b[0m invalid syntax\n"
     ]
    }
   ],
   "source": [
    "data = open('sketch.txt')\n",
    "for each_line in data: # processa os dados, extraindo cada parte de cada linha e exibindo cada parte na tela\n",
    "    not each_line.find(':') == -1:\n",
    "        # o uso da palavra chave \"not\" nega o valor da condição\n",
    "        (role, line_spoken) = each_line.split(':',1)\n",
    "        print(role, end='')\n",
    "        print(' said:', end='')\n",
    "        print(line_spoken, end='')\n",
    "data.close()"
   ]
  },
  {
   "cell_type": "code",
   "execution_count": null,
   "id": "cbbff24e-48f6-482f-bb30-30e433764c7a",
   "metadata": {},
   "outputs": [],
   "source": []
  }
 ],
 "metadata": {
  "kernelspec": {
   "display_name": "Python 3",
   "language": "python",
   "name": "python3"
  },
  "language_info": {
   "codemirror_mode": {
    "name": "ipython",
    "version": 3
   },
   "file_extension": ".py",
   "mimetype": "text/x-python",
   "name": "python",
   "nbconvert_exporter": "python",
   "pygments_lexer": "ipython3",
   "version": "3.9.2"
  }
 },
 "nbformat": 4,
 "nbformat_minor": 5
}
