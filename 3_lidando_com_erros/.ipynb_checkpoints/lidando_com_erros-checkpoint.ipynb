{
 "cells": [
  {
   "cell_type": "code",
   "execution_count": 2,
   "id": "7476b259-5cd5-41f5-a502-0e91c3a73855",
   "metadata": {},
   "outputs": [
    {
     "data": {
      "text/plain": [
       "'C:\\\\DES\\\\pylab\\\\3_lidando_com_erros'"
      ]
     },
     "execution_count": 2,
     "metadata": {},
     "output_type": "execute_result"
    }
   ],
   "source": [
    "import os\n",
    "\n",
    "os.getcwd() # mostra o diretório atual\n"
   ]
  },
  {
   "cell_type": "code",
   "execution_count": 5,
   "id": "8dfef352-4884-4074-829c-e528b630edb1",
   "metadata": {},
   "outputs": [
    {
     "data": {
      "text/plain": [
       "'C:\\\\DES\\\\pylab\\\\3_lidando_com_erros'"
      ]
     },
     "execution_count": 5,
     "metadata": {},
     "output_type": "execute_result"
    }
   ],
   "source": [
    "os.chdir('C:\\\\DES\\\\pylab\\\\3_lidando_com_erros') #caso fosse necessário mudar o diretório de trabalho para abrir o arquivo\n",
    "os.getcwd()"
   ]
  },
  {
   "cell_type": "code",
   "execution_count": 6,
   "id": "d28d97cf-60b3-443f-90fb-18f15c93ca86",
   "metadata": {},
   "outputs": [
    {
     "name": "stdout",
     "output_type": "stream",
     "text": [
      "Man: Is this the right room for an argument?\n"
     ]
    }
   ],
   "source": [
    "data = open('sketch.txt')\n",
    "print(data.readline(), end='')"
   ]
  },
  {
   "cell_type": "code",
   "execution_count": 7,
   "id": "096c9213-a196-4d25-b8c9-92c167998b1c",
   "metadata": {},
   "outputs": [
    {
     "name": "stdout",
     "output_type": "stream",
     "text": [
      "Other Man: I've told you once.\n"
     ]
    }
   ],
   "source": [
    "print(data.readline(), end='')"
   ]
  },
  {
   "cell_type": "code",
   "execution_count": 8,
   "id": "1e469745-baee-4ff2-af32-f0b2622489c7",
   "metadata": {},
   "outputs": [
    {
     "data": {
      "text/plain": [
       "0"
      ]
     },
     "execution_count": 8,
     "metadata": {},
     "output_type": "execute_result"
    }
   ],
   "source": [
    "data.seek(0) # Use o método seek() para retornar ao início do arquivo. E sim, você pode usar tell() com os arquivos do Python também"
   ]
  },
  {
   "cell_type": "code",
   "execution_count": 9,
   "id": "05d4009f-d7ab-4c0e-94f2-e7b3af93ca0e",
   "metadata": {},
   "outputs": [
    {
     "name": "stdout",
     "output_type": "stream",
     "text": [
      "Man: Is this the right room for an argument?\n",
      "Other Man: I've told you once.\n",
      "Man: No you haven't!\n",
      "Other Man: Yes I have.\n",
      "Man: When?\n",
      "Other Man: Just now.\n",
      "Man: No you didn't!\n",
      "Other Man: Yes I did!\n",
      "Man: You didn't!\n",
      "Other Man: I'm telling you, I did!\n",
      "Man: You did not!\n",
      "Other Man: Oh I'm sorry, is this a five minute argument, or the full half hour?\n",
      "Man: Ah! (taking out his wallet and paying) Just the five minutes.\n",
      "Other Man: Just the five minutes. Thank you.\n",
      "Other Man: Anyway, I did.\n",
      "Man: You most certainly did not!\n",
      "Other Man: Now let's get one thing quite clear: I most definitely told you!\n",
      "Man: Oh no you didn't!\n",
      "Other Man: Oh yes I did!\n",
      "Man: Oh no you didn't!\n",
      "Other Man: Oh yes I did!\n",
      "Man: Oh look, this isn't an argument!\n",
      "(pause)\n",
      "Other Man: Yes it is!\n",
      "Man: No it isn't!\n",
      "(pause)\n",
      "Man: It's just contradiction!\n",
      "Other Man: No it isn't!\n",
      "Man: It IS!\n",
      "Other Man: It is NOT!\n",
      "Man: You just contradicted me!\n",
      "Other Man: No I didn't!\n",
      "Man: You DID!\n",
      "Other Man: No no no!\n",
      "Man: You did just then!\n",
      "Other Man: Nonsense!\n",
      "Man: (exasperated) Oh, this is futile!!\n",
      "(pause)\n",
      "Other Man: No it isn't!\n",
      "Man: Yes it is!"
     ]
    }
   ],
   "source": [
    "\"\"\"\n",
    "Este código deve parecer familiar\n",
    "é uma iteração padrão usando os\n",
    "dados do arquivo como a entrada\n",
    "\"\"\"\n",
    "for each_line in data:\n",
    "    print(each_line, end='')"
   ]
  },
  {
   "cell_type": "code",
   "execution_count": 10,
   "id": "ebc63582-e5ee-4c6b-a952-b0b565a611b5",
   "metadata": {},
   "outputs": [],
   "source": [
    "data.close()"
   ]
  },
  {
   "cell_type": "code",
   "execution_count": null,
   "id": "6b197ea9-1f4e-4bc8-8407-63fd520144c8",
   "metadata": {},
   "outputs": [],
   "source": []
  }
 ],
 "metadata": {
  "kernelspec": {
   "display_name": "Python 3",
   "language": "python",
   "name": "python3"
  },
  "language_info": {
   "codemirror_mode": {
    "name": "ipython",
    "version": 3
   },
   "file_extension": ".py",
   "mimetype": "text/x-python",
   "name": "python",
   "nbconvert_exporter": "python",
   "pygments_lexer": "ipython3",
   "version": "3.9.2"
  }
 },
 "nbformat": 4,
 "nbformat_minor": 5
}
