{
 "cells": [
  {
   "cell_type": "markdown",
   "id": "7063bd91-d75c-42ad-9398-50d42b1863e0",
   "metadata": {},
   "source": [
    "Assignment 1"
   ]
  },
  {
   "cell_type": "code",
   "execution_count": 2,
   "id": "a5258c32-49e8-44ce-aeda-d14b35c56185",
   "metadata": {
    "tags": []
   },
   "outputs": [],
   "source": [
    "import turtle"
   ]
  },
  {
   "cell_type": "code",
   "execution_count": 3,
   "id": "ea629458-9f2b-48de-92be-8d55af5b8b43",
   "metadata": {
    "tags": []
   },
   "outputs": [],
   "source": [
    "t = turtle.Turtle()"
   ]
  },
  {
   "cell_type": "code",
   "execution_count": 4,
   "id": "910354b8-bd75-434a-805b-f9f92ed0eb4e",
   "metadata": {
    "tags": []
   },
   "outputs": [],
   "source": [
    "t.fd(100)"
   ]
  },
  {
   "cell_type": "code",
   "execution_count": 5,
   "id": "cb373018-61bc-4e50-804d-d926924b1504",
   "metadata": {
    "tags": []
   },
   "outputs": [],
   "source": [
    "t.lt(90)"
   ]
  },
  {
   "cell_type": "code",
   "execution_count": 12,
   "id": "3140f14f-ae0c-4aef-8d92-256671a7cf45",
   "metadata": {
    "tags": []
   },
   "outputs": [],
   "source": [
    "#TODO - move turtle t 100 pixels forward\n",
    "t.fd(100)"
   ]
  },
  {
   "cell_type": "code",
   "execution_count": 13,
   "id": "9ac6aa99-49d2-4fcd-94e3-c402641f5507",
   "metadata": {
    "tags": []
   },
   "outputs": [],
   "source": [
    "#TODO - move turtle to the left by 90 degrees\n",
    "t.lt(90)"
   ]
  },
  {
   "cell_type": "code",
   "execution_count": 14,
   "id": "2955ea05-a7d0-4502-bf5e-dfe901072444",
   "metadata": {
    "tags": []
   },
   "outputs": [],
   "source": [
    "#TODO - move turtle t 100 pixels forward\n",
    "t.fd(100)"
   ]
  },
  {
   "cell_type": "code",
   "execution_count": 15,
   "id": "56bcfc70-4604-4fea-9547-a80754970349",
   "metadata": {
    "tags": []
   },
   "outputs": [],
   "source": [
    "#TODO - turn turtle to the left 90 degrees\n",
    "t.lt(90)"
   ]
  },
  {
   "cell_type": "code",
   "execution_count": 16,
   "id": "46bbe2f7-6403-4557-813d-0d705d6e5f56",
   "metadata": {
    "tags": []
   },
   "outputs": [],
   "source": [
    "#TODO - move turtle t 100 pixels forward\n",
    "t.fd(100)"
   ]
  },
  {
   "cell_type": "code",
   "execution_count": 17,
   "id": "2be32604-3ee9-4761-8fb9-6c49c67b626b",
   "metadata": {
    "tags": []
   },
   "outputs": [],
   "source": [
    "#TODO - turn turtle to the left by 90 degrees\n",
    "t.lt(90)"
   ]
  },
  {
   "cell_type": "code",
   "execution_count": 18,
   "id": "6bcaf918-5c1c-4dd4-ade3-a583d2fea85c",
   "metadata": {
    "tags": []
   },
   "outputs": [],
   "source": [
    "# clear screen and reset the turtle to initial position\n",
    "t.clear()"
   ]
  },
  {
   "cell_type": "code",
   "execution_count": 19,
   "id": "973c9fa8-c4a6-44ee-958e-487a36de917d",
   "metadata": {
    "tags": []
   },
   "outputs": [],
   "source": [
    "# reset the screen\n",
    "turtle.resetscreen()"
   ]
  },
  {
   "cell_type": "code",
   "execution_count": 20,
   "id": "57a14c33-8b24-4109-bf5a-8c173eb8086f",
   "metadata": {
    "tags": []
   },
   "outputs": [],
   "source": [
    "# we want to create a square\n",
    "\n",
    "# Move 100 pixels forward\n",
    "# Turn left 90 deg\n",
    "\n",
    "# Move 100 pixel forward\n",
    "# Turn left 90 deg\n",
    "\n",
    "# Move 100 pixel forward\n",
    "# Turn left 90 deg\n",
    "\n",
    "# Move 100 pixel forward\n",
    "# Turn left 90 deg\n",
    "\n",
    "t.fd(100)\n",
    "t.lt(90)\n",
    "\n",
    "t.fd(100)\n",
    "t.lt(90)\n",
    "\n",
    "t.fd(100)\n",
    "t.lt(90)\n",
    "\n",
    "t.fd(100)\n",
    "t.lt(90)"
   ]
  },
  {
   "cell_type": "code",
   "execution_count": 21,
   "id": "943ba3ba-ead2-4a1e-b937-b7ebc5c2091c",
   "metadata": {
    "tags": []
   },
   "outputs": [],
   "source": [
    "#TODO - reset turtle screen\n",
    "turtle.resetscreen()"
   ]
  },
  {
   "cell_type": "code",
   "execution_count": 22,
   "id": "29be5512-2f64-489d-9edc-18e7e2375bef",
   "metadata": {
    "tags": []
   },
   "outputs": [],
   "source": [
    "# with loop\n",
    "# it's going to repeat fd-lt patter 4 times\n",
    "\n",
    "for i in range(4):\n",
    "    t.fd(100)\n",
    "    t.lt(90)\n"
   ]
  },
  {
   "cell_type": "code",
   "execution_count": 25,
   "id": "76865516-c54f-45e1-a216-363f28637ea8",
   "metadata": {
    "tags": []
   },
   "outputs": [],
   "source": [
    "# square function\n",
    "\n",
    "def reset():\n",
    "    turtle.resetscreen()\n",
    "\n",
    "def square(t, d, is_screen_reset):\n",
    "    \"\"\"\n",
    "    It draws square with turtle.\n",
    "    Parameters: turtle t, int d, bool is_screen_reset\n",
    "    Returns: None\n",
    "    \"\"\"\n",
    "    \n",
    "    # reset screen\n",
    "    if is_screen_reset == True:\n",
    "        reset()\n",
    "        \n",
    "    # draw a square\n",
    "    for i in range(4):\n",
    "        t.fd(d)\n",
    "        t.lt(90)\n"
   ]
  },
  {
   "cell_type": "code",
   "execution_count": 26,
   "id": "3bd5167e-e1f4-42dd-a42b-d1c53662536a",
   "metadata": {
    "tags": []
   },
   "outputs": [],
   "source": [
    "square(t, 200, True)"
   ]
  },
  {
   "cell_type": "code",
   "execution_count": 27,
   "id": "40d71c5b-ba64-45e3-8491-6a94d73f20f8",
   "metadata": {
    "tags": []
   },
   "outputs": [],
   "source": [
    "square(t, 300, True)"
   ]
  },
  {
   "cell_type": "code",
   "execution_count": 28,
   "id": "e23d4357-ab4e-434e-8358-e30c2fd14fe1",
   "metadata": {
    "tags": []
   },
   "outputs": [],
   "source": [
    "square(t, 100, False)"
   ]
  },
  {
   "cell_type": "code",
   "execution_count": null,
   "id": "6cec7afb-5273-4f6a-aa96-615d037cc19d",
   "metadata": {},
   "outputs": [],
   "source": []
  }
 ],
 "metadata": {
  "kernelspec": {
   "display_name": "Python 3 (ipykernel)",
   "language": "python",
   "name": "python3"
  },
  "language_info": {
   "codemirror_mode": {
    "name": "ipython",
    "version": 3
   },
   "file_extension": ".py",
   "mimetype": "text/x-python",
   "name": "python",
   "nbconvert_exporter": "python",
   "pygments_lexer": "ipython3",
   "version": "3.10.10"
  }
 },
 "nbformat": 4,
 "nbformat_minor": 5
}
