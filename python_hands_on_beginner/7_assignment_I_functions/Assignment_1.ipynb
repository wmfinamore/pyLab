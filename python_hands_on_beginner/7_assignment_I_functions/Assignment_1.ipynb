{
 "cells": [
  {
   "cell_type": "markdown",
   "id": "7063bd91-d75c-42ad-9398-50d42b1863e0",
   "metadata": {},
   "source": [
    "Assignment 1"
   ]
  },
  {
   "cell_type": "code",
   "execution_count": 2,
   "id": "a5258c32-49e8-44ce-aeda-d14b35c56185",
   "metadata": {
    "tags": []
   },
   "outputs": [],
   "source": [
    "import turtle"
   ]
  },
  {
   "cell_type": "code",
   "execution_count": 3,
   "id": "ea629458-9f2b-48de-92be-8d55af5b8b43",
   "metadata": {
    "tags": []
   },
   "outputs": [],
   "source": [
    "t = turtle.Turtle()"
   ]
  },
  {
   "cell_type": "code",
   "execution_count": 4,
   "id": "910354b8-bd75-434a-805b-f9f92ed0eb4e",
   "metadata": {
    "tags": []
   },
   "outputs": [],
   "source": [
    "t.fd(100)"
   ]
  },
  {
   "cell_type": "code",
   "execution_count": 5,
   "id": "cb373018-61bc-4e50-804d-d926924b1504",
   "metadata": {
    "tags": []
   },
   "outputs": [],
   "source": [
    "t.lt(90)"
   ]
  },
  {
   "cell_type": "code",
   "execution_count": 6,
   "id": "3140f14f-ae0c-4aef-8d92-256671a7cf45",
   "metadata": {
    "tags": []
   },
   "outputs": [],
   "source": [
    "#TODO - move turtle t 100 pixels forward\n",
    "t.fd(100)"
   ]
  },
  {
   "cell_type": "code",
   "execution_count": 7,
   "id": "9ac6aa99-49d2-4fcd-94e3-c402641f5507",
   "metadata": {
    "tags": []
   },
   "outputs": [],
   "source": [
    "#TODO - move turtle to the left by 90 degrees\n",
    "t.lt(90)"
   ]
  },
  {
   "cell_type": "code",
   "execution_count": 8,
   "id": "2955ea05-a7d0-4502-bf5e-dfe901072444",
   "metadata": {
    "tags": []
   },
   "outputs": [],
   "source": [
    "#TODO - move turtle t 100 pixels forward\n",
    "t.fd(100)"
   ]
  },
  {
   "cell_type": "code",
   "execution_count": 9,
   "id": "56bcfc70-4604-4fea-9547-a80754970349",
   "metadata": {
    "tags": []
   },
   "outputs": [],
   "source": [
    "#TODO - turn turtle to the left 90 degrees\n",
    "t.lt(90)"
   ]
  },
  {
   "cell_type": "code",
   "execution_count": 10,
   "id": "46bbe2f7-6403-4557-813d-0d705d6e5f56",
   "metadata": {
    "tags": []
   },
   "outputs": [],
   "source": [
    "#TODO - move turtle t 100 pixels forward\n",
    "t.fd(100)"
   ]
  },
  {
   "cell_type": "code",
   "execution_count": 11,
   "id": "2be32604-3ee9-4761-8fb9-6c49c67b626b",
   "metadata": {
    "tags": []
   },
   "outputs": [],
   "source": [
    "#TODO - turn turtle to the left by 90 degrees\n",
    "t.lt(90)"
   ]
  },
  {
   "cell_type": "code",
   "execution_count": 12,
   "id": "6bcaf918-5c1c-4dd4-ade3-a583d2fea85c",
   "metadata": {
    "tags": []
   },
   "outputs": [],
   "source": [
    "# clear screen and reset the turtle to initial position\n",
    "t.clear()"
   ]
  },
  {
   "cell_type": "code",
   "execution_count": 13,
   "id": "973c9fa8-c4a6-44ee-958e-487a36de917d",
   "metadata": {
    "tags": []
   },
   "outputs": [],
   "source": [
    "# reset the screen\n",
    "turtle.resetscreen()"
   ]
  },
  {
   "cell_type": "code",
   "execution_count": 14,
   "id": "57a14c33-8b24-4109-bf5a-8c173eb8086f",
   "metadata": {
    "tags": []
   },
   "outputs": [],
   "source": [
    "# we want to create a square\n",
    "\n",
    "# Move 100 pixels forward\n",
    "# Turn left 90 deg\n",
    "\n",
    "# Move 100 pixel forward\n",
    "# Turn left 90 deg\n",
    "\n",
    "# Move 100 pixel forward\n",
    "# Turn left 90 deg\n",
    "\n",
    "# Move 100 pixel forward\n",
    "# Turn left 90 deg\n",
    "\n",
    "t.fd(100)\n",
    "t.lt(90)\n",
    "\n",
    "t.fd(100)\n",
    "t.lt(90)\n",
    "\n",
    "t.fd(100)\n",
    "t.lt(90)\n",
    "\n",
    "t.fd(100)\n",
    "t.lt(90)"
   ]
  },
  {
   "cell_type": "code",
   "execution_count": 15,
   "id": "943ba3ba-ead2-4a1e-b937-b7ebc5c2091c",
   "metadata": {
    "tags": []
   },
   "outputs": [],
   "source": [
    "#TODO - reset turtle screen\n",
    "turtle.resetscreen()"
   ]
  },
  {
   "cell_type": "code",
   "execution_count": 16,
   "id": "29be5512-2f64-489d-9edc-18e7e2375bef",
   "metadata": {
    "tags": []
   },
   "outputs": [],
   "source": [
    "# with loop\n",
    "# it's going to repeat fd-lt patter 4 times\n",
    "\n",
    "for i in range(4):\n",
    "    t.fd(100)\n",
    "    t.lt(90)\n"
   ]
  },
  {
   "cell_type": "code",
   "execution_count": 17,
   "id": "76865516-c54f-45e1-a216-363f28637ea8",
   "metadata": {
    "tags": []
   },
   "outputs": [],
   "source": [
    "# square function\n",
    "\n",
    "def reset():\n",
    "    turtle.resetscreen()\n",
    "\n",
    "def square(t, d, is_screen_reset):\n",
    "    \"\"\"\n",
    "    It draws square with turtle.\n",
    "    Parameters: turtle t, int d, bool is_screen_reset\n",
    "    Returns: None\n",
    "    \"\"\"\n",
    "    \n",
    "    # reset screen\n",
    "    if is_screen_reset == True:\n",
    "        reset()\n",
    "        \n",
    "    # draw a square\n",
    "    for i in range(4):\n",
    "        t.fd(d)\n",
    "        t.lt(90)\n"
   ]
  },
  {
   "cell_type": "code",
   "execution_count": 18,
   "id": "3bd5167e-e1f4-42dd-a42b-d1c53662536a",
   "metadata": {
    "tags": []
   },
   "outputs": [],
   "source": [
    "square(t, 200, True)"
   ]
  },
  {
   "cell_type": "code",
   "execution_count": 19,
   "id": "40d71c5b-ba64-45e3-8491-6a94d73f20f8",
   "metadata": {
    "tags": []
   },
   "outputs": [],
   "source": [
    "square(t, 300, True)"
   ]
  },
  {
   "cell_type": "code",
   "execution_count": 20,
   "id": "e23d4357-ab4e-434e-8358-e30c2fd14fe1",
   "metadata": {
    "tags": []
   },
   "outputs": [],
   "source": [
    "square(t, 100, False)"
   ]
  },
  {
   "cell_type": "code",
   "execution_count": 21,
   "id": "6cec7afb-5273-4f6a-aa96-615d037cc19d",
   "metadata": {
    "tags": []
   },
   "outputs": [],
   "source": [
    "# draw 10 squares of size: 20 - 40 - 60 80 -...-200\n",
    "\n",
    "# first reset the screen just one\n",
    "reset()\n"
   ]
  },
  {
   "cell_type": "code",
   "execution_count": 22,
   "id": "8660841f-f853-41ec-90f4-502fb1474835",
   "metadata": {
    "tags": []
   },
   "outputs": [],
   "source": [
    "# loop to draw the square\n",
    "d = 20\n",
    "for i in range(1, 11):\n",
    "    square(t, d, False)\n",
    "    d += 20"
   ]
  },
  {
   "cell_type": "code",
   "execution_count": null,
   "id": "726ba0bf-28bb-4d82-a9cd-7766596d06db",
   "metadata": {},
   "outputs": [],
   "source": []
  },
  {
   "cell_type": "code",
   "execution_count": 23,
   "id": "78eaa4a7-e848-47db-a2da-e55d9b3b3c4e",
   "metadata": {
    "tags": []
   },
   "outputs": [],
   "source": [
    "# polygon function\n",
    "\n",
    "def polygon(t, d, n, is_screen_reset):\n",
    "    \"\"\"\n",
    "    Draws a polygon\n",
    "    Parameters: turtle t, int d(pixels), int n(number of sides), bool is_screen_reset\n",
    "    Returns: None\n",
    "    \"\"\"\n",
    "    \n",
    "    # is_screen_reset\n",
    "    if is_screen_reset:\n",
    "        reset()\n",
    "    \n",
    "    # angle\n",
    "    angle = 360 / n\n",
    "    \n",
    "    for i in range(n):\n",
    "        t.fd(d)\n",
    "        t.lt(angle)\n",
    "    "
   ]
  },
  {
   "cell_type": "code",
   "execution_count": 24,
   "id": "c1b29940-a0a1-449c-bcec-aa87c9255e12",
   "metadata": {
    "tags": []
   },
   "outputs": [],
   "source": [
    "polygon(t, 100, 6, True)"
   ]
  },
  {
   "cell_type": "code",
   "execution_count": 25,
   "id": "036c7f54-14c4-4d6e-8475-33ef80f9cb81",
   "metadata": {
    "tags": []
   },
   "outputs": [],
   "source": [
    "# call the plygon fn with named arguments\n",
    "polygon(t=t, d=120, n=8, is_screen_reset=False)"
   ]
  },
  {
   "cell_type": "code",
   "execution_count": 26,
   "id": "81f1b378-edea-4163-8c02-cf8eeead1687",
   "metadata": {
    "tags": []
   },
   "outputs": [],
   "source": [
    "# TODO - call square function with named parameters\n",
    "square(t=t, d=250, is_screen_reset=True)"
   ]
  },
  {
   "cell_type": "code",
   "execution_count": 27,
   "id": "31dc493f-4665-4ab2-8580-091ed8f4f2fc",
   "metadata": {
    "tags": []
   },
   "outputs": [],
   "source": [
    "import math\n",
    "\n",
    "def circle(t, r, is_screen_reset):\n",
    "    \"\"\"\n",
    "    Draw a circle\n",
    "    Parameters: turtle t, int r, bool is_screen_reset\n",
    "    Returns: None(void)\n",
    "    \"\"\"\n",
    "    \n",
    "    perimeter = 2 * math.pi * r\n",
    "    \n",
    "    # angles to turn at each step\n",
    "    angles = 10\n",
    "    \n",
    "    steps = int(360 / angles)\n",
    "    \n",
    "    distance = perimeter / steps\n",
    "    \n",
    "    polygon(t=t, d=distance, n=steps, is_screen_reset=is_screen_reset)\n",
    "    "
   ]
  },
  {
   "cell_type": "code",
   "execution_count": 28,
   "id": "5f41b45e-a09b-4946-8991-cc46a65cdfce",
   "metadata": {
    "tags": []
   },
   "outputs": [],
   "source": [
    "circle(t, 200, True)"
   ]
  },
  {
   "cell_type": "code",
   "execution_count": 29,
   "id": "35a45728-fcf1-4f9f-8e07-3142df952d7a",
   "metadata": {
    "tags": []
   },
   "outputs": [],
   "source": [
    "reset()"
   ]
  },
  {
   "cell_type": "code",
   "execution_count": 30,
   "id": "1d6df5ad-b2b6-4130-a51a-dc568e418183",
   "metadata": {
    "tags": []
   },
   "outputs": [],
   "source": [
    "for i in range(1, 4):\n",
    "    circle(t, i*50, False)"
   ]
  },
  {
   "cell_type": "code",
   "execution_count": 32,
   "id": "a6305da1-2b5d-4750-b99e-ec588f5d3da3",
   "metadata": {
    "tags": []
   },
   "outputs": [
    {
     "name": "stdout",
     "output_type": "stream",
     "text": [
      "144.0\n"
     ]
    }
   ],
   "source": [
    "# angle of a 5 sized star\n",
    "\n",
    "angle = 180 / 5\n",
    "angle = 180 - angle\n",
    "print(angle)"
   ]
  },
  {
   "cell_type": "code",
   "execution_count": 33,
   "id": "aec9e329-23f2-4daa-b910-27b8d79ad793",
   "metadata": {
    "tags": []
   },
   "outputs": [],
   "source": [
    "def star(t, d, is_screen_reset, color):\n",
    "    \"\"\"\n",
    "    Draws a star with 5 sizes\n",
    "    Parameters: turtle t, int d, bool is_screen_reset, str color\n",
    "    \"\"\"\n",
    "    \n",
    "    # resetting\n",
    "    # TODO - call reset screen based on is_screen_reset\n",
    "    if is_screen_reset:\n",
    "        reset()\n",
    "    \n",
    "    # angle\n",
    "    #TODO - Calculate the angle for 5 sizes\n",
    "    \n",
    "    angle = 180 / 5\n",
    "    angle = 180 - angle\n",
    "    \n",
    "    t.color(color)\n",
    "    \n",
    "    t.fillcolor(color)\n",
    "    t.begin_fill()\n",
    "    \n",
    "    for i in range(5):\n",
    "        t.fd(d)\n",
    "        t.lt(angle)\n",
    "    \n",
    "    t.end_fill()\n",
    "    "
   ]
  },
  {
   "cell_type": "code",
   "execution_count": 34,
   "id": "c029299e-c99e-4fe4-b84c-e5050b151690",
   "metadata": {
    "tags": []
   },
   "outputs": [],
   "source": [
    "star(t, 300, is_screen_reset=True, color='green')"
   ]
  },
  {
   "cell_type": "code",
   "execution_count": 35,
   "id": "f7b8ffbf-8357-4055-b899-6acc2d28e086",
   "metadata": {
    "tags": []
   },
   "outputs": [],
   "source": [
    "star(t, 200, is_screen_reset=False, color='orange')"
   ]
  },
  {
   "cell_type": "code",
   "execution_count": 36,
   "id": "accdcc12-644c-474b-9d02-29ae72667334",
   "metadata": {
    "tags": []
   },
   "outputs": [],
   "source": [
    "star(t, 100, is_screen_reset=False, color='purple')"
   ]
  },
  {
   "cell_type": "code",
   "execution_count": 38,
   "id": "2e1fc573-b354-43c1-81c7-c633d79773b3",
   "metadata": {
    "tags": []
   },
   "outputs": [],
   "source": [
    "# redefine the star function with number of sides as a new parameter\n",
    "\n",
    "def star(t, d, n, is_screen_reset, color):\n",
    "    \"\"\"\n",
    "    Draws a star with na sizes\n",
    "    Parameters: turtle t, int d, int n, bool is_screen_reset, str color\n",
    "    \"\"\"\n",
    "    \n",
    "    if is_screen_reset:\n",
    "        reset()\n",
    "        \n",
    "    angle = 180 / n\n",
    "    angle = 180 - angle\n",
    "    \n",
    "    t.color(color)\n",
    "    \n",
    "    t.fillcolor(color)\n",
    "    t.begin_fill()\n",
    "    \n",
    "    for i in range(n):\n",
    "        t.fd(d)\n",
    "        t.lt(angle)\n",
    "        \n",
    "    t.end_fill()"
   ]
  },
  {
   "cell_type": "code",
   "execution_count": 39,
   "id": "ec457858-11f7-4657-9ff7-093c322a8f29",
   "metadata": {
    "tags": []
   },
   "outputs": [],
   "source": [
    "star(t, 300, 11, is_screen_reset=True, color='yellow')"
   ]
  },
  {
   "cell_type": "code",
   "execution_count": 45,
   "id": "473e88ce-6ca1-48f6-8009-2dc12772d144",
   "metadata": {
    "tags": []
   },
   "outputs": [],
   "source": [
    "# redefine the star function with pen_color and fill_color\n",
    "\n",
    "def star(t, d, n, is_screen_reset, pen_color, fill_color):\n",
    "    \"\"\"\n",
    "    Draws a star with n sizes\n",
    "    Parameters: turtle t, int d, int n, bool is_screen_reset, str pen_color, fill_color\n",
    "    \"\"\"\n",
    "    \n",
    "    if is_screen_reset:\n",
    "        reset()\n",
    "        \n",
    "    angle = 180 / n\n",
    "    angle = 180 - angle\n",
    "    \n",
    "    t.color(pen_color)\n",
    "    \n",
    "    t.fillcolor(fill_color)\n",
    "    t.begin_fill()\n",
    "    \n",
    "    for i in range(n):\n",
    "        t.fd(d)\n",
    "        t.lt(angle)\n",
    "        \n",
    "    t.end_fill()\n",
    "    \n",
    "    "
   ]
  },
  {
   "cell_type": "code",
   "execution_count": 47,
   "id": "715211ed-a7fc-4a29-ab0b-310c72209681",
   "metadata": {
    "tags": []
   },
   "outputs": [],
   "source": [
    "star(t, 300, 15, is_screen_reset=True, pen_color='red', fill_color='black')"
   ]
  },
  {
   "cell_type": "code",
   "execution_count": 48,
   "id": "43881313-6b57-495b-9a37-3172634eebf9",
   "metadata": {
    "tags": []
   },
   "outputs": [],
   "source": [
    "# last statement -> before close\n",
    "# restart kernel after you close the turtle\n",
    "\n",
    "turtle.mainloop()"
   ]
  },
  {
   "cell_type": "code",
   "execution_count": null,
   "id": "642c9a5e-2850-4ad3-be01-65a89e1a982f",
   "metadata": {},
   "outputs": [],
   "source": []
  }
 ],
 "metadata": {
  "kernelspec": {
   "display_name": "Python 3 (ipykernel)",
   "language": "python",
   "name": "python3"
  },
  "language_info": {
   "codemirror_mode": {
    "name": "ipython",
    "version": 3
   },
   "file_extension": ".py",
   "mimetype": "text/x-python",
   "name": "python",
   "nbconvert_exporter": "python",
   "pygments_lexer": "ipython3",
   "version": "3.10.10"
  }
 },
 "nbformat": 4,
 "nbformat_minor": 5
}
