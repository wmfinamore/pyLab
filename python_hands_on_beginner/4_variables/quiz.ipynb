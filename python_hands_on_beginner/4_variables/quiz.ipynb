{
 "cells": [
  {
   "cell_type": "code",
   "execution_count": 1,
   "id": "bfef03e6-928f-4dbb-8dff-c12400a090b2",
   "metadata": {
    "tags": []
   },
   "outputs": [
    {
     "name": "stdout",
     "output_type": "stream",
     "text": [
      "Hello World!\n"
     ]
    }
   ],
   "source": [
    "print(\"Hello World!\")"
   ]
  },
  {
   "cell_type": "code",
   "execution_count": 2,
   "id": "4d30c28c-6b39-488e-9ec7-27649f564d79",
   "metadata": {
    "tags": []
   },
   "outputs": [
    {
     "name": "stdout",
     "output_type": "stream",
     "text": [
      "Alice's Adventure\n"
     ]
    }
   ],
   "source": [
    "print(\"Alice's Adventure\")"
   ]
  },
  {
   "cell_type": "code",
   "execution_count": 3,
   "id": "19c38318-ea84-4f49-bcaa-cb02ac4f93d8",
   "metadata": {
    "tags": []
   },
   "outputs": [],
   "source": [
    "# I am a Comment Line :)"
   ]
  },
  {
   "cell_type": "code",
   "execution_count": 4,
   "id": "b0e36ff2-cb82-4451-b641-991c580356eb",
   "metadata": {
    "tags": []
   },
   "outputs": [
    {
     "data": {
      "text/plain": [
       "'\\nThis comment line\\nIs multiple lines comment\\nNot just one...\\n'"
      ]
     },
     "execution_count": 4,
     "metadata": {},
     "output_type": "execute_result"
    }
   ],
   "source": [
    "\"\"\"\n",
    "This comment line\n",
    "Is multiple lines comment\n",
    "Not just one...\n",
    "\"\"\""
   ]
  },
  {
   "cell_type": "code",
   "execution_count": 6,
   "id": "dde95306-ae1f-470d-a3ad-a8f50c227391",
   "metadata": {
    "tags": []
   },
   "outputs": [
    {
     "name": "stdout",
     "output_type": "stream",
     "text": [
      "\n",
      "Who in the world am I?\n",
      "    Ah, that's the great puzzle!\n",
      "    'Alice' in the Wonderland'\n",
      "\n"
     ]
    }
   ],
   "source": [
    "print(\"\"\"\n",
    "Who in the world am I?\n",
    "    Ah, that's the great puzzle!\n",
    "    'Alice' in the Wonderland'\n",
    "\"\"\")"
   ]
  },
  {
   "cell_type": "code",
   "execution_count": 7,
   "id": "11554616-1c49-4f6c-be3d-d0116cabc96a",
   "metadata": {
    "tags": []
   },
   "outputs": [
    {
     "data": {
      "text/plain": [
       "'Volvo'"
      ]
     },
     "execution_count": 7,
     "metadata": {},
     "output_type": "execute_result"
    }
   ],
   "source": [
    "car_model = 'Volvo'\n",
    "car_model"
   ]
  },
  {
   "cell_type": "code",
   "execution_count": 8,
   "id": "a7b28a50-1d5c-4656-ad2b-9a14af19a941",
   "metadata": {
    "tags": []
   },
   "outputs": [
    {
     "data": {
      "text/plain": [
       "50"
      ]
     },
     "execution_count": 8,
     "metadata": {},
     "output_type": "execute_result"
    }
   ],
   "source": [
    "x = 50\n",
    "x"
   ]
  },
  {
   "cell_type": "code",
   "execution_count": 9,
   "id": "939f6e0b-fd0e-4505-8998-99309a7c2607",
   "metadata": {
    "tags": []
   },
   "outputs": [
    {
     "name": "stdout",
     "output_type": "stream",
     "text": [
      "70\n"
     ]
    }
   ],
   "source": [
    "x = 20\n",
    "y = 50\n",
    "z = x + y\n",
    "print(z)"
   ]
  },
  {
   "cell_type": "code",
   "execution_count": 10,
   "id": "4e839199-638d-4b4e-84aa-64a4e9c29376",
   "metadata": {
    "tags": []
   },
   "outputs": [
    {
     "data": {
      "text/plain": [
       "'Beta'"
      ]
     },
     "execution_count": 10,
     "metadata": {},
     "output_type": "execute_result"
    }
   ],
   "source": [
    "myfirst_variableβ = \"Beta\"\n",
    "myfirst_variableβ"
   ]
  },
  {
   "cell_type": "code",
   "execution_count": 16,
   "id": "45c8b5a3-0c68-4323-9ac9-7f3843a1be11",
   "metadata": {
    "tags": []
   },
   "outputs": [
    {
     "name": "stdout",
     "output_type": "stream",
     "text": [
      "Python\n",
      "Python\n",
      "Python\n"
     ]
    }
   ],
   "source": [
    "# multiple assignment\n",
    "\n",
    "x = y = z = \"Python\"\n",
    "print(x)\n",
    "print(y)\n",
    "print(z)"
   ]
  },
  {
   "cell_type": "code",
   "execution_count": null,
   "id": "78a1ce6d-6886-46eb-a70f-dd2ad3900136",
   "metadata": {},
   "outputs": [],
   "source": []
  }
 ],
 "metadata": {
  "kernelspec": {
   "display_name": "Python 3 (ipykernel)",
   "language": "python",
   "name": "python3"
  },
  "language_info": {
   "codemirror_mode": {
    "name": "ipython",
    "version": 3
   },
   "file_extension": ".py",
   "mimetype": "text/x-python",
   "name": "python",
   "nbconvert_exporter": "python",
   "pygments_lexer": "ipython3",
   "version": "3.10.10"
  }
 },
 "nbformat": 4,
 "nbformat_minor": 5
}
