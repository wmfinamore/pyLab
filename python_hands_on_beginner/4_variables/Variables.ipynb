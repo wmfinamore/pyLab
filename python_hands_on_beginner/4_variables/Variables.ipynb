{
 "cells": [
  {
   "cell_type": "markdown",
   "id": "65325463-9764-4209-8c86-50deb62a8f04",
   "metadata": {},
   "source": [
    "Assigning"
   ]
  },
  {
   "cell_type": "code",
   "execution_count": 1,
   "id": "5ad38a59-c04e-4da0-b96f-b4579f5d4d17",
   "metadata": {
    "tags": []
   },
   "outputs": [
    {
     "name": "stdout",
     "output_type": "stream",
     "text": [
      "12\n"
     ]
    }
   ],
   "source": [
    "myNumber = 12\n",
    "print(myNumber)"
   ]
  },
  {
   "cell_type": "code",
   "execution_count": 3,
   "id": "49e6361a-3975-4882-8be9-4d273dfec631",
   "metadata": {
    "tags": []
   },
   "outputs": [
    {
     "name": "stdout",
     "output_type": "stream",
     "text": [
      "Python name comes from Monty Phyton's Flying Circus\n"
     ]
    }
   ],
   "source": [
    "info = \"Python name comes from Monty Phyton's Flying Circus\"\n",
    "print(info)"
   ]
  },
  {
   "cell_type": "code",
   "execution_count": 4,
   "id": "2856a53e-7f3f-4d8a-a2d8-87f23c5ec9d3",
   "metadata": {
    "tags": []
   },
   "outputs": [
    {
     "name": "stdout",
     "output_type": "stream",
     "text": [
      "3.1415\n"
     ]
    }
   ],
   "source": [
    "pi = 3.1415\n",
    "print(pi)"
   ]
  },
  {
   "cell_type": "code",
   "execution_count": 5,
   "id": "bd9b1de4-647e-4577-8f01-095a3b71c46a",
   "metadata": {
    "tags": []
   },
   "outputs": [
    {
     "name": "stdout",
     "output_type": "stream",
     "text": [
      "460\n"
     ]
    }
   ],
   "source": [
    "n = 460\n",
    "print(n)"
   ]
  },
  {
   "cell_type": "code",
   "execution_count": 6,
   "id": "6a1b7c3d-5822-4303-9558-d6719134cd29",
   "metadata": {
    "tags": []
   },
   "outputs": [
    {
     "ename": "NameError",
     "evalue": "name 'a' is not defined",
     "output_type": "error",
     "traceback": [
      "\u001b[1;31m---------------------------------------------------------------------------\u001b[0m",
      "\u001b[1;31mNameError\u001b[0m                                 Traceback (most recent call last)",
      "Cell \u001b[1;32mIn[6], line 1\u001b[0m\n\u001b[1;32m----> 1\u001b[0m \u001b[38;5;28mprint\u001b[39m(\u001b[43ma\u001b[49m)\n",
      "\u001b[1;31mNameError\u001b[0m: name 'a' is not defined"
     ]
    }
   ],
   "source": [
    "print(a)"
   ]
  },
  {
   "cell_type": "code",
   "execution_count": 7,
   "id": "e893248e-372a-4343-bbb9-1e5741c9e928",
   "metadata": {
    "tags": []
   },
   "outputs": [
    {
     "data": {
      "text/plain": [
       "1000"
      ]
     },
     "execution_count": 7,
     "metadata": {},
     "output_type": "execute_result"
    }
   ],
   "source": [
    "a = 1000\n",
    "a"
   ]
  },
  {
   "cell_type": "markdown",
   "id": "e6902cce-c558-45e1-b971-4c1df85c8bfe",
   "metadata": {},
   "source": [
    "Reassigning"
   ]
  },
  {
   "cell_type": "code",
   "execution_count": 8,
   "id": "f9e941bc-8743-4376-8dc8-538a5c55cc9c",
   "metadata": {
    "tags": []
   },
   "outputs": [
    {
     "data": {
      "text/plain": [
       "'Python Hands-On'"
      ]
     },
     "execution_count": 8,
     "metadata": {},
     "output_type": "execute_result"
    }
   ],
   "source": [
    "myNumber = \"Python Hands-On\"\n",
    "myNumber"
   ]
  },
  {
   "cell_type": "markdown",
   "id": "63b4aaee-3ae2-4a09-bc41-ca39e87b50f5",
   "metadata": {},
   "source": [
    "Variables Names"
   ]
  },
  {
   "cell_type": "code",
   "execution_count": 9,
   "id": "9479ca45-9736-4e47-b346-fee9fa3f9400",
   "metadata": {
    "tags": []
   },
   "outputs": [
    {
     "ename": "SyntaxError",
     "evalue": "invalid decimal literal (388009423.py, line 1)",
     "output_type": "error",
     "traceback": [
      "\u001b[1;36m  Cell \u001b[1;32mIn[9], line 1\u001b[1;36m\u001b[0m\n\u001b[1;33m    1number = 1245\u001b[0m\n\u001b[1;37m    ^\u001b[0m\n\u001b[1;31mSyntaxError\u001b[0m\u001b[1;31m:\u001b[0m invalid decimal literal\n"
     ]
    }
   ],
   "source": [
    "1number = 1245"
   ]
  },
  {
   "cell_type": "code",
   "execution_count": 10,
   "id": "1b7772de-3f3e-405d-b1b1-2ddd4a462562",
   "metadata": {
    "tags": []
   },
   "outputs": [
    {
     "ename": "SyntaxError",
     "evalue": "invalid syntax (3979765169.py, line 1)",
     "output_type": "error",
     "traceback": [
      "\u001b[1;36m  Cell \u001b[1;32mIn[10], line 1\u001b[1;36m\u001b[0m\n\u001b[1;33m    average speed = 85\u001b[0m\n\u001b[1;37m            ^\u001b[0m\n\u001b[1;31mSyntaxError\u001b[0m\u001b[1;31m:\u001b[0m invalid syntax\n"
     ]
    }
   ],
   "source": [
    "average speed = 85"
   ]
  },
  {
   "cell_type": "code",
   "execution_count": 11,
   "id": "72694408-a27d-43e7-b715-e628f374b9c7",
   "metadata": {
    "tags": []
   },
   "outputs": [
    {
     "data": {
      "text/plain": [
       "80"
      ]
     },
     "execution_count": 11,
     "metadata": {},
     "output_type": "execute_result"
    }
   ],
   "source": [
    "average_speed = 80\n",
    "average_speed"
   ]
  },
  {
   "cell_type": "code",
   "execution_count": 12,
   "id": "f746ef8b-67e6-44a2-908d-1bb6b34f8de8",
   "metadata": {
    "tags": []
   },
   "outputs": [
    {
     "ename": "SyntaxError",
     "evalue": "invalid syntax. Maybe you meant '==' or ':=' instead of '='? (2960287653.py, line 1)",
     "output_type": "error",
     "traceback": [
      "\u001b[1;36m  Cell \u001b[1;32mIn[12], line 1\u001b[1;36m\u001b[0m\n\u001b[1;33m    @tenth = 10\u001b[0m\n\u001b[1;37m     ^\u001b[0m\n\u001b[1;31mSyntaxError\u001b[0m\u001b[1;31m:\u001b[0m invalid syntax. Maybe you meant '==' or ':=' instead of '='?\n"
     ]
    }
   ],
   "source": [
    "@tenth = 10\n",
    "@tenth"
   ]
  },
  {
   "cell_type": "code",
   "execution_count": 13,
   "id": "2a9976c6-8fd5-4607-afb4-ebe52f26b701",
   "metadata": {
    "tags": []
   },
   "outputs": [
    {
     "ename": "SyntaxError",
     "evalue": "cannot assign to expression here. Maybe you meant '==' instead of '='? (1329142485.py, line 1)",
     "output_type": "error",
     "traceback": [
      "\u001b[1;36m  Cell \u001b[1;32mIn[13], line 1\u001b[1;36m\u001b[0m\n\u001b[1;33m    ten@th = 10\u001b[0m\n\u001b[1;37m    ^\u001b[0m\n\u001b[1;31mSyntaxError\u001b[0m\u001b[1;31m:\u001b[0m cannot assign to expression here. Maybe you meant '==' instead of '='?\n"
     ]
    }
   ],
   "source": [
    "ten@th = 10\n",
    "ten@th"
   ]
  },
  {
   "cell_type": "code",
   "execution_count": 14,
   "id": "c7d2ae7f-cfdd-49ab-9e08-1a51f2544e17",
   "metadata": {
    "tags": []
   },
   "outputs": [
    {
     "ename": "SyntaxError",
     "evalue": "starred assignment target must be in a list or tuple (1810212927.py, line 1)",
     "output_type": "error",
     "traceback": [
      "\u001b[1;36m  Cell \u001b[1;32mIn[14], line 1\u001b[1;36m\u001b[0m\n\u001b[1;33m    *a = 45\u001b[0m\n\u001b[1;37m    ^\u001b[0m\n\u001b[1;31mSyntaxError\u001b[0m\u001b[1;31m:\u001b[0m starred assignment target must be in a list or tuple\n"
     ]
    }
   ],
   "source": [
    "*a = 45"
   ]
  },
  {
   "cell_type": "code",
   "execution_count": 15,
   "id": "3fbb4433-c4e8-4dd5-941d-8c8d16923b1e",
   "metadata": {
    "tags": []
   },
   "outputs": [
    {
     "ename": "SyntaxError",
     "evalue": "invalid syntax (1530693960.py, line 1)",
     "output_type": "error",
     "traceback": [
      "\u001b[1;36m  Cell \u001b[1;32mIn[15], line 1\u001b[1;36m\u001b[0m\n\u001b[1;33m    for = 4\u001b[0m\n\u001b[1;37m        ^\u001b[0m\n\u001b[1;31mSyntaxError\u001b[0m\u001b[1;31m:\u001b[0m invalid syntax\n"
     ]
    }
   ],
   "source": [
    "for = 4\n",
    "for"
   ]
  },
  {
   "cell_type": "code",
   "execution_count": 16,
   "id": "50306d34-1e7c-42ea-90b9-abf1bbce2e0f",
   "metadata": {
    "tags": []
   },
   "outputs": [
    {
     "data": {
      "text/plain": [
       "45"
      ]
     },
     "execution_count": 16,
     "metadata": {},
     "output_type": "execute_result"
    }
   ],
   "source": [
    "a = 10\n",
    "A = 45"
   ]
  },
  {
   "cell_type": "code",
   "execution_count": 17,
   "id": "8204a786-8c60-4e5e-b86c-c70835e9960c",
   "metadata": {
    "tags": []
   },
   "outputs": [
    {
     "name": "stdout",
     "output_type": "stream",
     "text": [
      "10\n"
     ]
    }
   ],
   "source": [
    "print(a)"
   ]
  },
  {
   "cell_type": "code",
   "execution_count": 18,
   "id": "e187050d-b37e-49f0-ae8a-df3474d44ce6",
   "metadata": {
    "tags": []
   },
   "outputs": [
    {
     "name": "stdout",
     "output_type": "stream",
     "text": [
      "45\n"
     ]
    }
   ],
   "source": [
    "print(A)"
   ]
  },
  {
   "cell_type": "code",
   "execution_count": 19,
   "id": "2795a589-bb4a-4fa0-9bfc-70cadebce453",
   "metadata": {
    "tags": []
   },
   "outputs": [],
   "source": [
    "num = 5\n",
    "Num = 12"
   ]
  },
  {
   "cell_type": "code",
   "execution_count": 20,
   "id": "1a7d4be2-b21c-461b-ab4b-187a6e7f49e4",
   "metadata": {
    "tags": []
   },
   "outputs": [
    {
     "name": "stdout",
     "output_type": "stream",
     "text": [
      "5\n"
     ]
    }
   ],
   "source": [
    "print(num)"
   ]
  },
  {
   "cell_type": "code",
   "execution_count": 21,
   "id": "0412f95b-fb3d-4347-b3e7-813f31adbec8",
   "metadata": {
    "tags": []
   },
   "outputs": [
    {
     "name": "stdout",
     "output_type": "stream",
     "text": [
      "12\n"
     ]
    }
   ],
   "source": [
    "print(Num)"
   ]
  },
  {
   "cell_type": "code",
   "execution_count": 22,
   "id": "f180cae7-ec1d-422f-9611-aa59974c19bd",
   "metadata": {
    "tags": []
   },
   "outputs": [
    {
     "name": "stdout",
     "output_type": "stream",
     "text": [
      "80\n"
     ]
    }
   ],
   "source": [
    "Ω_omega = 80\n",
    "print(Ω_omega)"
   ]
  },
  {
   "cell_type": "code",
   "execution_count": 23,
   "id": "c14ad41c-23af-40fa-bde3-a26ca99ecbfe",
   "metadata": {
    "tags": []
   },
   "outputs": [
    {
     "name": "stdout",
     "output_type": "stream",
     "text": [
      "80\n"
     ]
    }
   ],
   "source": [
    "omega = 80\n",
    "print(omega)"
   ]
  },
  {
   "cell_type": "markdown",
   "id": "8eb1159a-b6e0-4c64-b60e-54a26dac3679",
   "metadata": {},
   "source": [
    "TEXT TYPE"
   ]
  },
  {
   "cell_type": "code",
   "execution_count": 24,
   "id": "9db1e492-1b9b-407f-9682-644ea0d3a998",
   "metadata": {
    "tags": []
   },
   "outputs": [],
   "source": [
    "# str (string) with single quotes\n",
    "text = 'This is a single quoted string'"
   ]
  },
  {
   "cell_type": "code",
   "execution_count": 25,
   "id": "4182efb0-9ceb-4452-b7b6-7c935da0a4e3",
   "metadata": {
    "tags": []
   },
   "outputs": [
    {
     "data": {
      "text/plain": [
       "str"
      ]
     },
     "execution_count": 25,
     "metadata": {},
     "output_type": "execute_result"
    }
   ],
   "source": [
    "type(text)"
   ]
  },
  {
   "cell_type": "code",
   "execution_count": 26,
   "id": "5abfefa7-60a8-4092-8d9a-f8102c22ed51",
   "metadata": {
    "tags": []
   },
   "outputs": [
    {
     "data": {
      "text/plain": [
       "str"
      ]
     },
     "execution_count": 26,
     "metadata": {},
     "output_type": "execute_result"
    }
   ],
   "source": [
    "# str (string) with double quotes\n",
    "text = \"This is a double quoted string\"\n",
    "type(text)"
   ]
  },
  {
   "cell_type": "markdown",
   "id": "02319f81-74d2-4918-9a4a-240464e3b3b9",
   "metadata": {},
   "source": [
    "NUMERIC TYPES"
   ]
  },
  {
   "cell_type": "code",
   "execution_count": 27,
   "id": "077eb836-f3ab-4fe9-89fa-2500a61e43b2",
   "metadata": {
    "tags": []
   },
   "outputs": [
    {
     "data": {
      "text/plain": [
       "int"
      ]
     },
     "execution_count": 27,
     "metadata": {},
     "output_type": "execute_result"
    }
   ],
   "source": [
    "# int(integer)\n",
    "integer_number = 16\n",
    "type(integer_number)"
   ]
  },
  {
   "cell_type": "code",
   "execution_count": 28,
   "id": "d74bb6b1-9d22-4ac2-a0e6-18dc22ad4e9e",
   "metadata": {
    "tags": []
   },
   "outputs": [
    {
     "name": "stdout",
     "output_type": "stream",
     "text": [
      "<class 'float'>\n"
     ]
    }
   ],
   "source": [
    "#float\n",
    "floating_point_number = 4.6\n",
    "print(type(floating_point_number))"
   ]
  },
  {
   "cell_type": "code",
   "execution_count": 29,
   "id": "566c3c4d-86d6-4116-ba19-dd82804955fb",
   "metadata": {
    "tags": []
   },
   "outputs": [
    {
     "name": "stdout",
     "output_type": "stream",
     "text": [
      "<class 'complex'>\n"
     ]
    }
   ],
   "source": [
    "# complex\n",
    "complex_number = 2+3j\n",
    "print(type(complex_number))"
   ]
  },
  {
   "cell_type": "markdown",
   "id": "41a7542c-b220-45e9-a675-fb1c50b5cd9b",
   "metadata": {},
   "source": [
    "SEQUENCE TYPES"
   ]
  },
  {
   "cell_type": "code",
   "execution_count": 30,
   "id": "808bf831-1895-49ba-af0e-2ecdc8b2db70",
   "metadata": {
    "tags": []
   },
   "outputs": [
    {
     "name": "stdout",
     "output_type": "stream",
     "text": [
      "[1, 2, 3, 4, 5]\n"
     ]
    }
   ],
   "source": [
    "# list\n",
    "my_list = [1,2,3,4,5]\n",
    "print(my_list)"
   ]
  },
  {
   "cell_type": "code",
   "execution_count": 31,
   "id": "015e713d-3109-4741-bc33-9b1335432a74",
   "metadata": {
    "tags": []
   },
   "outputs": [
    {
     "data": {
      "text/plain": [
       "list"
      ]
     },
     "execution_count": 31,
     "metadata": {},
     "output_type": "execute_result"
    }
   ],
   "source": [
    "type(my_list)"
   ]
  },
  {
   "cell_type": "code",
   "execution_count": 32,
   "id": "22e9103c-3b11-4dd8-b7a6-ac69eed77c4d",
   "metadata": {
    "tags": []
   },
   "outputs": [
    {
     "name": "stdout",
     "output_type": "stream",
     "text": [
      "('A', 'B', 'C')\n"
     ]
    },
    {
     "data": {
      "text/plain": [
       "tuple"
      ]
     },
     "execution_count": 32,
     "metadata": {},
     "output_type": "execute_result"
    }
   ],
   "source": [
    "# tuple\n",
    "three_letters = ('A','B','C')\n",
    "print(three_letters)\n",
    "type(three_letters)"
   ]
  },
  {
   "cell_type": "code",
   "execution_count": 33,
   "id": "9e56e301-7b0e-4d2d-99ea-8b2e9f4f7633",
   "metadata": {
    "tags": []
   },
   "outputs": [
    {
     "name": "stdout",
     "output_type": "stream",
     "text": [
      "range(0, 5)\n"
     ]
    },
    {
     "data": {
      "text/plain": [
       "range"
      ]
     },
     "execution_count": 33,
     "metadata": {},
     "output_type": "execute_result"
    }
   ],
   "source": [
    "# range\n",
    "up_to_five = range(5)\n",
    "print(up_to_five)\n",
    "type(up_to_five)"
   ]
  },
  {
   "cell_type": "code",
   "execution_count": 35,
   "id": "ba575c34-3621-4af2-a138-b51b212a0f7b",
   "metadata": {
    "tags": []
   },
   "outputs": [
    {
     "name": "stdout",
     "output_type": "stream",
     "text": [
      "0\n",
      "1\n",
      "2\n",
      "3\n",
      "4\n"
     ]
    }
   ],
   "source": [
    "for i in up_to_five:\n",
    "    print(i)\n"
   ]
  },
  {
   "cell_type": "markdown",
   "id": "9dc466c0-dc5d-4c18-beec-da9faebf7b4b",
   "metadata": {},
   "source": [
    "MAPPING TYPE"
   ]
  },
  {
   "cell_type": "code",
   "execution_count": 36,
   "id": "51a84f98-b474-46d3-a29f-7866b0dbb116",
   "metadata": {
    "tags": []
   },
   "outputs": [
    {
     "name": "stdout",
     "output_type": "stream",
     "text": [
      "{'name': 'Musa', 'last_name': 'Arda', 'language': 'Python'}\n"
     ]
    },
    {
     "data": {
      "text/plain": [
       "dict"
      ]
     },
     "execution_count": 36,
     "metadata": {},
     "output_type": "execute_result"
    }
   ],
   "source": [
    "# dictionary\n",
    "user = {\n",
    "    \"name\":\"Musa\",\n",
    "    \"last_name\":\"Arda\",\n",
    "    \"language\":\"Python\",\n",
    "}\n",
    "print(user)\n",
    "type(user)"
   ]
  },
  {
   "cell_type": "markdown",
   "id": "418f8acf-522d-431c-95b4-0d46ea46ec79",
   "metadata": {},
   "source": [
    "SET TYPES"
   ]
  },
  {
   "cell_type": "code",
   "execution_count": 37,
   "id": "17ffded0-edae-4434-b83b-dc7a660b14a5",
   "metadata": {
    "tags": []
   },
   "outputs": [
    {
     "name": "stdout",
     "output_type": "stream",
     "text": [
      "{1, 2, 3, 4}\n"
     ]
    },
    {
     "data": {
      "text/plain": [
       "set"
      ]
     },
     "execution_count": 37,
     "metadata": {},
     "output_type": "execute_result"
    }
   ],
   "source": [
    "# set\n",
    "set_of_numbers = {1,2,2,3,1,3,4,4,1}\n",
    "print(set_of_numbers)\n",
    "type(set_of_numbers)"
   ]
  },
  {
   "cell_type": "markdown",
   "id": "541a3a7d-9a37-46c6-be69-94bce142823f",
   "metadata": {},
   "source": [
    "BOOLEAN TYPE"
   ]
  },
  {
   "cell_type": "code",
   "execution_count": 38,
   "id": "c81c1177-f899-4c3d-b86b-22408491c082",
   "metadata": {
    "tags": []
   },
   "outputs": [
    {
     "name": "stdout",
     "output_type": "stream",
     "text": [
      "True\n",
      "False\n"
     ]
    }
   ],
   "source": [
    "# booleans\n",
    "correct = True\n",
    "wrong = False\n",
    "print(correct)\n",
    "print(wrong)"
   ]
  },
  {
   "cell_type": "markdown",
   "id": "ae108f56-498c-4bc4-b349-78fa4ed0a2c0",
   "metadata": {},
   "source": [
    "TYPE CONVERSION"
   ]
  },
  {
   "cell_type": "code",
   "execution_count": 1,
   "id": "77568b07-9464-4442-8bb1-be0461b89b06",
   "metadata": {
    "tags": []
   },
   "outputs": [
    {
     "data": {
      "text/plain": [
       "str"
      ]
     },
     "execution_count": 1,
     "metadata": {},
     "output_type": "execute_result"
    }
   ],
   "source": [
    "# a string variable\n",
    "str_num = \"24\"\n",
    "type(str_num)"
   ]
  },
  {
   "cell_type": "code",
   "execution_count": 2,
   "id": "1de3c01d-58e4-4c67-a5b5-0b3fea88bc07",
   "metadata": {
    "tags": []
   },
   "outputs": [
    {
     "data": {
      "text/plain": [
       "int"
      ]
     },
     "execution_count": 2,
     "metadata": {},
     "output_type": "execute_result"
    }
   ],
   "source": [
    "# convert it into integer\n",
    "int_num = int(str_num)\n",
    "type(int_num)"
   ]
  },
  {
   "cell_type": "code",
   "execution_count": 4,
   "id": "0ccb296b-32ec-4f28-8a2b-092ed04b0f3f",
   "metadata": {
    "tags": []
   },
   "outputs": [
    {
     "data": {
      "text/plain": [
       "int"
      ]
     },
     "execution_count": 4,
     "metadata": {},
     "output_type": "execute_result"
    }
   ],
   "source": [
    "# create  a floating point number first\n",
    "my_decimal = 3.71486\n",
    "\n",
    "# convert it into integer\n",
    "my_int = int(my_decimal)\n",
    "\n",
    "# print the type of my_int\n",
    "type(my_int)"
   ]
  },
  {
   "cell_type": "code",
   "execution_count": 6,
   "id": "87fa2d8c-0a7c-435d-99fb-e2a6baba550f",
   "metadata": {
    "tags": []
   },
   "outputs": [
    {
     "data": {
      "text/plain": [
       "4.0"
      ]
     },
     "execution_count": 6,
     "metadata": {},
     "output_type": "execute_result"
    }
   ],
   "source": [
    "my_float = float(4)\n",
    "my_float"
   ]
  },
  {
   "cell_type": "code",
   "execution_count": 7,
   "id": "ea6e8332-6bc1-4328-b367-cc1c9c2b07ca",
   "metadata": {
    "tags": []
   },
   "outputs": [
    {
     "name": "stdout",
     "output_type": "stream",
     "text": [
      "3.14159\n",
      "<class 'float'>\n"
     ]
    }
   ],
   "source": [
    "pi = float(\"3.14159\")\n",
    "print(pi)\n",
    "print(type(pi))"
   ]
  },
  {
   "cell_type": "code",
   "execution_count": 8,
   "id": "4d93c9fa-b62f-4508-ac2f-19a941f77ce8",
   "metadata": {
    "tags": []
   },
   "outputs": [
    {
     "name": "stdout",
     "output_type": "stream",
     "text": [
      "<class 'str'>\n"
     ]
    },
    {
     "data": {
      "text/plain": [
       "'188'"
      ]
     },
     "execution_count": 8,
     "metadata": {},
     "output_type": "execute_result"
    }
   ],
   "source": [
    "number_in_quotes = str(188)\n",
    "print(type(number_in_quotes))\n",
    "number_in_quotes"
   ]
  },
  {
   "cell_type": "code",
   "execution_count": 9,
   "id": "a229f730-41d7-419e-b01f-a552682857af",
   "metadata": {
    "tags": []
   },
   "outputs": [
    {
     "data": {
      "text/plain": [
       "'3.14159'"
      ]
     },
     "execution_count": 9,
     "metadata": {},
     "output_type": "execute_result"
    }
   ],
   "source": [
    "str(3.14159)"
   ]
  },
  {
   "cell_type": "markdown",
   "id": "fc4dcd0c-c184-47be-84e6-3dc5e6ef75ab",
   "metadata": {},
   "source": [
    "PYTHON COMMENTS"
   ]
  },
  {
   "cell_type": "code",
   "execution_count": 10,
   "id": "dd92707d-9965-4e5f-b1ba-ad930e716e95",
   "metadata": {
    "tags": []
   },
   "outputs": [],
   "source": [
    "#One Line Comment\n",
    "\n",
    "# This is one line comment"
   ]
  },
  {
   "cell_type": "code",
   "execution_count": 11,
   "id": "33bb1da4-254b-418d-b430-e0f66d5651dc",
   "metadata": {
    "tags": []
   },
   "outputs": [
    {
     "name": "stdout",
     "output_type": "stream",
     "text": [
      "90000\n"
     ]
    }
   ],
   "source": [
    "# keeps the miles traveled\n",
    "miles_traveled = 90000\n",
    "print(miles_traveled)"
   ]
  },
  {
   "cell_type": "code",
   "execution_count": 12,
   "id": "558d616d-62bf-4fb9-963c-8b5759bb488c",
   "metadata": {
    "tags": []
   },
   "outputs": [
    {
     "name": "stdout",
     "output_type": "stream",
     "text": [
      "75.0\n"
     ]
    }
   ],
   "source": [
    "# average speed = displacemente / change in time\n",
    "# frist get the displacement\n",
    "displacement = 450 # km\n",
    "\n",
    "# then get the change in time\n",
    "change_in_time = 6 #hr\n",
    "\n",
    "# calculate the average speed\n",
    "average_speed = displacement / change_in_time\n",
    "\n",
    "# print the result\n",
    "print(average_speed)"
   ]
  },
  {
   "cell_type": "code",
   "execution_count": 13,
   "id": "04d0c490-ec52-4d7e-8a15-60d31d2a3a4e",
   "metadata": {
    "tags": []
   },
   "outputs": [
    {
     "data": {
      "text/plain": [
       "'\\n\\nMulti-Line Comment\\n\\nIn Python, Multi-Line comments,\\nare created via a pair of triple quotes: \\n\\nAs in this case.\\n\\n'"
      ]
     },
     "execution_count": 13,
     "metadata": {},
     "output_type": "execute_result"
    }
   ],
   "source": [
    "\"\"\"\n",
    "\n",
    "Multi-Line Comment\n",
    "\n",
    "In Python, Multi-Line comments,\n",
    "are created via a pair of triple quotes: \"\"\" \"\"\"\n",
    "\n",
    "As in this case.\n",
    "\n",
    "\"\"\""
   ]
  },
  {
   "cell_type": "code",
   "execution_count": 15,
   "id": "9b2d1d82-64f8-4994-ba3c-252f2d57fd74",
   "metadata": {
    "tags": []
   },
   "outputs": [
    {
     "name": "stdout",
     "output_type": "stream",
     "text": [
      "Line 1 \n",
      "Line2 \n",
      "Line3\n"
     ]
    }
   ],
   "source": [
    "multi_line_text = \"Line 1 \\nLine2 \\nLine3\"\n",
    "print(multi_line_text)"
   ]
  },
  {
   "cell_type": "code",
   "execution_count": 16,
   "id": "798210d0-40ac-4988-922a-d24ecd9175bd",
   "metadata": {
    "tags": []
   },
   "outputs": [
    {
     "name": "stdout",
     "output_type": "stream",
     "text": [
      "Hello my dear \n",
      "Python\n"
     ]
    }
   ],
   "source": [
    "print(\"Hello my dear \\nPython\")"
   ]
  },
  {
   "cell_type": "code",
   "execution_count": 17,
   "id": "fbcd7955-8d65-477c-8051-ec8bb138650e",
   "metadata": {
    "tags": []
   },
   "outputs": [
    {
     "data": {
      "text/plain": [
       "'\\n    This is line 1\\n        This is line 2\\n            This is line 3\\n'"
      ]
     },
     "execution_count": 17,
     "metadata": {},
     "output_type": "execute_result"
    }
   ],
   "source": [
    "\"\"\"\n",
    "    This is line 1\n",
    "        This is line 2\n",
    "            This is line 3\n",
    "\"\"\""
   ]
  },
  {
   "cell_type": "markdown",
   "id": "0981ed91-66ed-4352-b0c7-804bc2dd4ae3",
   "metadata": {},
   "source": [
    "NUMERIC OPERATIONS"
   ]
  },
  {
   "cell_type": "code",
   "execution_count": 1,
   "id": "73d5dea3-8f22-48a9-815c-1a84f9d520d6",
   "metadata": {
    "tags": []
   },
   "outputs": [],
   "source": [
    "# define two variables\n",
    "a = 30\n",
    "b = 7"
   ]
  },
  {
   "cell_type": "code",
   "execution_count": 3,
   "id": "900f7b4f-62f4-41b3-bce0-c54afc3f2629",
   "metadata": {
    "tags": []
   },
   "outputs": [
    {
     "name": "stdout",
     "output_type": "stream",
     "text": [
      "37\n"
     ]
    }
   ],
   "source": [
    "print(a + b) #addition"
   ]
  },
  {
   "cell_type": "code",
   "execution_count": 4,
   "id": "64819ae8-2186-471a-942f-83c49887dacb",
   "metadata": {
    "tags": []
   },
   "outputs": [
    {
     "name": "stdout",
     "output_type": "stream",
     "text": [
      "23\n"
     ]
    }
   ],
   "source": [
    "print(a - b) #subtraction"
   ]
  },
  {
   "cell_type": "code",
   "execution_count": 5,
   "id": "7ff316d8-cd48-437d-815d-d1066de971ed",
   "metadata": {
    "tags": []
   },
   "outputs": [
    {
     "name": "stdout",
     "output_type": "stream",
     "text": [
      "210\n"
     ]
    }
   ],
   "source": [
    "print(a * b) #multiplication"
   ]
  },
  {
   "cell_type": "code",
   "execution_count": 6,
   "id": "1dd6e167-23eb-4ec4-a303-6959366d598f",
   "metadata": {
    "tags": []
   },
   "outputs": [
    {
     "name": "stdout",
     "output_type": "stream",
     "text": [
      "4.285714285714286\n"
     ]
    }
   ],
   "source": [
    "print(a / b) #division"
   ]
  },
  {
   "cell_type": "code",
   "execution_count": 7,
   "id": "7e4a2715-15c1-409b-b2ae-fda428846f04",
   "metadata": {
    "tags": []
   },
   "outputs": [
    {
     "name": "stdout",
     "output_type": "stream",
     "text": [
      "4\n"
     ]
    }
   ],
   "source": [
    "print(a // b) #floor division (integer division)"
   ]
  },
  {
   "cell_type": "code",
   "execution_count": 8,
   "id": "614c053e-f20c-4c09-937b-988af2939859",
   "metadata": {
    "tags": []
   },
   "outputs": [
    {
     "name": "stdout",
     "output_type": "stream",
     "text": [
      "2\n"
     ]
    }
   ],
   "source": [
    "print(a % b) #modulo"
   ]
  },
  {
   "cell_type": "code",
   "execution_count": 9,
   "id": "a16d83fd-aba1-43e9-8350-2b728a45ffe5",
   "metadata": {
    "tags": []
   },
   "outputs": [
    {
     "name": "stdout",
     "output_type": "stream",
     "text": [
      "21870000000\n"
     ]
    }
   ],
   "source": [
    "print(a ** b) #power - Exponent"
   ]
  },
  {
   "cell_type": "code",
   "execution_count": 10,
   "id": "ffecaf20-6b48-4341-8732-34765e6c8675",
   "metadata": {
    "tags": []
   },
   "outputs": [
    {
     "name": "stdout",
     "output_type": "stream",
     "text": [
      "13.0\n"
     ]
    }
   ],
   "source": [
    "print( 4 * 5 - 9 + 14 / 7) #PEDMAS: Parenthesis, Exponents, Division, Multiplication, Addition, Subtraction"
   ]
  },
  {
   "cell_type": "code",
   "execution_count": 11,
   "id": "b1c56ed2-9b35-4588-b085-5d93d0d93df5",
   "metadata": {
    "tags": []
   },
   "outputs": [
    {
     "data": {
      "text/plain": [
       "10"
      ]
     },
     "execution_count": 11,
     "metadata": {},
     "output_type": "execute_result"
    }
   ],
   "source": [
    "a = 9\n",
    "\n",
    "# increment a by 1\n",
    "\n",
    "a = a + 1\n",
    "a"
   ]
  },
  {
   "cell_type": "code",
   "execution_count": 12,
   "id": "43038f74-a640-4fb8-a840-c262ac0486be",
   "metadata": {
    "tags": []
   },
   "outputs": [
    {
     "data": {
      "text/plain": [
       "14"
      ]
     },
     "execution_count": 12,
     "metadata": {},
     "output_type": "execute_result"
    }
   ],
   "source": [
    "a = a + 4\n",
    "a"
   ]
  },
  {
   "cell_type": "code",
   "execution_count": 13,
   "id": "b17fd2a8-a2d0-4c73-bd68-0f2582779b7b",
   "metadata": {
    "tags": []
   },
   "outputs": [
    {
     "data": {
      "text/plain": [
       "15"
      ]
     },
     "execution_count": 13,
     "metadata": {},
     "output_type": "execute_result"
    }
   ],
   "source": [
    "# Shorthand Increment -> +=\n",
    "\n",
    "a += 1 #a = a + 1\n",
    "a"
   ]
  },
  {
   "cell_type": "code",
   "execution_count": 14,
   "id": "fa56a722-9a1e-4b4a-8fb5-229fc436ceca",
   "metadata": {
    "tags": []
   },
   "outputs": [
    {
     "data": {
      "text/plain": [
       "9"
      ]
     },
     "execution_count": 14,
     "metadata": {},
     "output_type": "execute_result"
    }
   ],
   "source": [
    "# Shorthand Decrement -> -=\n",
    "a -= 6 #a = a -6\n",
    "a"
   ]
  },
  {
   "cell_type": "code",
   "execution_count": 15,
   "id": "47553eb3-c4c0-49a2-84e5-9f6ed7576b2b",
   "metadata": {
    "tags": []
   },
   "outputs": [
    {
     "data": {
      "text/plain": [
       "45"
      ]
     },
     "execution_count": 15,
     "metadata": {},
     "output_type": "execute_result"
    }
   ],
   "source": [
    "# Shorthand Multiply -> *=\n",
    "a *= 5 # a = a * 5\n",
    "a"
   ]
  },
  {
   "cell_type": "code",
   "execution_count": 16,
   "id": "0f66b3d5-d62b-4ef9-b019-abd83c1a4dd2",
   "metadata": {
    "tags": []
   },
   "outputs": [
    {
     "data": {
      "text/plain": [
       "4.090909090909091"
      ]
     },
     "execution_count": 16,
     "metadata": {},
     "output_type": "execute_result"
    }
   ],
   "source": [
    "# Shorthand Division -> /=\n",
    "a /= 11 # a = a / 11\n",
    "a"
   ]
  },
  {
   "cell_type": "markdown",
   "id": "4c8e71a5-1298-4d0b-8a71-51f35e34196e",
   "metadata": {},
   "source": [
    "STRING OPERATIONS"
   ]
  },
  {
   "cell_type": "code",
   "execution_count": 17,
   "id": "34d1ab23-8059-4dae-b3a5-3fffed5ef3ee",
   "metadata": {
    "tags": []
   },
   "outputs": [
    {
     "name": "stdout",
     "output_type": "stream",
     "text": [
      "This is a double quotes string.\n"
     ]
    }
   ],
   "source": [
    "string_double = \"This is a double quotes string.\"\n",
    "print(string_double)"
   ]
  },
  {
   "cell_type": "code",
   "execution_count": 18,
   "id": "24b9595f-f1c5-4dfa-8d7c-04237a94a577",
   "metadata": {
    "tags": []
   },
   "outputs": [
    {
     "name": "stdout",
     "output_type": "stream",
     "text": [
      "This is a single quote string\n"
     ]
    }
   ],
   "source": [
    "string_single = 'This is a single quote string'\n",
    "print(string_single)"
   ]
  },
  {
   "cell_type": "code",
   "execution_count": 19,
   "id": "fde23125-3f0a-4786-8a84-f7d9e7ae26ef",
   "metadata": {
    "tags": []
   },
   "outputs": [
    {
     "name": "stdout",
     "output_type": "stream",
     "text": [
      "Python's the best language.\n"
     ]
    }
   ],
   "source": [
    "# If you need to use both in the same string\n",
    "\n",
    "single_in_double = \"Python's the best language.\"\n",
    "print(single_in_double)"
   ]
  },
  {
   "cell_type": "code",
   "execution_count": 20,
   "id": "06e869de-2dad-4b61-bfd3-ea2b5881f3d7",
   "metadata": {
    "tags": []
   },
   "outputs": [
    {
     "data": {
      "text/plain": [
       "'Jenny said \"Run, Forest, run\", and he did.'"
      ]
     },
     "execution_count": 20,
     "metadata": {},
     "output_type": "execute_result"
    }
   ],
   "source": [
    "double_in_single = 'Jenny said \"Run, Forest, run\", and he did.'\n",
    "double_in_single"
   ]
  },
  {
   "cell_type": "code",
   "execution_count": 21,
   "id": "0fc9bdaf-1c2f-4059-b6df-2a028f70dedd",
   "metadata": {
    "tags": []
   },
   "outputs": [
    {
     "ename": "SyntaxError",
     "evalue": "unterminated string literal (detected at line 1) (33132969.py, line 1)",
     "output_type": "error",
     "traceback": [
      "\u001b[1;36m  Cell \u001b[1;32mIn[21], line 1\u001b[1;36m\u001b[0m\n\u001b[1;33m    false_usage = \"This is a 'double quote'\u001b[0m\n\u001b[1;37m                  ^\u001b[0m\n\u001b[1;31mSyntaxError\u001b[0m\u001b[1;31m:\u001b[0m unterminated string literal (detected at line 1)\n"
     ]
    }
   ],
   "source": [
    "false_usage = \"This is a 'double quote'"
   ]
  },
  {
   "cell_type": "code",
   "execution_count": 22,
   "id": "495fe87a-245c-44b3-a0fd-a23a11d3c179",
   "metadata": {
    "tags": []
   },
   "outputs": [
    {
     "ename": "TypeError",
     "evalue": "unsupported operand type(s) for -: 'str' and 'str'",
     "output_type": "error",
     "traceback": [
      "\u001b[1;31m---------------------------------------------------------------------------\u001b[0m",
      "\u001b[1;31mTypeError\u001b[0m                                 Traceback (most recent call last)",
      "Cell \u001b[1;32mIn[22], line 1\u001b[0m\n\u001b[1;32m----> 1\u001b[0m \u001b[38;5;124;43m'\u001b[39;49m\u001b[38;5;124;43m4\u001b[39;49m\u001b[38;5;124;43m'\u001b[39;49m\u001b[43m \u001b[49m\u001b[38;5;241;43m-\u001b[39;49m\u001b[43m \u001b[49m\u001b[38;5;124;43m'\u001b[39;49m\u001b[38;5;124;43m3\u001b[39;49m\u001b[38;5;124;43m'\u001b[39;49m\n",
      "\u001b[1;31mTypeError\u001b[0m: unsupported operand type(s) for -: 'str' and 'str'"
     ]
    }
   ],
   "source": [
    "'4' - '3'"
   ]
  },
  {
   "cell_type": "code",
   "execution_count": 23,
   "id": "b29bb01b-44fc-4f41-b448-15578cd797fa",
   "metadata": {
    "tags": []
   },
   "outputs": [
    {
     "ename": "TypeError",
     "evalue": "unsupported operand type(s) for /: 'str' and 'str'",
     "output_type": "error",
     "traceback": [
      "\u001b[1;31m---------------------------------------------------------------------------\u001b[0m",
      "\u001b[1;31mTypeError\u001b[0m                                 Traceback (most recent call last)",
      "Cell \u001b[1;32mIn[23], line 1\u001b[0m\n\u001b[1;32m----> 1\u001b[0m \u001b[38;5;124;43m'\u001b[39;49m\u001b[38;5;124;43m4\u001b[39;49m\u001b[38;5;124;43m'\u001b[39;49m\u001b[43m \u001b[49m\u001b[38;5;241;43m/\u001b[39;49m\u001b[43m \u001b[49m\u001b[38;5;124;43m'\u001b[39;49m\u001b[38;5;124;43m3\u001b[39;49m\u001b[38;5;124;43m'\u001b[39;49m\n",
      "\u001b[1;31mTypeError\u001b[0m: unsupported operand type(s) for /: 'str' and 'str'"
     ]
    }
   ],
   "source": [
    "'4' / '3'"
   ]
  },
  {
   "cell_type": "code",
   "execution_count": 24,
   "id": "678a529b-2a1f-417c-a244-f604aab08704",
   "metadata": {
    "tags": []
   },
   "outputs": [],
   "source": [
    "# define two string variables\n",
    "first = \"Sunny\"\n",
    "second = \"Days\""
   ]
  },
  {
   "cell_type": "code",
   "execution_count": 25,
   "id": "8af0335e-1d86-4aa0-9286-9384fdec0612",
   "metadata": {
    "tags": []
   },
   "outputs": [
    {
     "data": {
      "text/plain": [
       "'SunnyDays'"
      ]
     },
     "execution_count": 25,
     "metadata": {},
     "output_type": "execute_result"
    }
   ],
   "source": [
    "# Addition in String (Concatenation)\n",
    "first + second"
   ]
  },
  {
   "cell_type": "code",
   "execution_count": 26,
   "id": "e969495c-f9d0-4a0c-82e8-f9e0d0aa74b1",
   "metadata": {
    "tags": []
   },
   "outputs": [
    {
     "data": {
      "text/plain": [
       "'SunnyDaysSunnyDays'"
      ]
     },
     "execution_count": 26,
     "metadata": {},
     "output_type": "execute_result"
    }
   ],
   "source": [
    "first + second + first + second"
   ]
  },
  {
   "cell_type": "code",
   "execution_count": 27,
   "id": "b73a8721-d8bd-45dc-bc42-048bb59ea71c",
   "metadata": {
    "tags": []
   },
   "outputs": [
    {
     "data": {
      "text/plain": [
       "'SunnySunnySunnySunny'"
      ]
     },
     "execution_count": 27,
     "metadata": {},
     "output_type": "execute_result"
    }
   ],
   "source": [
    "# Multiplication\n",
    "4 * first"
   ]
  },
  {
   "cell_type": "code",
   "execution_count": 28,
   "id": "9614b460-fab7-4543-aeb2-ee7a20741569",
   "metadata": {
    "tags": []
   },
   "outputs": [
    {
     "data": {
      "text/plain": [
       "'555555'"
      ]
     },
     "execution_count": 28,
     "metadata": {},
     "output_type": "execute_result"
    }
   ],
   "source": [
    "6 * '5'"
   ]
  },
  {
   "cell_type": "code",
   "execution_count": 29,
   "id": "c0e3a3b5-bb8c-43d8-8735-2acd73375c85",
   "metadata": {
    "tags": []
   },
   "outputs": [
    {
     "data": {
      "text/plain": [
       "'888'"
      ]
     },
     "execution_count": 29,
     "metadata": {},
     "output_type": "execute_result"
    }
   ],
   "source": [
    "3 * '8'"
   ]
  },
  {
   "cell_type": "code",
   "execution_count": null,
   "id": "947bd7ad-a191-422e-a993-148197aae502",
   "metadata": {},
   "outputs": [],
   "source": []
  }
 ],
 "metadata": {
  "kernelspec": {
   "display_name": "Python 3 (ipykernel)",
   "language": "python",
   "name": "python3"
  },
  "language_info": {
   "codemirror_mode": {
    "name": "ipython",
    "version": 3
   },
   "file_extension": ".py",
   "mimetype": "text/x-python",
   "name": "python",
   "nbconvert_exporter": "python",
   "pygments_lexer": "ipython3",
   "version": "3.10.10"
  }
 },
 "nbformat": 4,
 "nbformat_minor": 5
}
