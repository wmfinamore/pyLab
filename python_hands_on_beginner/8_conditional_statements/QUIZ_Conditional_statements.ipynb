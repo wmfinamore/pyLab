{
 "cells": [
  {
   "cell_type": "code",
   "execution_count": 2,
   "id": "b755da2a-8440-4b21-a24a-0eff9fe60b42",
   "metadata": {
    "tags": []
   },
   "outputs": [
    {
     "name": "stdin",
     "output_type": "stream",
     "text": [
      "Please enter a number: 5\n"
     ]
    },
    {
     "name": "stdout",
     "output_type": "stream",
     "text": [
      "5 is ODD\n"
     ]
    }
   ],
   "source": [
    "# Q1:\n",
    "n = input(\"Please enter a number:\")\n",
    "\n",
    "value = int(n)\n",
    "\n",
    "if value%2 == 0:\n",
    "    print(\"{} is EVEN\".format(value))\n",
    "else:\n",
    "    print(\"{} is ODD\".format(value))"
   ]
  },
  {
   "cell_type": "code",
   "execution_count": 5,
   "id": "acaa1966-1690-49a2-a412-155818f18248",
   "metadata": {
    "tags": []
   },
   "outputs": [
    {
     "name": "stdin",
     "output_type": "stream",
     "text": [
      "Please enter a letter:  i\n"
     ]
    },
    {
     "name": "stdout",
     "output_type": "stream",
     "text": [
      "'i' is a vowel\n"
     ]
    }
   ],
   "source": [
    "#Q2:\n",
    "c = input(\"Please enter a letter: \")\n",
    "if c in ('a', 'e', 'i', 'o', 'u'):\n",
    "    print(\"'{}' is a vowel\".format(c))\n",
    "else:\n",
    "    print(\"'{}' is a consonant\".format(c))"
   ]
  },
  {
   "cell_type": "code",
   "execution_count": null,
   "id": "6abeecda-7263-4187-a461-8f7b29551232",
   "metadata": {},
   "outputs": [],
   "source": []
  }
 ],
 "metadata": {
  "kernelspec": {
   "display_name": "Python 3 (ipykernel)",
   "language": "python",
   "name": "python3"
  },
  "language_info": {
   "codemirror_mode": {
    "name": "ipython",
    "version": 3
   },
   "file_extension": ".py",
   "mimetype": "text/x-python",
   "name": "python",
   "nbconvert_exporter": "python",
   "pygments_lexer": "ipython3",
   "version": "3.10.10"
  }
 },
 "nbformat": 4,
 "nbformat_minor": 5
}
