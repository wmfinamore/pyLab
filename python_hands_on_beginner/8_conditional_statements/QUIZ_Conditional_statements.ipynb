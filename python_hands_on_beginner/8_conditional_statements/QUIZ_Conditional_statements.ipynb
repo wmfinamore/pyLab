{
 "cells": [
  {
   "cell_type": "code",
   "execution_count": 2,
   "id": "b755da2a-8440-4b21-a24a-0eff9fe60b42",
   "metadata": {
    "tags": []
   },
   "outputs": [
    {
     "name": "stdin",
     "output_type": "stream",
     "text": [
      "Please enter a number: 5\n"
     ]
    },
    {
     "name": "stdout",
     "output_type": "stream",
     "text": [
      "5 is ODD\n"
     ]
    }
   ],
   "source": [
    "# Q1:\n",
    "n = input(\"Please enter a number:\")\n",
    "\n",
    "value = int(n)\n",
    "\n",
    "if value%2 == 0:\n",
    "    print(\"{} is EVEN\".format(value))\n",
    "else:\n",
    "    print(\"{} is ODD\".format(value))"
   ]
  },
  {
   "cell_type": "code",
   "execution_count": 5,
   "id": "acaa1966-1690-49a2-a412-155818f18248",
   "metadata": {
    "tags": []
   },
   "outputs": [
    {
     "name": "stdin",
     "output_type": "stream",
     "text": [
      "Please enter a letter:  i\n"
     ]
    },
    {
     "name": "stdout",
     "output_type": "stream",
     "text": [
      "'i' is a vowel\n"
     ]
    }
   ],
   "source": [
    "#Q2:\n",
    "c = input(\"Please enter a letter: \")\n",
    "if c in ('a', 'e', 'i', 'o', 'u'):\n",
    "    print(\"'{}' is a vowel\".format(c))\n",
    "else:\n",
    "    print(\"'{}' is a consonant\".format(c))"
   ]
  },
  {
   "cell_type": "code",
   "execution_count": 2,
   "id": "6abeecda-7263-4187-a461-8f7b29551232",
   "metadata": {},
   "outputs": [
    {
     "name": "stdin",
     "output_type": "stream",
     "text": [
      "Please enter the number of sides 4\n"
     ]
    },
    {
     "name": "stdout",
     "output_type": "stream",
     "text": [
      "Rectangle\n"
     ]
    }
   ],
   "source": [
    "def which_shape():\n",
    "    n = input(\"Please enter the number of sides\")\n",
    "    if n == \"3\":\n",
    "        return \"Triangle\"\n",
    "    elif n == \"4\":\n",
    "        return \"Rectangle\"\n",
    "    elif n == \"5\":\n",
    "        return \"Pentagon\"\n",
    "    elif n == \"6\":\n",
    "        return \"Hexagon\"\n",
    "    else:\n",
    "        return \"Polygon\"\n",
    "\n",
    "shape = which_shape()\n",
    "print(shape)"
   ]
  },
  {
   "cell_type": "code",
   "execution_count": 3,
   "id": "03de5041-0220-4b91-b2fc-d87d108344a2",
   "metadata": {
    "tags": []
   },
   "outputs": [
    {
     "name": "stdin",
     "output_type": "stream",
     "text": [
      "Please enter the month name:  October\n"
     ]
    },
    {
     "data": {
      "text/plain": [
       "'There are 31 days in October'"
      ]
     },
     "execution_count": 3,
     "metadata": {},
     "output_type": "execute_result"
    }
   ],
   "source": [
    "def number_of_days_in_month():\n",
    "    m = input(\"Please enter the month name: \")\n",
    "    if m == \"January\":\n",
    "        return \"There are 31 days in January\"\n",
    "    elif m == \"February\":\n",
    "        return \"There are 28 or 29 days in February\"\n",
    "    elif m == \"March\":\n",
    "        return \"There are 31 days in March\"\n",
    "    elif m == \"April\":\n",
    "        return \"There are 30 days in April\"\n",
    "    elif m == \"May\":\n",
    "        return \"There are 31 days in May\"\n",
    "    elif m == \"June\":\n",
    "        return \"There are 30 days in June\"\n",
    "    elif m == \"July\":\n",
    "        return \"There are 31 days in July\"\n",
    "    elif m == \"August\":\n",
    "        return \"There are 31 days in August\"\n",
    "    elif m == \"September\":\n",
    "        return \"There are 30 days in September\"\n",
    "    elif m == \"October\":\n",
    "        return \"There are 31 days in October\"\n",
    "    elif m == \"November\":\n",
    "        return \"There are 30 days in November\"\n",
    "    else:\n",
    "        return \"There are 31 days in December\"\n",
    "    \n",
    "number_of_days_in_month()"
   ]
  },
  {
   "cell_type": "code",
   "execution_count": 5,
   "id": "836081b7-dc69-401f-9042-596ccf06efce",
   "metadata": {},
   "outputs": [
    {
     "name": "stdin",
     "output_type": "stream",
     "text": [
      "Length fot the first side: 10\n",
      "Length fot the second side: 20\n",
      "Length fot the third side: 10\n"
     ]
    },
    {
     "name": "stdout",
     "output_type": "stream",
     "text": [
      "Isosceles\n"
     ]
    }
   ],
   "source": [
    "#Q5\n",
    "def name_the_triangle():\n",
    "    s1 = int(input(\"Length fot the first side:\"))\n",
    "    s2 = int(input(\"Length fot the second side:\"))\n",
    "    s3 = int(input(\"Length fot the third side:\"))\n",
    "    if s1 == s2 == s3:\n",
    "        return \"Equilateral\"\n",
    "    elif (s1 == s2) or (s1 == s3) or (s2 == s3):\n",
    "        return \"Isosceles\"\n",
    "    else:\n",
    "        return \"Scalene\"\n",
    "    \n",
    "print(name_the_triangle())"
   ]
  },
  {
   "cell_type": "code",
   "execution_count": 9,
   "id": "0adf33cf-4343-43a8-bb0d-3d975759299b",
   "metadata": {
    "tags": []
   },
   "outputs": [
    {
     "name": "stdin",
     "output_type": "stream",
     "text": [
      "Enter month name: September\n",
      "Enter day number: 15\n"
     ]
    },
    {
     "name": "stdout",
     "output_type": "stream",
     "text": [
      "In September, day 15 we wear T-shirt\n"
     ]
    }
   ],
   "source": [
    "#Q6:\n",
    "def what_to_wear():\n",
    "    Winter = [\"January\", \"February\"]\n",
    "    Spring = [\"April\", \"May\"]\n",
    "    Summer = [\"July\", \"August\"]\n",
    "    Autumn = [\"October\", \"November\"]\n",
    "\n",
    "    m = input(\"Enter month name:\")\n",
    "    d = int(input(\"Enter day number:\"))\n",
    "\n",
    "    if (m in Winter) or (m == \"December\" and d > 15) or (m == \"March\" and d <= 15):\n",
    "        return \"In {}, day {} we wear Coat\".format(m, d)\n",
    "    elif (m in Spring) or (m == \"March\" and d > 15) or (m == \"June\" and d <= 15):\n",
    "        return \"In {}, day {} we wear Shirt\".format(m, d)\n",
    "    elif (m in Summer) or (m == \"June\" and d > 15) or (m == \"September\" and d <= 15):\n",
    "        return \"In {}, day {} we wear T-shirt\".format(m, d)\n",
    "    elif (m in Autumn) or (m == \"September\" and d > 15) or (m == \"December\" and d <= 15):\n",
    "        return \"In {}, day {} we wear Sweater\".format(m, d)\n",
    "    else:\n",
    "        return \"Try again :(\"\n",
    "\n",
    "print(what_to_wear())\n"
   ]
  },
  {
   "cell_type": "code",
   "execution_count": 3,
   "id": "56c84136-e415-4670-a61d-f554e09889c4",
   "metadata": {},
   "outputs": [
    {
     "name": "stdin",
     "output_type": "stream",
     "text": [
      "Please enter any of the capital letters: F, M, S, T, W: F\n"
     ]
    },
    {
     "data": {
      "text/plain": [
       "'Friday'"
      ]
     },
     "execution_count": 3,
     "metadata": {},
     "output_type": "execute_result"
    }
   ],
   "source": [
    "# Q7\n",
    "def which_day():\n",
    "    letter = input(\"Please enter any of the capital letters: F, M, S, T, W:\")\n",
    "    if letter == \"S\":\n",
    "        additional = input(\"Last day of the week? Y or N :\")\n",
    "        if additional == \"Y\":\n",
    "            return \"Sunday\"\n",
    "        else:\n",
    "            return \"Saturday\"\n",
    "    elif letter == \"T\":\n",
    "        additional = input(\"at the beggining of the week? Y or N :\")\n",
    "        if additional == \"Y\":\n",
    "            return \"Tuesday\"\n",
    "        else:\n",
    "            return \"Thursday\"\n",
    "    elif letter == \"M\":\n",
    "        return \"Monday\"\n",
    "    elif letter == \"W\":\n",
    "        return \"Wednesday\"\n",
    "    elif letter == \"F\":\n",
    "        return \"Friday\"\n",
    "    \n",
    "which_day()"
   ]
  },
  {
   "cell_type": "code",
   "execution_count": null,
   "id": "6d46b9f4-128f-480e-a0b5-a60317a55d44",
   "metadata": {},
   "outputs": [],
   "source": [
    "# Q8\n",
    "def odds_evens():\n",
    "    "
   ]
  }
 ],
 "metadata": {
  "kernelspec": {
   "display_name": "Python 3 (ipykernel)",
   "language": "python",
   "name": "python3"
  },
  "language_info": {
   "codemirror_mode": {
    "name": "ipython",
    "version": 3
   },
   "file_extension": ".py",
   "mimetype": "text/x-python",
   "name": "python",
   "nbconvert_exporter": "python",
   "pygments_lexer": "ipython3",
   "version": "3.10.10"
  }
 },
 "nbformat": 4,
 "nbformat_minor": 5
}
