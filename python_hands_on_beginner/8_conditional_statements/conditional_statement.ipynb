{
 "cells": [
  {
   "cell_type": "code",
   "execution_count": 1,
   "id": "f8992ecf-aa8c-4715-913b-1655ba57361a",
   "metadata": {
    "tags": []
   },
   "outputs": [
    {
     "data": {
      "text/plain": [
       "True"
      ]
     },
     "execution_count": 1,
     "metadata": {},
     "output_type": "execute_result"
    }
   ],
   "source": [
    "6 == 6"
   ]
  },
  {
   "cell_type": "code",
   "execution_count": 2,
   "id": "0d87c293-99b6-4220-bbc4-87adccfc7aea",
   "metadata": {
    "tags": []
   },
   "outputs": [
    {
     "data": {
      "text/plain": [
       "6"
      ]
     },
     "execution_count": 2,
     "metadata": {},
     "output_type": "execute_result"
    }
   ],
   "source": [
    "# single equal sign -> =, assignment\n",
    "a = 6\n",
    "a"
   ]
  },
  {
   "cell_type": "code",
   "execution_count": 3,
   "id": "317dfc9f-617f-4829-b2fe-4393422b4f1e",
   "metadata": {
    "tags": []
   },
   "outputs": [
    {
     "data": {
      "text/plain": [
       "True"
      ]
     },
     "execution_count": 3,
     "metadata": {},
     "output_type": "execute_result"
    }
   ],
   "source": [
    "# double equal sign -> ==, equality check\n",
    "a == 6"
   ]
  },
  {
   "cell_type": "code",
   "execution_count": 4,
   "id": "98dc5416-1304-4d3d-a0b9-0ff7b0cf2c5a",
   "metadata": {
    "tags": []
   },
   "outputs": [
    {
     "data": {
      "text/plain": [
       "False"
      ]
     },
     "execution_count": 4,
     "metadata": {},
     "output_type": "execute_result"
    }
   ],
   "source": [
    "a == 8"
   ]
  },
  {
   "cell_type": "code",
   "execution_count": 5,
   "id": "0e0adabf-ddd0-4d69-8008-d09cfff56124",
   "metadata": {
    "tags": []
   },
   "outputs": [
    {
     "data": {
      "text/plain": [
       "bool"
      ]
     },
     "execution_count": 5,
     "metadata": {},
     "output_type": "execute_result"
    }
   ],
   "source": [
    "type(True)"
   ]
  },
  {
   "cell_type": "code",
   "execution_count": 6,
   "id": "1a1d270a-8548-4ed6-b9ed-653fbe199c2d",
   "metadata": {
    "tags": []
   },
   "outputs": [
    {
     "name": "stdout",
     "output_type": "stream",
     "text": [
      " x == y: False\n",
      " x != y: True\n",
      " x < y: False\n",
      " x > y: True\n",
      " x <= y: False\n",
      " x >= y: True\n"
     ]
    }
   ],
   "source": [
    "x = 12\n",
    "y = 8\n",
    "print(\" x == y:\", x == y)\n",
    "print(\" x != y:\", x != y)\n",
    "print(\" x < y:\", x < y)\n",
    "print(\" x > y:\", x > y)\n",
    "print(\" x <= y:\", x <= y)\n",
    "print(\" x >= y:\", x >= y)\n",
    "    "
   ]
  },
  {
   "cell_type": "markdown",
   "id": "b2b8ce2b-b1f1-4633-8576-d314fefccdaa",
   "metadata": {},
   "source": [
    "LOGICAL OPERATORS"
   ]
  },
  {
   "cell_type": "code",
   "execution_count": 7,
   "id": "8f18624c-74ea-4c21-aba3-7a58a1b33c1f",
   "metadata": {
    "tags": []
   },
   "outputs": [
    {
     "data": {
      "text/plain": [
       "True"
      ]
     },
     "execution_count": 7,
     "metadata": {},
     "output_type": "execute_result"
    }
   ],
   "source": [
    "True and True"
   ]
  },
  {
   "cell_type": "code",
   "execution_count": 8,
   "id": "8f9e7e67-f720-42dc-b221-23448345b8c8",
   "metadata": {
    "tags": []
   },
   "outputs": [
    {
     "data": {
      "text/plain": [
       "False"
      ]
     },
     "execution_count": 8,
     "metadata": {},
     "output_type": "execute_result"
    }
   ],
   "source": [
    "True and False"
   ]
  },
  {
   "cell_type": "code",
   "execution_count": 9,
   "id": "484bba8d-767a-4f4b-b99e-1905b13122a4",
   "metadata": {
    "tags": []
   },
   "outputs": [
    {
     "data": {
      "text/plain": [
       "False"
      ]
     },
     "execution_count": 9,
     "metadata": {},
     "output_type": "execute_result"
    }
   ],
   "source": [
    "False and True"
   ]
  },
  {
   "cell_type": "code",
   "execution_count": 10,
   "id": "a9ee3126-130e-495c-8a59-aefef2909aaa",
   "metadata": {
    "tags": []
   },
   "outputs": [
    {
     "data": {
      "text/plain": [
       "False"
      ]
     },
     "execution_count": 10,
     "metadata": {},
     "output_type": "execute_result"
    }
   ],
   "source": [
    "False and False"
   ]
  },
  {
   "cell_type": "code",
   "execution_count": 11,
   "id": "da64b8ed-be17-4da2-b017-92a91cea97d8",
   "metadata": {
    "tags": []
   },
   "outputs": [
    {
     "data": {
      "text/plain": [
       "True"
      ]
     },
     "execution_count": 11,
     "metadata": {},
     "output_type": "execute_result"
    }
   ],
   "source": [
    "True or True"
   ]
  },
  {
   "cell_type": "code",
   "execution_count": 12,
   "id": "c88b34bb-67a3-4fa1-b0f8-fdcb17a21465",
   "metadata": {
    "tags": []
   },
   "outputs": [
    {
     "data": {
      "text/plain": [
       "True"
      ]
     },
     "execution_count": 12,
     "metadata": {},
     "output_type": "execute_result"
    }
   ],
   "source": [
    "True or False"
   ]
  },
  {
   "cell_type": "code",
   "execution_count": 13,
   "id": "f215c3a8-029d-4c60-ba23-7771fe8155d4",
   "metadata": {
    "tags": []
   },
   "outputs": [
    {
     "data": {
      "text/plain": [
       "True"
      ]
     },
     "execution_count": 13,
     "metadata": {},
     "output_type": "execute_result"
    }
   ],
   "source": [
    "False or True"
   ]
  },
  {
   "cell_type": "code",
   "execution_count": 14,
   "id": "d17157fa-6f07-4665-bbc4-de0bfd9c6b0f",
   "metadata": {
    "tags": []
   },
   "outputs": [
    {
     "data": {
      "text/plain": [
       "False"
      ]
     },
     "execution_count": 14,
     "metadata": {},
     "output_type": "execute_result"
    }
   ],
   "source": [
    "False or False"
   ]
  },
  {
   "cell_type": "code",
   "execution_count": 16,
   "id": "db620be2-fc8b-4b71-ba6d-2a9609bb26ea",
   "metadata": {
    "tags": []
   },
   "outputs": [
    {
     "data": {
      "text/plain": [
       "True"
      ]
     },
     "execution_count": 16,
     "metadata": {},
     "output_type": "execute_result"
    }
   ],
   "source": [
    "# a -> True\n",
    "a = 5 == 5\n",
    "a"
   ]
  },
  {
   "cell_type": "code",
   "execution_count": 17,
   "id": "d28630a9-fe18-4e3e-bb31-7b596a71e4fa",
   "metadata": {
    "tags": []
   },
   "outputs": [
    {
     "data": {
      "text/plain": [
       "False"
      ]
     },
     "execution_count": 17,
     "metadata": {},
     "output_type": "execute_result"
    }
   ],
   "source": [
    "# b -> False\n",
    "b = 'a' == 'A'\n",
    "b"
   ]
  },
  {
   "cell_type": "code",
   "execution_count": 18,
   "id": "4ffb3e08-0ec8-4841-9fc3-18601650f76a",
   "metadata": {
    "tags": []
   },
   "outputs": [
    {
     "name": "stdout",
     "output_type": "stream",
     "text": [
      "---- and ----\n"
     ]
    },
    {
     "data": {
      "text/plain": [
       "'True and False: False'"
      ]
     },
     "execution_count": 18,
     "metadata": {},
     "output_type": "execute_result"
    }
   ],
   "source": [
    "# and\n",
    "print(\"---- and ----\")\n",
    "\"{0} and {1}: {2}\".format(a, b, a and b)"
   ]
  },
  {
   "cell_type": "code",
   "execution_count": 19,
   "id": "8cccf701-b34d-4d40-9947-5081220ba947",
   "metadata": {
    "tags": []
   },
   "outputs": [
    {
     "name": "stdout",
     "output_type": "stream",
     "text": [
      "---- or ----\n"
     ]
    },
    {
     "data": {
      "text/plain": [
       "'True or False: True'"
      ]
     },
     "execution_count": 19,
     "metadata": {},
     "output_type": "execute_result"
    }
   ],
   "source": [
    "# or\n",
    "print(\"---- or ----\")\n",
    "\"{0} or {1}: {2}\".format(a, b, a or b)"
   ]
  },
  {
   "cell_type": "markdown",
   "id": "6da527de-e6f6-4c5a-a353-451d59093d78",
   "metadata": {},
   "source": [
    "IF"
   ]
  },
  {
   "cell_type": "code",
   "execution_count": 1,
   "id": "62fcc0d4-c8c5-48cb-a5c0-757a4ccd1539",
   "metadata": {
    "tags": []
   },
   "outputs": [
    {
     "name": "stdout",
     "output_type": "stream",
     "text": [
      "7 is greater than 0.\n"
     ]
    }
   ],
   "source": [
    "# Print x, if it is greater than zero (positive)\n",
    "\n",
    "x = 7\n",
    "\n",
    "if x > 0:\n",
    "    print(\"{} is greater than 0.\".format(x))"
   ]
  },
  {
   "cell_type": "code",
   "execution_count": 3,
   "id": "e4801f5a-6a2d-4498-9b82-087fbeb8e30a",
   "metadata": {
    "tags": []
   },
   "outputs": [
    {
     "name": "stdout",
     "output_type": "stream",
     "text": [
      "end of if statement\n"
     ]
    }
   ],
   "source": [
    "x = -10\n",
    "\n",
    "if x > 0:\n",
    "    print(\"{} is greater than 0.\".format(x))\n",
    "print(\"end of if statement\")"
   ]
  },
  {
   "cell_type": "code",
   "execution_count": 4,
   "id": "4c363bd8-d278-4f8a-bd5a-c01194196f82",
   "metadata": {
    "tags": []
   },
   "outputs": [
    {
     "name": "stdout",
     "output_type": "stream",
     "text": [
      "-----------\n",
      "10 is greater  than 0 and less than or equal to 10\n",
      "-----------\n"
     ]
    }
   ],
   "source": [
    "# If x is greater than 0 and less than or equal to 10, print it\n",
    "\n",
    "x = 10\n",
    "\n",
    "print(\"-----------\")\n",
    "\n",
    "if x > 0 and x <= 10:\n",
    "    print(\"{} is greater  than 0 and less than or equal to 10\".format(x))\n",
    "    \n",
    "print(\"-----------\")\n"
   ]
  },
  {
   "cell_type": "code",
   "execution_count": 5,
   "id": "c93bdbea-4494-4528-88b4-71aef7bb2d97",
   "metadata": {
    "tags": []
   },
   "outputs": [
    {
     "name": "stdout",
     "output_type": "stream",
     "text": [
      "-----------\n",
      "-----------\n"
     ]
    }
   ],
   "source": [
    "x = 17\n",
    "\n",
    "print(\"-----------\")\n",
    "\n",
    "if x > 0 and x <= 10:\n",
    "    print(\"{} is greater  than 0 and less than or equal to 10\".format(x))\n",
    "    \n",
    "print(\"-----------\")"
   ]
  },
  {
   "cell_type": "code",
   "execution_count": 6,
   "id": "6c8378c8-a8f6-44d6-a1ff-f169354e8112",
   "metadata": {
    "tags": []
   },
   "outputs": [
    {
     "name": "stdout",
     "output_type": "stream",
     "text": [
      "-----------\n",
      "6 is greater  than 0 and less than or equal to 10\n",
      "-----------\n"
     ]
    }
   ],
   "source": [
    "x = 6\n",
    "\n",
    "print(\"-----------\")\n",
    "\n",
    "if x > 0 and x <= 10:\n",
    "    print(\"{} is greater  than 0 and less than or equal to 10\".format(x))\n",
    "    \n",
    "print(\"-----------\")"
   ]
  },
  {
   "cell_type": "code",
   "execution_count": 7,
   "id": "4e2c0838-3293-45b8-aee8-5e4df025f273",
   "metadata": {
    "tags": []
   },
   "outputs": [
    {
     "name": "stdout",
     "output_type": "stream",
     "text": [
      "---------------------\n",
      "19 is greater than or equal 0 and less than 20.\n",
      "---------------------\n"
     ]
    }
   ],
   "source": [
    "# if x is greater than or equal to 0 and less than 20, print it\n",
    "\n",
    "x = 19\n",
    "\n",
    "print(\"---------------------\")\n",
    "\n",
    "if x >= 0 and x < 20:\n",
    "    print(\"{} is greater than or equal 0 and less than 20.\".format(x))\n",
    "    \n",
    "print(\"---------------------\")\n"
   ]
  },
  {
   "cell_type": "code",
   "execution_count": 8,
   "id": "f06651fd-b629-44c5-b7f8-a7cea4e4203d",
   "metadata": {
    "tags": []
   },
   "outputs": [
    {
     "name": "stdout",
     "output_type": "stream",
     "text": [
      "---------------------\n",
      "---------------------\n"
     ]
    }
   ],
   "source": [
    "x = 49\n",
    "\n",
    "print(\"---------------------\")\n",
    "\n",
    "if x >= 0 and x < 20:\n",
    "    print(\"{} is greater than or equal 0 and less than 20.\".format(x))\n",
    "    \n",
    "print(\"---------------------\")"
   ]
  },
  {
   "cell_type": "code",
   "execution_count": 9,
   "id": "bfde795d-80d7-4a46-888a-80c5e24fda5e",
   "metadata": {
    "tags": []
   },
   "outputs": [
    {
     "name": "stdout",
     "output_type": "stream",
     "text": [
      "---------------------\n",
      "---------------------\n"
     ]
    }
   ],
   "source": [
    "x = -6\n",
    "\n",
    "print(\"---------------------\")\n",
    "\n",
    "if x >= 0 and x < 20:\n",
    "    print(\"{} is greater than or equal 0 and less than 20.\".format(x))\n",
    "    \n",
    "print(\"---------------------\")"
   ]
  },
  {
   "cell_type": "code",
   "execution_count": 10,
   "id": "e42eb219-fdef-4c72-b2c5-8780ecc9bc96",
   "metadata": {
    "tags": []
   },
   "outputs": [
    {
     "name": "stdout",
     "output_type": "stream",
     "text": [
      "------------------\n",
      "------------------\n"
     ]
    }
   ],
   "source": [
    "# or\n",
    "\n",
    "# if x is greater than 100 or less  than 0, print it\n",
    "\n",
    "x = 80\n",
    "\n",
    "print(\"------------------\")\n",
    "\n",
    "if x > 100 or x < 0:\n",
    "    print(\"{} is greater than 100 or less than 0\".format(x))\n",
    "    \n",
    "print(\"------------------\")\n",
    "\n"
   ]
  },
  {
   "cell_type": "code",
   "execution_count": 11,
   "id": "a4fabf51-046d-4b8d-91ee-c4ba5d93d404",
   "metadata": {
    "tags": []
   },
   "outputs": [
    {
     "name": "stdout",
     "output_type": "stream",
     "text": [
      "------------------\n",
      "280 is greater than 100 or less than 0\n",
      "------------------\n"
     ]
    }
   ],
   "source": [
    "x = 280\n",
    "\n",
    "print(\"------------------\")\n",
    "\n",
    "if x > 100 or x < 0:\n",
    "    print(\"{} is greater than 100 or less than 0\".format(x))\n",
    "    \n",
    "print(\"------------------\")\n",
    "\n"
   ]
  },
  {
   "cell_type": "code",
   "execution_count": 12,
   "id": "9a53303c-a37d-4ae0-939f-97e81173a2d3",
   "metadata": {
    "tags": []
   },
   "outputs": [
    {
     "name": "stdout",
     "output_type": "stream",
     "text": [
      "------------------\n",
      "-300 is greater than 100 or less than 0\n",
      "------------------\n"
     ]
    }
   ],
   "source": [
    "x = -300\n",
    "\n",
    "print(\"------------------\")\n",
    "\n",
    "if x > 100 or x < 0:\n",
    "    print(\"{} is greater than 100 or less than 0\".format(x))\n",
    "    \n",
    "print(\"------------------\")\n",
    "\n"
   ]
  },
  {
   "cell_type": "markdown",
   "id": "78a22c61-9074-4630-a90a-a260ac11015d",
   "metadata": {},
   "source": [
    "ELSE"
   ]
  },
  {
   "cell_type": "code",
   "execution_count": 2,
   "id": "5e263a7e-a888-4a08-9207-4972ccc2418f",
   "metadata": {
    "tags": []
   },
   "outputs": [
    {
     "name": "stdout",
     "output_type": "stream",
     "text": [
      "-------before if block --------\n",
      "EVEN\n",
      "---------after if blkock---------\n"
     ]
    }
   ],
   "source": [
    "# if x is an even number, print \"EVEN\"\n",
    "# if not (else) print \"ODD\"\n",
    "\n",
    "# condition for being even: divisible by 2 (% modulus operator)\n",
    "\n",
    "x = 14\n",
    "\n",
    "print(\"-------before if block --------\")\n",
    "\n",
    "if x % 2 == 0:\n",
    "    print(\"EVEN\")\n",
    "else:\n",
    "    print(\"ODD\")\n",
    "          \n",
    "print(\"---------after if blkock---------\")"
   ]
  },
  {
   "cell_type": "code",
   "execution_count": 3,
   "id": "cb8e096b-84ae-4e14-a2b7-8b5c55a841e3",
   "metadata": {
    "tags": []
   },
   "outputs": [
    {
     "name": "stdout",
     "output_type": "stream",
     "text": [
      "-------before if block --------\n",
      "ODD\n",
      "---------after if blkock---------\n"
     ]
    }
   ],
   "source": [
    "x = 9\n",
    "\n",
    "print(\"-------before if block --------\")\n",
    "\n",
    "if x % 2 == 0:\n",
    "    print(\"EVEN\")\n",
    "else:\n",
    "    print(\"ODD\")\n",
    "          \n",
    "print(\"---------after if blkock---------\")"
   ]
  },
  {
   "cell_type": "code",
   "execution_count": 4,
   "id": "213f7f36-a9e9-4bae-b4cb-8e227eb3e716",
   "metadata": {
    "tags": []
   },
   "outputs": [
    {
     "name": "stdout",
     "output_type": "stream",
     "text": [
      "INTEGER\n"
     ]
    }
   ],
   "source": [
    "# if is integer, print \"INTEGER\"\n",
    "# else print \"NOT INTEGER\"\n",
    "\n",
    "# for integer check -> type()\n",
    "\n",
    "x = 9\n",
    "\n",
    "if type(x) == int:\n",
    "    print(\"INTEGER\")\n",
    "else:\n",
    "    print(\"NOT INTEGER\")\n"
   ]
  },
  {
   "cell_type": "code",
   "execution_count": 5,
   "id": "ce7ff40a-fa69-4dac-a6ce-55adfc4a360d",
   "metadata": {
    "tags": []
   },
   "outputs": [
    {
     "name": "stdout",
     "output_type": "stream",
     "text": [
      "NOT INTEGER\n"
     ]
    }
   ],
   "source": [
    "x = \"xyz\"\n",
    "\n",
    "if type(x) == int:\n",
    "    print(\"INTEGER\")\n",
    "else:\n",
    "    print(\"NOT INTEGER\")\n"
   ]
  },
  {
   "cell_type": "markdown",
   "id": "e4580aa8-874a-467e-b0b3-cad83895c463",
   "metadata": {},
   "source": [
    "ELIF"
   ]
  },
  {
   "cell_type": "code",
   "execution_count": 1,
   "id": "5c60a8c8-ae4d-434d-bda1-0052596230a4",
   "metadata": {
    "tags": []
   },
   "outputs": [],
   "source": [
    "def is_positive():\n",
    "    user_input = input(\"Please enter a number:\")\n",
    "    n = int(user_input)\n",
    "    if n > 0:\n",
    "        print(\"POSITIVE\")\n",
    "    elif n == 0:\n",
    "        print(\"ZERO\")\n",
    "    else:\n",
    "        print(\"NEGATIVE\")"
   ]
  },
  {
   "cell_type": "code",
   "execution_count": 2,
   "id": "7f79e152-8d27-49e4-88f2-d34544f0790b",
   "metadata": {
    "tags": []
   },
   "outputs": [
    {
     "name": "stdin",
     "output_type": "stream",
     "text": [
      "Please enter a number: -8\n"
     ]
    },
    {
     "name": "stdout",
     "output_type": "stream",
     "text": [
      "NEGATIVE\n"
     ]
    }
   ],
   "source": [
    "is_positive()\n"
   ]
  },
  {
   "cell_type": "code",
   "execution_count": 3,
   "id": "b6481ca5-6aa8-41ce-bbee-a1af55c98a64",
   "metadata": {
    "tags": []
   },
   "outputs": [
    {
     "name": "stdin",
     "output_type": "stream",
     "text": [
      "Please enter a number: 25\n"
     ]
    },
    {
     "name": "stdout",
     "output_type": "stream",
     "text": [
      "POSITIVE\n"
     ]
    }
   ],
   "source": [
    "is_positive()"
   ]
  },
  {
   "cell_type": "code",
   "execution_count": 4,
   "id": "42a836af-c800-4a49-8006-69b523ae40a9",
   "metadata": {
    "tags": []
   },
   "outputs": [
    {
     "name": "stdin",
     "output_type": "stream",
     "text": [
      "Please enter a number: 0\n"
     ]
    },
    {
     "name": "stdout",
     "output_type": "stream",
     "text": [
      "ZERO\n"
     ]
    }
   ],
   "source": [
    "is_positive()"
   ]
  },
  {
   "cell_type": "code",
   "execution_count": 5,
   "id": "5a69a2bd-8157-493e-9e04-7dc079a3ce23",
   "metadata": {
    "tags": []
   },
   "outputs": [
    {
     "ename": "SyntaxError",
     "evalue": "invalid syntax (1577425138.py, line 2)",
     "output_type": "error",
     "traceback": [
      "\u001b[1;36m  Cell \u001b[1;32mIn[5], line 2\u001b[1;36m\u001b[0m\n\u001b[1;33m    elif a ==1:\u001b[0m\n\u001b[1;37m    ^\u001b[0m\n\u001b[1;31mSyntaxError\u001b[0m\u001b[1;31m:\u001b[0m invalid syntax\n"
     ]
    }
   ],
   "source": [
    "a = 1\n",
    "elif a ==1:\n",
    "    print(\"a is 1\")\n",
    "else:\n",
    "    print(\"not 1\")\n"
   ]
  },
  {
   "cell_type": "code",
   "execution_count": 10,
   "id": "83b1c652-a7c5-4be1-bb50-b22d7b56bb23",
   "metadata": {
    "tags": []
   },
   "outputs": [],
   "source": [
    "def day_of_week():\n",
    "    number_of_day = int(input(\"Please enter a number(1-7):\"))\n",
    "    name_of_day = \"\"\n",
    "    if number_of_day == 1:\n",
    "        name_of_day = \"MONDAY\"\n",
    "    elif number_of_day == 2:\n",
    "        name_of_day = \"TUESDAY\"\n",
    "    elif number_of_day == 3:\n",
    "        name_of_day = \"WEDNESDAY\"\n",
    "    elif number_of_day == 4:\n",
    "        name_of_day = \"THURSDAY\"\n",
    "    elif number_of_day == 5:\n",
    "        name_of_day = \"FRIDAY\"\n",
    "    elif number_of_day == 6:\n",
    "        name_of_day = \"SATURDAY\"\n",
    "    elif number_of_day == 7:\n",
    "        name_of_day = \"SUNDAY\"\n",
    "    return name_of_day"
   ]
  },
  {
   "cell_type": "code",
   "execution_count": 11,
   "id": "a610b394-2f9a-40a9-baae-34854798a43d",
   "metadata": {
    "tags": []
   },
   "outputs": [
    {
     "name": "stdin",
     "output_type": "stream",
     "text": [
      "Please enter a number(1-7): 4\n"
     ]
    },
    {
     "data": {
      "text/plain": [
       "'THURSDAY'"
      ]
     },
     "execution_count": 11,
     "metadata": {},
     "output_type": "execute_result"
    }
   ],
   "source": [
    "day_of_week()"
   ]
  },
  {
   "cell_type": "code",
   "execution_count": 12,
   "id": "6f3ad4e6-d88d-4590-9ab1-56ef93905997",
   "metadata": {
    "tags": []
   },
   "outputs": [
    {
     "name": "stdin",
     "output_type": "stream",
     "text": [
      "Please enter a number(1-7): 7\n"
     ]
    },
    {
     "data": {
      "text/plain": [
       "'SUNDAY'"
      ]
     },
     "execution_count": 12,
     "metadata": {},
     "output_type": "execute_result"
    }
   ],
   "source": [
    "day_of_week()"
   ]
  },
  {
   "cell_type": "code",
   "execution_count": 13,
   "id": "2510169c-f254-4e67-aaa0-45825390a2ce",
   "metadata": {
    "tags": []
   },
   "outputs": [
    {
     "name": "stdin",
     "output_type": "stream",
     "text": [
      "Please enter a number(1-7): 0\n"
     ]
    },
    {
     "data": {
      "text/plain": [
       "''"
      ]
     },
     "execution_count": 13,
     "metadata": {},
     "output_type": "execute_result"
    }
   ],
   "source": [
    "day_of_week()"
   ]
  },
  {
   "cell_type": "code",
   "execution_count": 1,
   "id": "9bfcd8c7-ee76-43d2-9552-36005db70948",
   "metadata": {},
   "outputs": [],
   "source": [
    "def day_of_week():\n",
    "    user_input = input(\"Please enter a number(1-7)\")\n",
    "    \n",
    "    if user_input.isdigit():\n",
    "        number_of_day = int(user_input)\n",
    "    else:\n",
    "        print(\"Please enter an integer.\")\n",
    "        return print(\"-------CONTROLE #1 is Successful----------\")\n",
    "    \n",
    "    if number_of_day < 1 or number_of_day > 7:\n",
    "        print(\"Please enter a number(1-7)\")\n",
    "        return print(\"-------CONTROLE #1 is Successful----------\")\n",
    "    \n",
    "    # conditions\n",
    "    if number_of_day == 1:\n",
    "        name_of_day = \"MONDAY\"\n",
    "    elif number_of_day == 2:\n",
    "        name_of_day = \"TUESDAY\"\n",
    "    elif number_of_day == 3:\n",
    "        name_of_day = \"WEDNESDAY\"\n",
    "    elif number_of_day == 4:\n",
    "        name_of_day = \"THURSDAY\"\n",
    "    elif number_of_day == 5:\n",
    "        name_of_day = \"FRIDAY\"\n",
    "    elif number_of_day == 6:\n",
    "        name_of_day = \"SATURDAY\"\n",
    "    elif number_of_day == 7:\n",
    "        name_of_day = \"SUNDAY\"\n",
    "    return name_of_day\n",
    "\n",
    "    return name_of_day"
   ]
  },
  {
   "cell_type": "code",
   "execution_count": 2,
   "id": "5e67de07-aa0c-496b-ae5b-5139c428f76a",
   "metadata": {
    "tags": []
   },
   "outputs": [
    {
     "name": "stdin",
     "output_type": "stream",
     "text": [
      "Please enter a number(1-7) 5\n"
     ]
    },
    {
     "data": {
      "text/plain": [
       "'FRIDAY'"
      ]
     },
     "execution_count": 2,
     "metadata": {},
     "output_type": "execute_result"
    }
   ],
   "source": [
    "day_of_week()"
   ]
  },
  {
   "cell_type": "code",
   "execution_count": 3,
   "id": "a927b590-da2f-4c0f-aafa-7ff285579183",
   "metadata": {
    "tags": []
   },
   "outputs": [
    {
     "name": "stdin",
     "output_type": "stream",
     "text": [
      "Please enter a number(1-7) 88\n"
     ]
    },
    {
     "name": "stdout",
     "output_type": "stream",
     "text": [
      "Please enter a number(1-7)\n",
      "-------CONTROLE #1 is Successful----------\n"
     ]
    }
   ],
   "source": [
    "day_of_week()"
   ]
  },
  {
   "cell_type": "markdown",
   "id": "3465daf3-fc45-4c68-b2e6-d3639b2177b1",
   "metadata": {},
   "source": [
    " NESTED CONDITIONALS"
   ]
  },
  {
   "cell_type": "code",
   "execution_count": 1,
   "id": "6e495ece-7cf4-4f18-9b85-9e598fa9a981",
   "metadata": {
    "tags": []
   },
   "outputs": [
    {
     "data": {
      "text/plain": [
       "False"
      ]
     },
     "execution_count": 1,
     "metadata": {},
     "output_type": "execute_result"
    }
   ],
   "source": [
    "not True"
   ]
  },
  {
   "cell_type": "code",
   "execution_count": 3,
   "id": "1ccfb141-0a23-45c0-9833-a39be9aba699",
   "metadata": {
    "tags": []
   },
   "outputs": [
    {
     "data": {
      "text/plain": [
       "True"
      ]
     },
     "execution_count": 3,
     "metadata": {},
     "output_type": "execute_result"
    }
   ],
   "source": [
    "not False"
   ]
  },
  {
   "cell_type": "code",
   "execution_count": 4,
   "id": "08fa757a-c659-4a13-a3bb-c3047a73dc62",
   "metadata": {
    "tags": []
   },
   "outputs": [
    {
     "data": {
      "text/plain": [
       "True"
      ]
     },
     "execution_count": 4,
     "metadata": {},
     "output_type": "execute_result"
    }
   ],
   "source": [
    "x = 5\n",
    "x == 5"
   ]
  },
  {
   "cell_type": "code",
   "execution_count": 5,
   "id": "35f44d89-e61d-479a-a82c-e52e673c45a5",
   "metadata": {
    "tags": []
   },
   "outputs": [
    {
     "data": {
      "text/plain": [
       "False"
      ]
     },
     "execution_count": 5,
     "metadata": {},
     "output_type": "execute_result"
    }
   ],
   "source": [
    "not x == 5"
   ]
  },
  {
   "cell_type": "code",
   "execution_count": 6,
   "id": "99025f56-9b21-430f-adbe-244f3bf0d9c8",
   "metadata": {
    "tags": []
   },
   "outputs": [
    {
     "name": "stdout",
     "output_type": "stream",
     "text": [
      "x is 5\n"
     ]
    }
   ],
   "source": [
    "# if statetament in the usual way\n",
    "if x == 5:\n",
    "    print('x is 5')\n",
    "else:\n",
    "    print('x is not 5')"
   ]
  },
  {
   "cell_type": "code",
   "execution_count": 7,
   "id": "3d9a3b8a-5b04-43ca-bd59-4678e7cbca2b",
   "metadata": {
    "tags": []
   },
   "outputs": [
    {
     "name": "stdout",
     "output_type": "stream",
     "text": [
      "x is 5\n"
     ]
    }
   ],
   "source": [
    "# not in if statement\n",
    "if not x == 5:\n",
    "    print('x is not 5')\n",
    "else:\n",
    "    print('x is 5')"
   ]
  },
  {
   "cell_type": "code",
   "execution_count": 8,
   "id": "21a4ff28-fba7-4004-8e1f-542e038d0265",
   "metadata": {
    "tags": []
   },
   "outputs": [
    {
     "name": "stdout",
     "output_type": "stream",
     "text": [
      "x is greater than y\n"
     ]
    }
   ],
   "source": [
    "# Example\n",
    "\n",
    "x = 300\n",
    "y = 40\n",
    "\n",
    "if x == y:\n",
    "    print(\"x is equal to y\")\n",
    "else:\n",
    "    # x is not equal to y\n",
    "    if x > y:\n",
    "        print(\"x is greater than y\")\n",
    "    elif x == y:\n",
    "        print(\"x is equal to y\")\n",
    "    else:\n",
    "        print(\"x is less than y\")\n",
    "        "
   ]
  },
  {
   "cell_type": "code",
   "execution_count": 9,
   "id": "18b1f7ed-2ae7-41c5-81c2-cf5b64da8728",
   "metadata": {
    "tags": []
   },
   "outputs": [
    {
     "name": "stdout",
     "output_type": "stream",
     "text": [
      "x is less than y\n"
     ]
    }
   ],
   "source": [
    "# Example\n",
    "\n",
    "x = 10\n",
    "y = 50\n",
    "\n",
    "if x == y:\n",
    "    print(\"x is equal to y\")\n",
    "else:\n",
    "    # x is not equal to y\n",
    "    if x > y:\n",
    "        print(\"x is greater than y\")\n",
    "    else:\n",
    "        print(\"x is less than y\")"
   ]
  },
  {
   "cell_type": "code",
   "execution_count": 10,
   "id": "4c16b7d6-bf07-49e4-a1b2-3299690cdf65",
   "metadata": {
    "tags": []
   },
   "outputs": [],
   "source": [
    "# Example:\n",
    "# ask a number from user\n",
    "\n",
    "# if the number is less than 10:\n",
    "    #if odd -> ODD LESS THAN 10\n",
    "    #if even -> EVEN LESS THAN 10\n",
    "#if it is greater than 10\n",
    "    # if odd -> ODD\n",
    "    # if even -> EVEN\n",
    "    \n",
    "def odd_or_even():\n",
    "    # ask for input\n",
    "    user_input = input(\"Please enter a number: \")\n",
    "    \n",
    "    # input() -> str -> cast to int()\n",
    "    num = int(user_input)\n",
    "    \n",
    "    # conditions\n",
    "    if num < 10:\n",
    "        #odd or even\n",
    "        if num % 2 == 1:\n",
    "            print(\"ODD LESS THAN 10\")\n",
    "        else:\n",
    "            print(\"EVEN LESS THAN 10\")\n",
    "    else:\n",
    "        # odd or even\n",
    "        if num % 2 == 1:\n",
    "            print(\"ODD\")\n",
    "        else:\n",
    "            print(\"EVEN\")"
   ]
  },
  {
   "cell_type": "code",
   "execution_count": 11,
   "id": "9ddf4336-07ea-41bc-9434-0bf96d6adb70",
   "metadata": {
    "tags": []
   },
   "outputs": [
    {
     "name": "stdin",
     "output_type": "stream",
     "text": [
      "Please enter a number:  7\n"
     ]
    },
    {
     "name": "stdout",
     "output_type": "stream",
     "text": [
      "ODD LESS THAN 10\n"
     ]
    }
   ],
   "source": [
    "odd_or_even()"
   ]
  },
  {
   "cell_type": "code",
   "execution_count": 12,
   "id": "b80fe17e-dcbd-4ca7-9cf2-64f568ca2662",
   "metadata": {
    "tags": []
   },
   "outputs": [
    {
     "name": "stdin",
     "output_type": "stream",
     "text": [
      "Please enter a number:  4\n"
     ]
    },
    {
     "name": "stdout",
     "output_type": "stream",
     "text": [
      "EVEN LESS THAN 10\n"
     ]
    }
   ],
   "source": [
    "odd_or_even()"
   ]
  },
  {
   "cell_type": "code",
   "execution_count": 13,
   "id": "cc8669d7-97ed-44ee-a61c-0fd2637ebaf0",
   "metadata": {
    "tags": []
   },
   "outputs": [
    {
     "name": "stdin",
     "output_type": "stream",
     "text": [
      "Please enter a number:  10\n"
     ]
    },
    {
     "name": "stdout",
     "output_type": "stream",
     "text": [
      "EVEN\n"
     ]
    }
   ],
   "source": [
    "odd_or_even()\n"
   ]
  },
  {
   "cell_type": "code",
   "execution_count": 14,
   "id": "4de809f3-7932-4e87-9d9f-7dd25a72d61b",
   "metadata": {
    "tags": []
   },
   "outputs": [
    {
     "name": "stdin",
     "output_type": "stream",
     "text": [
      "Please enter a number:  87\n"
     ]
    },
    {
     "name": "stdout",
     "output_type": "stream",
     "text": [
      "ODD\n"
     ]
    }
   ],
   "source": [
    "odd_or_even()"
   ]
  },
  {
   "cell_type": "markdown",
   "id": "bc6f26fc-441b-4967-91c5-8ba6e494a766",
   "metadata": {},
   "source": [
    "RECURSION"
   ]
  },
  {
   "cell_type": "code",
   "execution_count": 1,
   "id": "5830007f-5944-4025-b5e2-224535459e35",
   "metadata": {
    "tags": []
   },
   "outputs": [],
   "source": [
    "# Example:\n",
    "\n",
    "def count_down(n):\n",
    "    \"\"\"\n",
    "    The countdown function to print numbers.\n",
    "    Parameters: int n, the number to print\n",
    "    The function calls itself with the next number\n",
    "    \"\"\"\n",
    "    \n",
    "    # exit condition\n",
    "    if n <= 0:\n",
    "        print(\"---------End of Program-----------\")\n",
    "        return\n",
    "    else:\n",
    "        print(n)\n",
    "        # call itself\n",
    "        count_down(n-1)"
   ]
  },
  {
   "cell_type": "code",
   "execution_count": 2,
   "id": "918bd0c8-9671-4dee-95d2-08e1101093ea",
   "metadata": {
    "tags": []
   },
   "outputs": [
    {
     "name": "stdout",
     "output_type": "stream",
     "text": [
      "5\n",
      "4\n",
      "3\n",
      "2\n",
      "1\n",
      "---------End of Program-----------\n"
     ]
    }
   ],
   "source": [
    "count_down(5)"
   ]
  },
  {
   "cell_type": "code",
   "execution_count": 3,
   "id": "857ee1d1-2a16-43b5-b3c0-3e1aa848a14d",
   "metadata": {
    "tags": []
   },
   "outputs": [
    {
     "name": "stdout",
     "output_type": "stream",
     "text": [
      "10\n",
      "9\n",
      "8\n",
      "7\n",
      "6\n",
      "5\n",
      "4\n",
      "3\n",
      "2\n",
      "1\n",
      "---------End of Program-----------\n"
     ]
    }
   ],
   "source": [
    "count_down(10)"
   ]
  },
  {
   "cell_type": "code",
   "execution_count": 4,
   "id": "c9bc664f-80d5-475f-a408-985e1ed09e81",
   "metadata": {
    "tags": []
   },
   "outputs": [],
   "source": [
    "# Example:\n",
    "# create a function which will print the text parameter given to it.\n",
    "# The function will write this text number n times.\n",
    "# n is second parameter\n",
    "\n",
    "def write_text(text, n):\n",
    "    # exit condition\n",
    "    if n <= 0:\n",
    "        return\n",
    "    else:\n",
    "        print(text)\n",
    "        write_text(text, n-1)"
   ]
  },
  {
   "cell_type": "code",
   "execution_count": 5,
   "id": "5b92dd24-49ff-4fed-a281-68e716720cc6",
   "metadata": {
    "tags": []
   },
   "outputs": [
    {
     "name": "stdout",
     "output_type": "stream",
     "text": [
      "Hands-On Python is great :)\n",
      "Hands-On Python is great :)\n",
      "Hands-On Python is great :)\n",
      "Hands-On Python is great :)\n",
      "Hands-On Python is great :)\n"
     ]
    }
   ],
   "source": [
    "write_text(\"Hands-On Python is great :)\", 5)"
   ]
  },
  {
   "cell_type": "code",
   "execution_count": 6,
   "id": "ddeb70d0-0c00-4cf6-b099-1540011b0131",
   "metadata": {
    "tags": []
   },
   "outputs": [],
   "source": [
    "# let's print numbers\n",
    "\n",
    "def write_text(text, n):\n",
    "    # exit condition\n",
    "    if n <= 0:\n",
    "        return\n",
    "    else:\n",
    "        print(\"{} : {}\".format(n, text))\n",
    "        write_text(text, n-1)"
   ]
  },
  {
   "cell_type": "code",
   "execution_count": 7,
   "id": "6d7f18cd-a4a9-4b7d-a80f-6c62511bf2fb",
   "metadata": {
    "tags": []
   },
   "outputs": [
    {
     "name": "stdout",
     "output_type": "stream",
     "text": [
      "5 : Hands-On Python is great :)\n",
      "4 : Hands-On Python is great :)\n",
      "3 : Hands-On Python is great :)\n",
      "2 : Hands-On Python is great :)\n",
      "1 : Hands-On Python is great :)\n"
     ]
    }
   ],
   "source": [
    "write_text(\"Hands-On Python is great :)\", 5)"
   ]
  },
  {
   "cell_type": "code",
   "execution_count": 8,
   "id": "8c0b0d73-f16d-41dc-bf8e-8e7764be085c",
   "metadata": {
    "tags": []
   },
   "outputs": [],
   "source": [
    "def up_to_hundred(n):\n",
    "    # no exit condition\n",
    "    print(n)\n",
    "    up_to_hundred(n+1)"
   ]
  },
  {
   "cell_type": "code",
   "execution_count": null,
   "id": "9cd99ad1-7165-4032-b2bc-f32dd80a633b",
   "metadata": {
    "tags": []
   },
   "outputs": [],
   "source": [
    "up_to_hundred(5)"
   ]
  },
  {
   "cell_type": "code",
   "execution_count": 1,
   "id": "f42b90ec-6a94-4087-87e8-ff3f72736139",
   "metadata": {
    "tags": []
   },
   "outputs": [],
   "source": [
    "def up_to_hundred(n):\n",
    "    # exit condition\n",
    "    if n > 100:\n",
    "        return\n",
    "    else:\n",
    "        print(n)\n",
    "        up_to_hundred(n+1)"
   ]
  },
  {
   "cell_type": "code",
   "execution_count": 2,
   "id": "b37d442c-ed3e-458e-9044-3539d5867646",
   "metadata": {
    "tags": []
   },
   "outputs": [
    {
     "name": "stdout",
     "output_type": "stream",
     "text": [
      "80\n",
      "81\n",
      "82\n",
      "83\n",
      "84\n",
      "85\n",
      "86\n",
      "87\n",
      "88\n",
      "89\n",
      "90\n",
      "91\n",
      "92\n",
      "93\n",
      "94\n",
      "95\n",
      "96\n",
      "97\n",
      "98\n",
      "99\n",
      "100\n"
     ]
    }
   ],
   "source": [
    "up_to_hundred(80)"
   ]
  },
  {
   "cell_type": "code",
   "execution_count": null,
   "id": "177de299-5d1b-4e5f-9227-226fc6481fc2",
   "metadata": {},
   "outputs": [],
   "source": []
  }
 ],
 "metadata": {
  "kernelspec": {
   "display_name": "Python 3 (ipykernel)",
   "language": "python",
   "name": "python3"
  },
  "language_info": {
   "codemirror_mode": {
    "name": "ipython",
    "version": 3
   },
   "file_extension": ".py",
   "mimetype": "text/x-python",
   "name": "python",
   "nbconvert_exporter": "python",
   "pygments_lexer": "ipython3",
   "version": "3.10.10"
  }
 },
 "nbformat": 4,
 "nbformat_minor": 5
}
