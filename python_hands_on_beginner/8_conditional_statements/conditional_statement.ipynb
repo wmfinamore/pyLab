{
 "cells": [
  {
   "cell_type": "code",
   "execution_count": 1,
   "id": "f8992ecf-aa8c-4715-913b-1655ba57361a",
   "metadata": {
    "tags": []
   },
   "outputs": [
    {
     "data": {
      "text/plain": [
       "True"
      ]
     },
     "execution_count": 1,
     "metadata": {},
     "output_type": "execute_result"
    }
   ],
   "source": [
    "6 == 6"
   ]
  },
  {
   "cell_type": "code",
   "execution_count": 2,
   "id": "0d87c293-99b6-4220-bbc4-87adccfc7aea",
   "metadata": {
    "tags": []
   },
   "outputs": [
    {
     "data": {
      "text/plain": [
       "6"
      ]
     },
     "execution_count": 2,
     "metadata": {},
     "output_type": "execute_result"
    }
   ],
   "source": [
    "# single equal sign -> =, assignment\n",
    "a = 6\n",
    "a"
   ]
  },
  {
   "cell_type": "code",
   "execution_count": 3,
   "id": "317dfc9f-617f-4829-b2fe-4393422b4f1e",
   "metadata": {
    "tags": []
   },
   "outputs": [
    {
     "data": {
      "text/plain": [
       "True"
      ]
     },
     "execution_count": 3,
     "metadata": {},
     "output_type": "execute_result"
    }
   ],
   "source": [
    "# double equal sign -> ==, equality check\n",
    "a == 6"
   ]
  },
  {
   "cell_type": "code",
   "execution_count": 4,
   "id": "98dc5416-1304-4d3d-a0b9-0ff7b0cf2c5a",
   "metadata": {
    "tags": []
   },
   "outputs": [
    {
     "data": {
      "text/plain": [
       "False"
      ]
     },
     "execution_count": 4,
     "metadata": {},
     "output_type": "execute_result"
    }
   ],
   "source": [
    "a == 8"
   ]
  },
  {
   "cell_type": "code",
   "execution_count": 5,
   "id": "0e0adabf-ddd0-4d69-8008-d09cfff56124",
   "metadata": {
    "tags": []
   },
   "outputs": [
    {
     "data": {
      "text/plain": [
       "bool"
      ]
     },
     "execution_count": 5,
     "metadata": {},
     "output_type": "execute_result"
    }
   ],
   "source": [
    "type(True)"
   ]
  },
  {
   "cell_type": "code",
   "execution_count": 6,
   "id": "1a1d270a-8548-4ed6-b9ed-653fbe199c2d",
   "metadata": {
    "tags": []
   },
   "outputs": [
    {
     "name": "stdout",
     "output_type": "stream",
     "text": [
      " x == y: False\n",
      " x != y: True\n",
      " x < y: False\n",
      " x > y: True\n",
      " x <= y: False\n",
      " x >= y: True\n"
     ]
    }
   ],
   "source": [
    "x = 12\n",
    "y = 8\n",
    "print(\" x == y:\", x == y)\n",
    "print(\" x != y:\", x != y)\n",
    "print(\" x < y:\", x < y)\n",
    "print(\" x > y:\", x > y)\n",
    "print(\" x <= y:\", x <= y)\n",
    "print(\" x >= y:\", x >= y)\n",
    "    "
   ]
  },
  {
   "cell_type": "markdown",
   "id": "b2b8ce2b-b1f1-4633-8576-d314fefccdaa",
   "metadata": {},
   "source": [
    "LOGICAL OPERATORS"
   ]
  },
  {
   "cell_type": "code",
   "execution_count": 7,
   "id": "8f18624c-74ea-4c21-aba3-7a58a1b33c1f",
   "metadata": {
    "tags": []
   },
   "outputs": [
    {
     "data": {
      "text/plain": [
       "True"
      ]
     },
     "execution_count": 7,
     "metadata": {},
     "output_type": "execute_result"
    }
   ],
   "source": [
    "True and True"
   ]
  },
  {
   "cell_type": "code",
   "execution_count": 8,
   "id": "8f9e7e67-f720-42dc-b221-23448345b8c8",
   "metadata": {
    "tags": []
   },
   "outputs": [
    {
     "data": {
      "text/plain": [
       "False"
      ]
     },
     "execution_count": 8,
     "metadata": {},
     "output_type": "execute_result"
    }
   ],
   "source": [
    "True and False"
   ]
  },
  {
   "cell_type": "code",
   "execution_count": 9,
   "id": "484bba8d-767a-4f4b-b99e-1905b13122a4",
   "metadata": {
    "tags": []
   },
   "outputs": [
    {
     "data": {
      "text/plain": [
       "False"
      ]
     },
     "execution_count": 9,
     "metadata": {},
     "output_type": "execute_result"
    }
   ],
   "source": [
    "False and True"
   ]
  },
  {
   "cell_type": "code",
   "execution_count": 10,
   "id": "a9ee3126-130e-495c-8a59-aefef2909aaa",
   "metadata": {
    "tags": []
   },
   "outputs": [
    {
     "data": {
      "text/plain": [
       "False"
      ]
     },
     "execution_count": 10,
     "metadata": {},
     "output_type": "execute_result"
    }
   ],
   "source": [
    "False and False"
   ]
  },
  {
   "cell_type": "code",
   "execution_count": 11,
   "id": "da64b8ed-be17-4da2-b017-92a91cea97d8",
   "metadata": {
    "tags": []
   },
   "outputs": [
    {
     "data": {
      "text/plain": [
       "True"
      ]
     },
     "execution_count": 11,
     "metadata": {},
     "output_type": "execute_result"
    }
   ],
   "source": [
    "True or True"
   ]
  },
  {
   "cell_type": "code",
   "execution_count": 12,
   "id": "c88b34bb-67a3-4fa1-b0f8-fdcb17a21465",
   "metadata": {
    "tags": []
   },
   "outputs": [
    {
     "data": {
      "text/plain": [
       "True"
      ]
     },
     "execution_count": 12,
     "metadata": {},
     "output_type": "execute_result"
    }
   ],
   "source": [
    "True or False"
   ]
  },
  {
   "cell_type": "code",
   "execution_count": 13,
   "id": "f215c3a8-029d-4c60-ba23-7771fe8155d4",
   "metadata": {
    "tags": []
   },
   "outputs": [
    {
     "data": {
      "text/plain": [
       "True"
      ]
     },
     "execution_count": 13,
     "metadata": {},
     "output_type": "execute_result"
    }
   ],
   "source": [
    "False or True"
   ]
  },
  {
   "cell_type": "code",
   "execution_count": 14,
   "id": "d17157fa-6f07-4665-bbc4-de0bfd9c6b0f",
   "metadata": {
    "tags": []
   },
   "outputs": [
    {
     "data": {
      "text/plain": [
       "False"
      ]
     },
     "execution_count": 14,
     "metadata": {},
     "output_type": "execute_result"
    }
   ],
   "source": [
    "False or False"
   ]
  },
  {
   "cell_type": "code",
   "execution_count": 16,
   "id": "db620be2-fc8b-4b71-ba6d-2a9609bb26ea",
   "metadata": {
    "tags": []
   },
   "outputs": [
    {
     "data": {
      "text/plain": [
       "True"
      ]
     },
     "execution_count": 16,
     "metadata": {},
     "output_type": "execute_result"
    }
   ],
   "source": [
    "# a -> True\n",
    "a = 5 == 5\n",
    "a"
   ]
  },
  {
   "cell_type": "code",
   "execution_count": 17,
   "id": "d28630a9-fe18-4e3e-bb31-7b596a71e4fa",
   "metadata": {
    "tags": []
   },
   "outputs": [
    {
     "data": {
      "text/plain": [
       "False"
      ]
     },
     "execution_count": 17,
     "metadata": {},
     "output_type": "execute_result"
    }
   ],
   "source": [
    "# b -> False\n",
    "b = 'a' == 'A'\n",
    "b"
   ]
  },
  {
   "cell_type": "code",
   "execution_count": 18,
   "id": "4ffb3e08-0ec8-4841-9fc3-18601650f76a",
   "metadata": {
    "tags": []
   },
   "outputs": [
    {
     "name": "stdout",
     "output_type": "stream",
     "text": [
      "---- and ----\n"
     ]
    },
    {
     "data": {
      "text/plain": [
       "'True and False: False'"
      ]
     },
     "execution_count": 18,
     "metadata": {},
     "output_type": "execute_result"
    }
   ],
   "source": [
    "# and\n",
    "print(\"---- and ----\")\n",
    "\"{0} and {1}: {2}\".format(a, b, a and b)"
   ]
  },
  {
   "cell_type": "code",
   "execution_count": 19,
   "id": "8cccf701-b34d-4d40-9947-5081220ba947",
   "metadata": {
    "tags": []
   },
   "outputs": [
    {
     "name": "stdout",
     "output_type": "stream",
     "text": [
      "---- or ----\n"
     ]
    },
    {
     "data": {
      "text/plain": [
       "'True or False: True'"
      ]
     },
     "execution_count": 19,
     "metadata": {},
     "output_type": "execute_result"
    }
   ],
   "source": [
    "# or\n",
    "print(\"---- or ----\")\n",
    "\"{0} or {1}: {2}\".format(a, b, a or b)"
   ]
  },
  {
   "cell_type": "markdown",
   "id": "6da527de-e6f6-4c5a-a353-451d59093d78",
   "metadata": {},
   "source": [
    "IF"
   ]
  },
  {
   "cell_type": "code",
   "execution_count": 1,
   "id": "62fcc0d4-c8c5-48cb-a5c0-757a4ccd1539",
   "metadata": {
    "tags": []
   },
   "outputs": [
    {
     "name": "stdout",
     "output_type": "stream",
     "text": [
      "7 is greater than 0.\n"
     ]
    }
   ],
   "source": [
    "# Print x, if it is greater than zero (positive)\n",
    "\n",
    "x = 7\n",
    "\n",
    "if x > 0:\n",
    "    print(\"{} is greater than 0.\".format(x))"
   ]
  },
  {
   "cell_type": "code",
   "execution_count": 3,
   "id": "e4801f5a-6a2d-4498-9b82-087fbeb8e30a",
   "metadata": {
    "tags": []
   },
   "outputs": [
    {
     "name": "stdout",
     "output_type": "stream",
     "text": [
      "end of if statement\n"
     ]
    }
   ],
   "source": [
    "x = -10\n",
    "\n",
    "if x > 0:\n",
    "    print(\"{} is greater than 0.\".format(x))\n",
    "print(\"end of if statement\")"
   ]
  },
  {
   "cell_type": "code",
   "execution_count": 4,
   "id": "4c363bd8-d278-4f8a-bd5a-c01194196f82",
   "metadata": {
    "tags": []
   },
   "outputs": [
    {
     "name": "stdout",
     "output_type": "stream",
     "text": [
      "-----------\n",
      "10 is greater  than 0 and less than or equal to 10\n",
      "-----------\n"
     ]
    }
   ],
   "source": [
    "# If x is greater than 0 and less than or equal to 10, print it\n",
    "\n",
    "x = 10\n",
    "\n",
    "print(\"-----------\")\n",
    "\n",
    "if x > 0 and x <= 10:\n",
    "    print(\"{} is greater  than 0 and less than or equal to 10\".format(x))\n",
    "    \n",
    "print(\"-----------\")\n"
   ]
  },
  {
   "cell_type": "code",
   "execution_count": 5,
   "id": "c93bdbea-4494-4528-88b4-71aef7bb2d97",
   "metadata": {
    "tags": []
   },
   "outputs": [
    {
     "name": "stdout",
     "output_type": "stream",
     "text": [
      "-----------\n",
      "-----------\n"
     ]
    }
   ],
   "source": [
    "x = 17\n",
    "\n",
    "print(\"-----------\")\n",
    "\n",
    "if x > 0 and x <= 10:\n",
    "    print(\"{} is greater  than 0 and less than or equal to 10\".format(x))\n",
    "    \n",
    "print(\"-----------\")"
   ]
  },
  {
   "cell_type": "code",
   "execution_count": 6,
   "id": "6c8378c8-a8f6-44d6-a1ff-f169354e8112",
   "metadata": {
    "tags": []
   },
   "outputs": [
    {
     "name": "stdout",
     "output_type": "stream",
     "text": [
      "-----------\n",
      "6 is greater  than 0 and less than or equal to 10\n",
      "-----------\n"
     ]
    }
   ],
   "source": [
    "x = 6\n",
    "\n",
    "print(\"-----------\")\n",
    "\n",
    "if x > 0 and x <= 10:\n",
    "    print(\"{} is greater  than 0 and less than or equal to 10\".format(x))\n",
    "    \n",
    "print(\"-----------\")"
   ]
  },
  {
   "cell_type": "code",
   "execution_count": 7,
   "id": "4e2c0838-3293-45b8-aee8-5e4df025f273",
   "metadata": {
    "tags": []
   },
   "outputs": [
    {
     "name": "stdout",
     "output_type": "stream",
     "text": [
      "---------------------\n",
      "19 is greater than or equal 0 and less than 20.\n",
      "---------------------\n"
     ]
    }
   ],
   "source": [
    "# if x is greater than or equal to 0 and less than 20, print it\n",
    "\n",
    "x = 19\n",
    "\n",
    "print(\"---------------------\")\n",
    "\n",
    "if x >= 0 and x < 20:\n",
    "    print(\"{} is greater than or equal 0 and less than 20.\".format(x))\n",
    "    \n",
    "print(\"---------------------\")\n"
   ]
  },
  {
   "cell_type": "code",
   "execution_count": 8,
   "id": "f06651fd-b629-44c5-b7f8-a7cea4e4203d",
   "metadata": {
    "tags": []
   },
   "outputs": [
    {
     "name": "stdout",
     "output_type": "stream",
     "text": [
      "---------------------\n",
      "---------------------\n"
     ]
    }
   ],
   "source": [
    "x = 49\n",
    "\n",
    "print(\"---------------------\")\n",
    "\n",
    "if x >= 0 and x < 20:\n",
    "    print(\"{} is greater than or equal 0 and less than 20.\".format(x))\n",
    "    \n",
    "print(\"---------------------\")"
   ]
  },
  {
   "cell_type": "code",
   "execution_count": 9,
   "id": "bfde795d-80d7-4a46-888a-80c5e24fda5e",
   "metadata": {
    "tags": []
   },
   "outputs": [
    {
     "name": "stdout",
     "output_type": "stream",
     "text": [
      "---------------------\n",
      "---------------------\n"
     ]
    }
   ],
   "source": [
    "x = -6\n",
    "\n",
    "print(\"---------------------\")\n",
    "\n",
    "if x >= 0 and x < 20:\n",
    "    print(\"{} is greater than or equal 0 and less than 20.\".format(x))\n",
    "    \n",
    "print(\"---------------------\")"
   ]
  },
  {
   "cell_type": "code",
   "execution_count": 10,
   "id": "e42eb219-fdef-4c72-b2c5-8780ecc9bc96",
   "metadata": {
    "tags": []
   },
   "outputs": [
    {
     "name": "stdout",
     "output_type": "stream",
     "text": [
      "------------------\n",
      "------------------\n"
     ]
    }
   ],
   "source": [
    "# or\n",
    "\n",
    "# if x is greater than 100 or less  than 0, print it\n",
    "\n",
    "x = 80\n",
    "\n",
    "print(\"------------------\")\n",
    "\n",
    "if x > 100 or x < 0:\n",
    "    print(\"{} is greater than 100 or less than 0\".format(x))\n",
    "    \n",
    "print(\"------------------\")\n",
    "\n"
   ]
  },
  {
   "cell_type": "code",
   "execution_count": 11,
   "id": "a4fabf51-046d-4b8d-91ee-c4ba5d93d404",
   "metadata": {
    "tags": []
   },
   "outputs": [
    {
     "name": "stdout",
     "output_type": "stream",
     "text": [
      "------------------\n",
      "280 is greater than 100 or less than 0\n",
      "------------------\n"
     ]
    }
   ],
   "source": [
    "x = 280\n",
    "\n",
    "print(\"------------------\")\n",
    "\n",
    "if x > 100 or x < 0:\n",
    "    print(\"{} is greater than 100 or less than 0\".format(x))\n",
    "    \n",
    "print(\"------------------\")\n",
    "\n"
   ]
  },
  {
   "cell_type": "code",
   "execution_count": 12,
   "id": "9a53303c-a37d-4ae0-939f-97e81173a2d3",
   "metadata": {
    "tags": []
   },
   "outputs": [
    {
     "name": "stdout",
     "output_type": "stream",
     "text": [
      "------------------\n",
      "-300 is greater than 100 or less than 0\n",
      "------------------\n"
     ]
    }
   ],
   "source": [
    "x = -300\n",
    "\n",
    "print(\"------------------\")\n",
    "\n",
    "if x > 100 or x < 0:\n",
    "    print(\"{} is greater than 100 or less than 0\".format(x))\n",
    "    \n",
    "print(\"------------------\")\n",
    "\n"
   ]
  },
  {
   "cell_type": "markdown",
   "id": "78a22c61-9074-4630-a90a-a260ac11015d",
   "metadata": {},
   "source": [
    "ELSE"
   ]
  },
  {
   "cell_type": "code",
   "execution_count": 2,
   "id": "5e263a7e-a888-4a08-9207-4972ccc2418f",
   "metadata": {
    "tags": []
   },
   "outputs": [
    {
     "name": "stdout",
     "output_type": "stream",
     "text": [
      "-------before if block --------\n",
      "EVEN\n",
      "---------after if blkock---------\n"
     ]
    }
   ],
   "source": [
    "# if x is an even number, print \"EVEN\"\n",
    "# if not (else) print \"ODD\"\n",
    "\n",
    "# condition for being even: divisible by 2 (% modulus operator)\n",
    "\n",
    "x = 14\n",
    "\n",
    "print(\"-------before if block --------\")\n",
    "\n",
    "if x % 2 == 0:\n",
    "    print(\"EVEN\")\n",
    "else:\n",
    "    print(\"ODD\")\n",
    "          \n",
    "print(\"---------after if blkock---------\")"
   ]
  },
  {
   "cell_type": "code",
   "execution_count": 3,
   "id": "cb8e096b-84ae-4e14-a2b7-8b5c55a841e3",
   "metadata": {
    "tags": []
   },
   "outputs": [
    {
     "name": "stdout",
     "output_type": "stream",
     "text": [
      "-------before if block --------\n",
      "ODD\n",
      "---------after if blkock---------\n"
     ]
    }
   ],
   "source": [
    "x = 9\n",
    "\n",
    "print(\"-------before if block --------\")\n",
    "\n",
    "if x % 2 == 0:\n",
    "    print(\"EVEN\")\n",
    "else:\n",
    "    print(\"ODD\")\n",
    "          \n",
    "print(\"---------after if blkock---------\")"
   ]
  },
  {
   "cell_type": "code",
   "execution_count": 4,
   "id": "213f7f36-a9e9-4bae-b4cb-8e227eb3e716",
   "metadata": {
    "tags": []
   },
   "outputs": [
    {
     "name": "stdout",
     "output_type": "stream",
     "text": [
      "INTEGER\n"
     ]
    }
   ],
   "source": [
    "# if is integer, print \"INTEGER\"\n",
    "# else print \"NOT INTEGER\"\n",
    "\n",
    "# for integer check -> type()\n",
    "\n",
    "x = 9\n",
    "\n",
    "if type(x) == int:\n",
    "    print(\"INTEGER\")\n",
    "else:\n",
    "    print(\"NOT INTEGER\")\n"
   ]
  },
  {
   "cell_type": "code",
   "execution_count": 5,
   "id": "ce7ff40a-fa69-4dac-a6ce-55adfc4a360d",
   "metadata": {
    "tags": []
   },
   "outputs": [
    {
     "name": "stdout",
     "output_type": "stream",
     "text": [
      "NOT INTEGER\n"
     ]
    }
   ],
   "source": [
    "x = \"xyz\"\n",
    "\n",
    "if type(x) == int:\n",
    "    print(\"INTEGER\")\n",
    "else:\n",
    "    print(\"NOT INTEGER\")\n"
   ]
  },
  {
   "cell_type": "code",
   "execution_count": null,
   "id": "d5b03545-5482-446a-958a-e36acbfe53ac",
   "metadata": {},
   "outputs": [],
   "source": []
  }
 ],
 "metadata": {
  "kernelspec": {
   "display_name": "Python 3 (ipykernel)",
   "language": "python",
   "name": "python3"
  },
  "language_info": {
   "codemirror_mode": {
    "name": "ipython",
    "version": 3
   },
   "file_extension": ".py",
   "mimetype": "text/x-python",
   "name": "python",
   "nbconvert_exporter": "python",
   "pygments_lexer": "ipython3",
   "version": "3.10.10"
  }
 },
 "nbformat": 4,
 "nbformat_minor": 5
}
