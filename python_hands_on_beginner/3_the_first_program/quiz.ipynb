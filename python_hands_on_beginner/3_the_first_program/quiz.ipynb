{
 "cells": [
  {
   "cell_type": "code",
   "execution_count": 1,
   "id": "c3581731-232c-4734-9c4a-5d2d4756613f",
   "metadata": {
    "tags": []
   },
   "outputs": [
    {
     "data": {
      "text/plain": [
       "1476"
      ]
     },
     "execution_count": 1,
     "metadata": {},
     "output_type": "execute_result"
    }
   ],
   "source": [
    "(24 * 60) + 36"
   ]
  },
  {
   "cell_type": "code",
   "execution_count": 3,
   "id": "49c528aa-9c07-42f4-b52d-d1496d8cc989",
   "metadata": {
    "tags": []
   },
   "outputs": [
    {
     "data": {
      "text/plain": [
       "337.5"
      ]
     },
     "execution_count": 3,
     "metadata": {},
     "output_type": "execute_result"
    }
   ],
   "source": [
    "(450 / 80) * 60"
   ]
  },
  {
   "cell_type": "code",
   "execution_count": 4,
   "id": "21bc29e0-2400-4126-aaa6-95f60b286a2e",
   "metadata": {
    "tags": []
   },
   "outputs": [
    {
     "data": {
      "text/plain": [
       "337.5"
      ]
     },
     "execution_count": 4,
     "metadata": {},
     "output_type": "execute_result"
    }
   ],
   "source": [
    "450 / (80/60)"
   ]
  },
  {
   "cell_type": "code",
   "execution_count": 5,
   "id": "3b67bee4-8c85-4439-b6ef-8ea715b94208",
   "metadata": {
    "tags": []
   },
   "outputs": [
    {
     "data": {
      "text/plain": [
       "16384"
      ]
     },
     "execution_count": 5,
     "metadata": {},
     "output_type": "execute_result"
    }
   ],
   "source": [
    "2 ** 14"
   ]
  },
  {
   "cell_type": "code",
   "execution_count": 7,
   "id": "d3233924-ee0e-4359-aecf-46554ca46308",
   "metadata": {
    "tags": []
   },
   "outputs": [
    {
     "name": "stdout",
     "output_type": "stream",
     "text": [
      "Python, I love you:)\n"
     ]
    }
   ],
   "source": [
    "print(\"Python, I love you:)\")"
   ]
  },
  {
   "cell_type": "code",
   "execution_count": 8,
   "id": "03cbb930-d23c-46de-928c-a5aac3fb3596",
   "metadata": {
    "tags": []
   },
   "outputs": [
    {
     "data": {
      "text/plain": [
       "int"
      ]
     },
     "execution_count": 8,
     "metadata": {},
     "output_type": "execute_result"
    }
   ],
   "source": [
    "type(15)"
   ]
  },
  {
   "cell_type": "code",
   "execution_count": 17,
   "id": "98976d76-b99d-4798-aa47-fb9f88259ec8",
   "metadata": {
    "tags": []
   },
   "outputs": [
    {
     "name": "stdout",
     "output_type": "stream",
     "text": [
      "<class 'str'>\n"
     ]
    }
   ],
   "source": [
    "print(type(\"15\"))"
   ]
  },
  {
   "cell_type": "code",
   "execution_count": 11,
   "id": "759a42e2-faef-41c0-a68a-1adc590441b5",
   "metadata": {
    "tags": []
   },
   "outputs": [
    {
     "data": {
      "text/plain": [
       "4"
      ]
     },
     "execution_count": 11,
     "metadata": {},
     "output_type": "execute_result"
    }
   ],
   "source": [
    "49 % 5"
   ]
  },
  {
   "cell_type": "code",
   "execution_count": 12,
   "id": "0d073327-714b-4db5-9c9d-8396f7acf311",
   "metadata": {
    "tags": []
   },
   "outputs": [
    {
     "data": {
      "text/plain": [
       "9"
      ]
     },
     "execution_count": 12,
     "metadata": {},
     "output_type": "execute_result"
    }
   ],
   "source": [
    "49 // 5"
   ]
  },
  {
   "cell_type": "code",
   "execution_count": 14,
   "id": "604a7abb-f952-4737-818a-9a8327bff6e5",
   "metadata": {
    "tags": []
   },
   "outputs": [
    {
     "data": {
      "text/plain": [
       "11.0"
      ]
     },
     "execution_count": 14,
     "metadata": {},
     "output_type": "execute_result"
    }
   ],
   "source": [
    "((1**2)+(2**2)+(3**2)+(4**2)+(5**2))/5"
   ]
  },
  {
   "cell_type": "code",
   "execution_count": 16,
   "id": "de73f8c4-5c98-4e9e-b98b-ae58839a0a17",
   "metadata": {
    "tags": []
   },
   "outputs": [
    {
     "data": {
      "text/plain": [
       "9.0"
      ]
     },
     "execution_count": 16,
     "metadata": {},
     "output_type": "execute_result"
    }
   ],
   "source": [
    "((4**3)+17)**(1/2)"
   ]
  },
  {
   "cell_type": "code",
   "execution_count": null,
   "id": "832ec3b4-85f3-431b-bd85-667bf6cc3ae5",
   "metadata": {},
   "outputs": [],
   "source": []
  }
 ],
 "metadata": {
  "kernelspec": {
   "display_name": "Python 3 (ipykernel)",
   "language": "python",
   "name": "python3"
  },
  "language_info": {
   "codemirror_mode": {
    "name": "ipython",
    "version": 3
   },
   "file_extension": ".py",
   "mimetype": "text/x-python",
   "name": "python",
   "nbconvert_exporter": "python",
   "pygments_lexer": "ipython3",
   "version": "3.10.10"
  }
 },
 "nbformat": 4,
 "nbformat_minor": 5
}
