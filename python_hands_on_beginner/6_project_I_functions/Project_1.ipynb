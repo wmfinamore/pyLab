{
 "cells": [
  {
   "cell_type": "markdown",
   "id": "6ed2dec9-a125-49f2-af82-58f16b6abdb1",
   "metadata": {},
   "source": [
    "TURTLE"
   ]
  },
  {
   "cell_type": "code",
   "execution_count": 1,
   "id": "076f286d-6f2e-4873-abfe-cd793a72f15c",
   "metadata": {
    "tags": []
   },
   "outputs": [],
   "source": [
    "# import the module -> turtle\n",
    "import turtle"
   ]
  },
  {
   "cell_type": "code",
   "execution_count": 2,
   "id": "ce34a6e2-d8d4-4f4d-b494-7de1c7575242",
   "metadata": {
    "tags": []
   },
   "outputs": [],
   "source": [
    "# get the turtle object and assign it to a local variable\n",
    "t = turtle.Turtle()"
   ]
  },
  {
   "cell_type": "code",
   "execution_count": 3,
   "id": "77a9cdd1-e711-4023-a976-b5f344388524",
   "metadata": {
    "tags": []
   },
   "outputs": [],
   "source": [
    "# move turtle forward by 100 pixels\n",
    "t.fd(100)"
   ]
  },
  {
   "cell_type": "code",
   "execution_count": 4,
   "id": "0ce4eab8-3346-442b-983a-5bbbe575a98b",
   "metadata": {
    "tags": []
   },
   "outputs": [],
   "source": [
    "# turn the turtle to the left by 90 degrees\n",
    "t.lt(90)"
   ]
  },
  {
   "cell_type": "code",
   "execution_count": 5,
   "id": "86da19c4-5b68-4d1e-a040-1a52cb7e9e9c",
   "metadata": {
    "tags": []
   },
   "outputs": [],
   "source": [
    "# move turtle forward by 100 pixels\n",
    "t.fd(100)"
   ]
  },
  {
   "cell_type": "code",
   "execution_count": 6,
   "id": "634def9d-c1b8-481f-8df8-445aec7b88c8",
   "metadata": {
    "tags": []
   },
   "outputs": [],
   "source": [
    "# turn the turtle to the left by 90 degrees\n",
    "t.lt(90)"
   ]
  },
  {
   "cell_type": "code",
   "execution_count": 7,
   "id": "b01d9481-64ab-4286-ab9c-025a575415c4",
   "metadata": {
    "tags": []
   },
   "outputs": [],
   "source": [
    "# move turtle forward by 100 pixels\n",
    "t.fd(100)"
   ]
  },
  {
   "cell_type": "code",
   "execution_count": 8,
   "id": "9ceb4cca-1111-486a-8d2e-0a95e0641d6c",
   "metadata": {
    "tags": []
   },
   "outputs": [],
   "source": [
    "# turn the turtle to the left by 90 degrees\n",
    "t.lt(90)"
   ]
  },
  {
   "cell_type": "code",
   "execution_count": 9,
   "id": "e38ad257-da08-4aca-aed2-4b73c46a9e80",
   "metadata": {
    "tags": []
   },
   "outputs": [],
   "source": [
    "# move turtle forward by 100 pixels\n",
    "t.fd(100)"
   ]
  },
  {
   "cell_type": "code",
   "execution_count": 10,
   "id": "3dc77ee6-fe0e-43f4-8742-9baf700613dc",
   "metadata": {
    "tags": []
   },
   "outputs": [],
   "source": [
    "# move the turtle to the left by 90 degrees\n",
    "t.lt(90)"
   ]
  },
  {
   "cell_type": "code",
   "execution_count": 36,
   "id": "c648856c-d722-4b75-a90a-835386d541d4",
   "metadata": {
    "tags": []
   },
   "outputs": [],
   "source": [
    "# clear screen and reset the turtle to the initial position\n",
    "t.clear()\n"
   ]
  },
  {
   "cell_type": "code",
   "execution_count": 37,
   "id": "93b23ef9-32c4-4079-93ce-3e82f57ba61d",
   "metadata": {
    "tags": []
   },
   "outputs": [],
   "source": [
    "# reset the screen\n",
    "turtle.resetscreen()"
   ]
  },
  {
   "cell_type": "code",
   "execution_count": 16,
   "id": "c79c3bca-6837-4a13-862f-ffb44ca5cb32",
   "metadata": {
    "tags": []
   },
   "outputs": [],
   "source": [
    "t.fd(100)\n",
    "t.lt(90)\n",
    "\n",
    "t.fd(100)\n",
    "t.lt(90)\n",
    "\n",
    "t.fd(100)\n",
    "t.lt(90)\n",
    "\n",
    "t.fd(100)\n",
    "t.lt(90)"
   ]
  },
  {
   "cell_type": "code",
   "execution_count": 22,
   "id": "d54b346f-e5b8-460a-abf2-965b81bf0cc8",
   "metadata": {
    "tags": []
   },
   "outputs": [],
   "source": [
    "# with loop\n",
    "# it's going to repeat fd-lt pattern 4 times\n",
    "for i in range(4):\n",
    "    t.fd(100)\n",
    "    t.lt(90)\n"
   ]
  },
  {
   "cell_type": "code",
   "execution_count": 28,
   "id": "897b7867-53b9-4e60-a59a-6f658cac4db8",
   "metadata": {
    "tags": []
   },
   "outputs": [],
   "source": [
    "# square function\n",
    "def square(t, d, is_screen_reset):\n",
    "    \"\"\"\n",
    "    It draws square with turtle.\n",
    "    Parameters: turtle t, int d, bool is_screen_reset\n",
    "    Returns: None\n",
    "    \"\"\"\n",
    "    \n",
    "    # reset screen\n",
    "    if is_screen_reset == True:\n",
    "        reset()\n",
    "        \n",
    "    # draw a square\n",
    "    for i in range(4):\n",
    "        t.fd(d)\n",
    "        t.lt(90)"
   ]
  },
  {
   "cell_type": "code",
   "execution_count": 29,
   "id": "41bd91fa-31d2-4bba-b87b-12f23c9f1d5e",
   "metadata": {
    "tags": []
   },
   "outputs": [],
   "source": [
    "# reset function\n",
    "\n",
    "def reset():\n",
    "    turtle.resetscreen()\n",
    "    "
   ]
  },
  {
   "cell_type": "code",
   "execution_count": 32,
   "id": "1b184727-05be-4ad5-a20b-90c6f0a6228b",
   "metadata": {
    "tags": []
   },
   "outputs": [],
   "source": [
    "square(t, 200, True)"
   ]
  },
  {
   "cell_type": "code",
   "execution_count": 40,
   "id": "4fa47f34-3b52-49e0-ae02-ffcf995d944f",
   "metadata": {
    "tags": []
   },
   "outputs": [],
   "source": [
    "reset()"
   ]
  },
  {
   "cell_type": "code",
   "execution_count": 34,
   "id": "3339c347-7a00-482c-9c5a-d0efc5ac5a4e",
   "metadata": {
    "tags": []
   },
   "outputs": [],
   "source": [
    "square(t, 300, True)"
   ]
  },
  {
   "cell_type": "code",
   "execution_count": 35,
   "id": "180f5e99-80fd-4bd5-a3ac-ac4c473303dc",
   "metadata": {
    "tags": []
   },
   "outputs": [],
   "source": [
    "square(t, 100, False)"
   ]
  },
  {
   "cell_type": "code",
   "execution_count": 41,
   "id": "01baa37f-5021-48d2-a34e-8cbdc14b3ae0",
   "metadata": {
    "tags": []
   },
   "outputs": [],
   "source": [
    "# draw 100 squares of size: 20 - 40 - 60 - 80 - ... - 200\n",
    "\n",
    "# first reset the screen once\n",
    "reset()\n",
    "\n",
    "# loop to draw the circles\n",
    "for i in range(1, 11):\n",
    "    square(t, i * 20, False)\n",
    "    "
   ]
  },
  {
   "cell_type": "code",
   "execution_count": null,
   "id": "26c4c608-0036-4ee0-9a78-405d280dc752",
   "metadata": {},
   "outputs": [],
   "source": []
  }
 ],
 "metadata": {
  "kernelspec": {
   "display_name": "Python 3 (ipykernel)",
   "language": "python",
   "name": "python3"
  },
  "language_info": {
   "codemirror_mode": {
    "name": "ipython",
    "version": 3
   },
   "file_extension": ".py",
   "mimetype": "text/x-python",
   "name": "python",
   "nbconvert_exporter": "python",
   "pygments_lexer": "ipython3",
   "version": "3.10.10"
  }
 },
 "nbformat": 4,
 "nbformat_minor": 5
}
