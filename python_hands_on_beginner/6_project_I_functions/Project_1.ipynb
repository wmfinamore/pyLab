{
 "cells": [
  {
   "cell_type": "markdown",
   "id": "6ed2dec9-a125-49f2-af82-58f16b6abdb1",
   "metadata": {},
   "source": [
    "TURTLE"
   ]
  },
  {
   "cell_type": "code",
   "execution_count": 1,
   "id": "076f286d-6f2e-4873-abfe-cd793a72f15c",
   "metadata": {
    "tags": []
   },
   "outputs": [],
   "source": [
    "# import the module -> turtle\n",
    "import turtle"
   ]
  },
  {
   "cell_type": "code",
   "execution_count": 2,
   "id": "ce34a6e2-d8d4-4f4d-b494-7de1c7575242",
   "metadata": {
    "tags": []
   },
   "outputs": [],
   "source": [
    "# get the turtle object and assign it to a local variable\n",
    "t = turtle.Turtle()"
   ]
  },
  {
   "cell_type": "code",
   "execution_count": 3,
   "id": "77a9cdd1-e711-4023-a976-b5f344388524",
   "metadata": {
    "tags": []
   },
   "outputs": [],
   "source": [
    "# move turtle forward by 100 pixels\n",
    "t.fd(100)"
   ]
  },
  {
   "cell_type": "code",
   "execution_count": 4,
   "id": "0ce4eab8-3346-442b-983a-5bbbe575a98b",
   "metadata": {
    "tags": []
   },
   "outputs": [],
   "source": [
    "# turn the turtle to the left by 90 degrees\n",
    "t.lt(90)"
   ]
  },
  {
   "cell_type": "code",
   "execution_count": 5,
   "id": "86da19c4-5b68-4d1e-a040-1a52cb7e9e9c",
   "metadata": {
    "tags": []
   },
   "outputs": [],
   "source": [
    "# move turtle forward by 100 pixels\n",
    "t.fd(100)"
   ]
  },
  {
   "cell_type": "code",
   "execution_count": 6,
   "id": "634def9d-c1b8-481f-8df8-445aec7b88c8",
   "metadata": {
    "tags": []
   },
   "outputs": [],
   "source": [
    "# turn the turtle to the left by 90 degrees\n",
    "t.lt(90)"
   ]
  },
  {
   "cell_type": "code",
   "execution_count": 7,
   "id": "b01d9481-64ab-4286-ab9c-025a575415c4",
   "metadata": {
    "tags": []
   },
   "outputs": [],
   "source": [
    "# move turtle forward by 100 pixels\n",
    "t.fd(100)"
   ]
  },
  {
   "cell_type": "code",
   "execution_count": 8,
   "id": "9ceb4cca-1111-486a-8d2e-0a95e0641d6c",
   "metadata": {
    "tags": []
   },
   "outputs": [],
   "source": [
    "# turn the turtle to the left by 90 degrees\n",
    "t.lt(90)"
   ]
  },
  {
   "cell_type": "code",
   "execution_count": 9,
   "id": "e38ad257-da08-4aca-aed2-4b73c46a9e80",
   "metadata": {
    "tags": []
   },
   "outputs": [],
   "source": [
    "# move turtle forward by 100 pixels\n",
    "t.fd(100)"
   ]
  },
  {
   "cell_type": "code",
   "execution_count": 10,
   "id": "3dc77ee6-fe0e-43f4-8742-9baf700613dc",
   "metadata": {
    "tags": []
   },
   "outputs": [],
   "source": [
    "# move the turtle to the left by 90 degrees\n",
    "t.lt(90)"
   ]
  },
  {
   "cell_type": "code",
   "execution_count": 36,
   "id": "c648856c-d722-4b75-a90a-835386d541d4",
   "metadata": {
    "tags": []
   },
   "outputs": [],
   "source": [
    "# clear screen and reset the turtle to the initial position\n",
    "t.clear()\n"
   ]
  },
  {
   "cell_type": "code",
   "execution_count": 37,
   "id": "93b23ef9-32c4-4079-93ce-3e82f57ba61d",
   "metadata": {
    "tags": []
   },
   "outputs": [],
   "source": [
    "# reset the screen\n",
    "turtle.resetscreen()"
   ]
  },
  {
   "cell_type": "code",
   "execution_count": 16,
   "id": "c79c3bca-6837-4a13-862f-ffb44ca5cb32",
   "metadata": {
    "tags": []
   },
   "outputs": [],
   "source": [
    "t.fd(100)\n",
    "t.lt(90)\n",
    "\n",
    "t.fd(100)\n",
    "t.lt(90)\n",
    "\n",
    "t.fd(100)\n",
    "t.lt(90)\n",
    "\n",
    "t.fd(100)\n",
    "t.lt(90)"
   ]
  },
  {
   "cell_type": "code",
   "execution_count": 22,
   "id": "d54b346f-e5b8-460a-abf2-965b81bf0cc8",
   "metadata": {
    "tags": []
   },
   "outputs": [],
   "source": [
    "# with loop\n",
    "# it's going to repeat fd-lt pattern 4 times\n",
    "for i in range(4):\n",
    "    t.fd(100)\n",
    "    t.lt(90)\n"
   ]
  },
  {
   "cell_type": "code",
   "execution_count": 28,
   "id": "897b7867-53b9-4e60-a59a-6f658cac4db8",
   "metadata": {
    "tags": []
   },
   "outputs": [],
   "source": [
    "# square function\n",
    "def square(t, d, is_screen_reset):\n",
    "    \"\"\"\n",
    "    It draws square with turtle.\n",
    "    Parameters: turtle t, int d, bool is_screen_reset\n",
    "    Returns: None\n",
    "    \"\"\"\n",
    "    \n",
    "    # reset screen\n",
    "    if is_screen_reset == True:\n",
    "        reset()\n",
    "        \n",
    "    # draw a square\n",
    "    for i in range(4):\n",
    "        t.fd(d)\n",
    "        t.lt(90)"
   ]
  },
  {
   "cell_type": "code",
   "execution_count": 29,
   "id": "41bd91fa-31d2-4bba-b87b-12f23c9f1d5e",
   "metadata": {
    "tags": []
   },
   "outputs": [],
   "source": [
    "# reset function\n",
    "\n",
    "def reset():\n",
    "    turtle.resetscreen()\n",
    "    "
   ]
  },
  {
   "cell_type": "code",
   "execution_count": 32,
   "id": "1b184727-05be-4ad5-a20b-90c6f0a6228b",
   "metadata": {
    "tags": []
   },
   "outputs": [],
   "source": [
    "square(t, 200, True)"
   ]
  },
  {
   "cell_type": "code",
   "execution_count": 40,
   "id": "4fa47f34-3b52-49e0-ae02-ffcf995d944f",
   "metadata": {
    "tags": []
   },
   "outputs": [],
   "source": [
    "reset()"
   ]
  },
  {
   "cell_type": "code",
   "execution_count": 34,
   "id": "3339c347-7a00-482c-9c5a-d0efc5ac5a4e",
   "metadata": {
    "tags": []
   },
   "outputs": [],
   "source": [
    "square(t, 300, True)"
   ]
  },
  {
   "cell_type": "code",
   "execution_count": 35,
   "id": "180f5e99-80fd-4bd5-a3ac-ac4c473303dc",
   "metadata": {
    "tags": []
   },
   "outputs": [],
   "source": [
    "square(t, 100, False)"
   ]
  },
  {
   "cell_type": "code",
   "execution_count": 41,
   "id": "01baa37f-5021-48d2-a34e-8cbdc14b3ae0",
   "metadata": {
    "tags": []
   },
   "outputs": [],
   "source": [
    "# draw 100 squares of size: 20 - 40 - 60 - 80 - ... - 200\n",
    "\n",
    "# first reset the screen once\n",
    "reset()\n",
    "\n",
    "# loop to draw the circles\n",
    "for i in range(1, 11):\n",
    "    square(t, i * 20, False)\n",
    "    "
   ]
  },
  {
   "cell_type": "markdown",
   "id": "ad4a6d57-b035-4c83-84d1-8eb50c859272",
   "metadata": {},
   "source": [
    "Polygon"
   ]
  },
  {
   "cell_type": "code",
   "execution_count": 42,
   "id": "6d160fb1-e70f-4f15-a030-1edbbf3dfba1",
   "metadata": {
    "tags": []
   },
   "outputs": [],
   "source": [
    "# polygon function\n",
    "def polygon(t, d, n, is_screen_reset):\n",
    "    \"\"\"\n",
    "        Draws a polygon.\n",
    "        Parameters: turtle t, int d(pixels), int n(number of sides), bool is_screen_reset\n",
    "        Returns: None\n",
    "    \"\"\"\n",
    "    #resetting\n",
    "    if is_screen_reset:\n",
    "        reset()\n",
    "        \n",
    "    # angle\n",
    "    angle = 360 / n\n",
    "    # polygon\n",
    "    for i in range(n):\n",
    "        t.fd(d)\n",
    "        t.lt(angle)\n",
    "        "
   ]
  },
  {
   "cell_type": "code",
   "execution_count": 43,
   "id": "85b9b60f-7508-46fb-a056-1beb3fa120cb",
   "metadata": {
    "tags": []
   },
   "outputs": [],
   "source": [
    "# draw a 6 sided hexagon\n",
    "polygon(t, 100, 6, True)"
   ]
  },
  {
   "cell_type": "code",
   "execution_count": 44,
   "id": "451b58fb-5289-48ec-912e-6875b5dfcd6e",
   "metadata": {
    "tags": []
   },
   "outputs": [],
   "source": [
    "polygon(t, 100, 3, True)"
   ]
  },
  {
   "cell_type": "code",
   "execution_count": 45,
   "id": "f15663a2-93ba-4999-a625-109c917efd10",
   "metadata": {
    "tags": []
   },
   "outputs": [],
   "source": [
    "polygon(t, 100, 8, True)"
   ]
  },
  {
   "cell_type": "code",
   "execution_count": 49,
   "id": "5af37c90-f022-4d9e-a4d6-29d65a2d7a31",
   "metadata": {
    "tags": []
   },
   "outputs": [],
   "source": [
    "polygon(t, 100, 6, True)"
   ]
  },
  {
   "cell_type": "code",
   "execution_count": 50,
   "id": "a4e350dc-ab91-4b5f-800f-e9c346749915",
   "metadata": {
    "tags": []
   },
   "outputs": [],
   "source": [
    "# call the plygon fn with named arguments\n",
    "polygon(t=t, d=120, n=8, is_screen_reset=False)"
   ]
  },
  {
   "cell_type": "code",
   "execution_count": 51,
   "id": "ae968a76-24ce-4bae-9cfb-81f3e7da53e0",
   "metadata": {
    "tags": []
   },
   "outputs": [],
   "source": [
    "# call the square fn with named arguments\n",
    "square(t, d=250, is_screen_reset=True)"
   ]
  },
  {
   "cell_type": "markdown",
   "id": "141a0ea2-5d90-477c-b7ea-1b57963eaddf",
   "metadata": {},
   "source": [
    "CIRCLE"
   ]
  },
  {
   "cell_type": "code",
   "execution_count": 52,
   "id": "be7b553b-09e8-40e3-8692-f84e21d3e872",
   "metadata": {
    "tags": []
   },
   "outputs": [],
   "source": [
    "import math\n",
    "\n",
    "def circle(t, r, is_screen_reset):\n",
    "    \"\"\"\n",
    "        Draws a circle.\n",
    "        Paremeters: turtle t, int r, bool is_screen_reset\n",
    "        Returns: None (void)\n",
    "    \"\"\"\n",
    "    \n",
    "    # perimeter -> total distance to draw\n",
    "    perimeter = 2 * math.pi * r\n",
    "    \n",
    "    # angles to turn at each step\n",
    "    angles = 10\n",
    "    \n",
    "    # step -> 360 / angles\n",
    "    # angle of an arc\n",
    "    \n",
    "    steps = int(360 / angles)\n",
    "    \n",
    "    # distance -> distance to draw in each arc\n",
    "    distance = perimeter / steps\n",
    "    \n",
    "    # call polygon\n",
    "    polygon(t, d=distance, n=steps, is_screen_reset=is_screen_reset)\n",
    "    \n",
    "    "
   ]
  },
  {
   "cell_type": "code",
   "execution_count": 53,
   "id": "ca31eb2b-a919-4b33-80d7-e7b6e953906c",
   "metadata": {
    "tags": []
   },
   "outputs": [],
   "source": [
    "# call the circle function with radius of 200 and resetting the screen\n",
    "circle(t, 200, True)"
   ]
  },
  {
   "cell_type": "code",
   "execution_count": 54,
   "id": "c9355f6c-e9d5-4280-99e4-6e4770095ed0",
   "metadata": {
    "tags": []
   },
   "outputs": [],
   "source": [
    "# reset the screen first\n",
    "reset()\n",
    "\n",
    "# call the circle in a loop\n",
    "for i in range(1,4):\n",
    "    # modify the radius at each iteration\n",
    "    circle(t, i * 50, False)"
   ]
  },
  {
   "cell_type": "markdown",
   "id": "41e5d13d-4662-466e-b649-f4a64c43cc15",
   "metadata": {},
   "source": [
    "STAR"
   ]
  },
  {
   "cell_type": "code",
   "execution_count": 55,
   "id": "d6b6ee48-b1fa-41a1-b902-cae865916eb5",
   "metadata": {
    "tags": []
   },
   "outputs": [
    {
     "name": "stdout",
     "output_type": "stream",
     "text": [
      "144.0\n"
     ]
    }
   ],
   "source": [
    "# angle of a 5 sized star\n",
    "\n",
    "angle = 180 / 5\n",
    "angle = 180 - angle\n",
    "print(angle)"
   ]
  },
  {
   "cell_type": "code",
   "execution_count": 58,
   "id": "fd6e1470-1984-466d-b63c-4a0bdabfacae",
   "metadata": {
    "tags": []
   },
   "outputs": [],
   "source": [
    "def star(t, d, is_screen_reset, color):\n",
    "    \"\"\"\n",
    "        Draws a star with 5 sizes.\n",
    "        Parameters: turtle t, int d, bool is_screen_reset, str color\n",
    "    \"\"\"\n",
    "    \n",
    "    #resetting\n",
    "    if is_screen_reset:\n",
    "        reset()\n",
    "        \n",
    "    # angle\n",
    "    angle = 180 / 5\n",
    "    angle = 180 - angle\n",
    "    \n",
    "    # line color -> pen color\n",
    "    t.color(color)\n",
    "    \n",
    "    # start the filling\n",
    "    t.fillcolor(color)\n",
    "    t.begin_fill()\n",
    "    \n",
    "    for i in range(5):\n",
    "        t.fd(d)\n",
    "        t.lt(angle)\n",
    "        \n",
    "    # end the filling\n",
    "    t.end_fill()"
   ]
  },
  {
   "cell_type": "code",
   "execution_count": 59,
   "id": "80a1b42f-ccee-40d9-89cb-fb95d775299d",
   "metadata": {
    "tags": []
   },
   "outputs": [],
   "source": [
    "star(t, 300, is_screen_reset=True, color='green')"
   ]
  },
  {
   "cell_type": "code",
   "execution_count": 60,
   "id": "978305ab-c19c-404b-9306-0f44dd691a47",
   "metadata": {
    "tags": []
   },
   "outputs": [],
   "source": [
    "star(t, 200, is_screen_reset=False, color='orange')"
   ]
  },
  {
   "cell_type": "code",
   "execution_count": 61,
   "id": "d26dc2b3-1629-4ec9-ac4e-e74d3203db9b",
   "metadata": {
    "tags": []
   },
   "outputs": [],
   "source": [
    "star(t, 100, is_screen_reset=False, color='purple')"
   ]
  },
  {
   "cell_type": "code",
   "execution_count": 62,
   "id": "9cc85651-5df8-4a52-bdf9-5e374876c20d",
   "metadata": {
    "tags": []
   },
   "outputs": [],
   "source": [
    "# redefine the star function with number of sides as a new parameter\n",
    "def star(t, d, n, is_screen_reset, color):\n",
    "    \"\"\"\n",
    "    Draw a star with n sizes.\n",
    "    Parameters: turtle t, int d, int n, bool is_screen_reset, str color\n",
    "    \"\"\"\n",
    "    \n",
    "    # resetting\n",
    "    if is_screen_reset:\n",
    "        reset()\n",
    "        \n",
    "    # angle\n",
    "    angle = 180 / n\n",
    "    angle = 180 - angle\n",
    "    \n",
    "    \n",
    "    # line color -> pen color\n",
    "    t.color(color)\n",
    "    \n",
    "    # start the filling\n",
    "    t.fillcolor(color)\n",
    "    t.begin_fill()\n",
    "    \n",
    "    for i in range(n):\n",
    "        t.fd(d)\n",
    "        t.lt(angle)\n",
    "        \n",
    "    # end the filling\n",
    "    t.end_fill()\n",
    "    "
   ]
  },
  {
   "cell_type": "code",
   "execution_count": 63,
   "id": "d92693ee-c006-4c88-b944-9056d8f2472a",
   "metadata": {
    "tags": []
   },
   "outputs": [],
   "source": [
    "star(t, 300, 11, is_screen_reset=True, color='yellow')"
   ]
  },
  {
   "cell_type": "code",
   "execution_count": 64,
   "id": "21bee772-2962-43e0-ab30-d41a4d7abff1",
   "metadata": {
    "tags": []
   },
   "outputs": [],
   "source": [
    "# redefine the star function with pen_color and fill_color\n",
    "\n",
    "def star(t, d, n, is_screen_reset, pen_color, fill_color):\n",
    "    \"\"\"\n",
    "    Draws a star with n sizes\n",
    "    Parameters: turtle t, int d, int n, bool is_screen_reset, str pen_collor, fill_color\n",
    "    \"\"\"\n",
    "    # resetting\n",
    "    if is_screen_reset:\n",
    "        reset()\n",
    "        \n",
    "    # angle\n",
    "    angle = 180 / n\n",
    "    angle = 180 - angle\n",
    "    \n",
    "    # line color -> pen color\n",
    "    t.color(pen_color)\n",
    "    \n",
    "    # start the filling\n",
    "    t.fillcolor(fill_color)\n",
    "    t.begin_fill()\n",
    "    \n",
    "    for i in range(n):\n",
    "        t.fd(d)\n",
    "        t.lt(angle)\n",
    "        \n",
    "    # end the filling\n",
    "    t.end_fill()\n",
    "    "
   ]
  },
  {
   "cell_type": "code",
   "execution_count": 66,
   "id": "54f1935e-3315-42a0-9590-80598a2d7c2e",
   "metadata": {
    "tags": []
   },
   "outputs": [],
   "source": [
    "star(t, 300, 15, is_screen_reset=True, pen_color='red', fill_color='yellow')"
   ]
  },
  {
   "cell_type": "code",
   "execution_count": 67,
   "id": "e7ecc4f4-ccc7-4cf0-af47-8b804b7cb1e7",
   "metadata": {
    "tags": []
   },
   "outputs": [],
   "source": [
    "# last statement -> before close\n",
    "# restart the kernel after you close the turtle\n",
    "\n",
    "turtle.mainloop()"
   ]
  },
  {
   "cell_type": "code",
   "execution_count": null,
   "id": "99bac214-9bf1-48e6-8c70-2355a2a16151",
   "metadata": {},
   "outputs": [],
   "source": []
  }
 ],
 "metadata": {
  "kernelspec": {
   "display_name": "Python 3 (ipykernel)",
   "language": "python",
   "name": "python3"
  },
  "language_info": {
   "codemirror_mode": {
    "name": "ipython",
    "version": 3
   },
   "file_extension": ".py",
   "mimetype": "text/x-python",
   "name": "python",
   "nbconvert_exporter": "python",
   "pygments_lexer": "ipython3",
   "version": "3.10.10"
  }
 },
 "nbformat": 4,
 "nbformat_minor": 5
}
