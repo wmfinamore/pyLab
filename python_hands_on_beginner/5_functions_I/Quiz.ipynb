{
 "cells": [
  {
   "cell_type": "markdown",
   "id": "7a468bb9-f5d4-46ce-94dd-4700ef5c52fb",
   "metadata": {},
   "source": [
    "### QUIZ - FUNCTIONS I"
   ]
  },
  {
   "cell_type": "code",
   "execution_count": 1,
   "id": "e46409b6-a474-49e2-aa8b-09b82eca891b",
   "metadata": {
    "tags": []
   },
   "outputs": [
    {
     "name": "stdout",
     "output_type": "stream",
     "text": [
      "Hello World!\n"
     ]
    }
   ],
   "source": [
    "# Q1\n",
    "def first_function():\n",
    "    print(\"Hello World!\")\n",
    "    \n",
    "first_function()"
   ]
  },
  {
   "cell_type": "code",
   "execution_count": 3,
   "id": "6c4a71f9-75d7-4f15-a2e2-e4886246233a",
   "metadata": {
    "tags": []
   },
   "outputs": [
    {
     "name": "stdout",
     "output_type": "stream",
     "text": [
      "Hello Clark Kent and Superman.\n",
      "Hello Brunce Wayne and Batman.\n",
      "Hello Peter Parker and Spiderman.\n"
     ]
    }
   ],
   "source": [
    "# Q2\n",
    "def say_hello(name_1, name_2):\n",
    "    print(\"Hello \"+str(name_1)  + \" and \" + str(name_2) + \".\")\n",
    "    \n",
    "say_hello(\"Clark Kent\",\"Superman\")\n",
    "say_hello(\"Brunce Wayne\",\"Batman\")\n",
    "say_hello(\"Peter Parker\",\"Spiderman\")"
   ]
  },
  {
   "cell_type": "code",
   "execution_count": 4,
   "id": "f96c130e-3d55-430a-b939-3b08fc511e0d",
   "metadata": {
    "tags": []
   },
   "outputs": [
    {
     "name": "stdin",
     "output_type": "stream",
     "text": [
      "Please enter your name:  musa arda\n"
     ]
    },
    {
     "name": "stdout",
     "output_type": "stream",
     "text": [
      "Hi musa arda\n"
     ]
    }
   ],
   "source": [
    "# Q3\n",
    "def say_my_name():\n",
    "    name = input(\"Please enter your name: \")\n",
    "    print(\"Hi \" + name)\n",
    "\n",
    "say_my_name()"
   ]
  },
  {
   "cell_type": "code",
   "execution_count": 8,
   "id": "a0d9aa51-6340-4575-84a5-aebb3c9ab1a1",
   "metadata": {
    "tags": []
   },
   "outputs": [
    {
     "name": "stdout",
     "output_type": "stream",
     "text": [
      "82\n",
      "Help on function get_max in module __main__:\n",
      "\n",
      "get_max(num_1, num_2, num_3)\n",
      "    Select the max of three numbers\n",
      "    parameters: int num_1, num_2, num_3\n",
      "    Returns max number\n",
      "\n",
      "\n",
      "        Select the max of three numbers\n",
      "        parameters: int num_1, num_2, num_3\n",
      "        Returns max number\n",
      "    \n"
     ]
    }
   ],
   "source": [
    "# Q4\n",
    "def get_max(num_1, num_2, num_3):\n",
    "    \"\"\"\n",
    "        Select the max of three numbers\n",
    "        parameters: int num_1, num_2, num_3\n",
    "        Returns max number\n",
    "    \"\"\"\n",
    "    max_num = max(num_1, num_2, num_3)\n",
    "    return max_num\n",
    "\n",
    "max_number = get_max(4, 82, 19)\n",
    "print(max_number)\n",
    "\n",
    "# docstring\n",
    "help(get_max)\n",
    "print(get_max.__doc__)"
   ]
  },
  {
   "cell_type": "code",
   "execution_count": 10,
   "id": "39ea8dcd-9bde-4d0e-841f-29d4771f8eb5",
   "metadata": {
    "tags": []
   },
   "outputs": [
    {
     "name": "stdout",
     "output_type": "stream",
     "text": [
      "python machine learning\n"
     ]
    }
   ],
   "source": [
    "# Q5\n",
    "def strip_and_lower(phrase):\n",
    "    result = str(phrase).strip().lower()\n",
    "    return result\n",
    "\n",
    "txt = \" PyThon MaCHine LeARning \"\n",
    "final_txt = strip_and_lower(txt)\n",
    "print(final_txt)"
   ]
  },
  {
   "cell_type": "code",
   "execution_count": 11,
   "id": "377e37fc-5f91-4b86-8196-26252d2e6d26",
   "metadata": {
    "tags": []
   },
   "outputs": [
    {
     "name": "stdout",
     "output_type": "stream",
     "text": [
      "65\n"
     ]
    }
   ],
   "source": [
    "# Q6\n",
    "def add(num_1, num_2):\n",
    "    total = int(num_1) + int(num_2)\n",
    "    return total\n",
    "\n",
    "n_1 = 45\n",
    "n_2 = 20\n",
    "addition = add(n_1, n_2)\n",
    "print(addition)\n"
   ]
  },
  {
   "cell_type": "code",
   "execution_count": 14,
   "id": "03af3567-c29d-4bc1-b671-503892017814",
   "metadata": {
    "tags": []
   },
   "outputs": [
    {
     "name": "stdout",
     "output_type": "stream",
     "text": [
      "2\n"
     ]
    }
   ],
   "source": [
    "# Q7\n",
    "def minimum_difference(num_1, num_2, num_3):\n",
    "    dif_1 = abs(num_1 - num_2)\n",
    "    dif_2 = abs(num_1 - num_3)\n",
    "    dif_3 = abs(num_2 - num_3)\n",
    "    minimum = min(dif_1, dif_2, dif_3)\n",
    "    return minimum\n",
    "\n",
    "a = 8\n",
    "b = 5\n",
    "c = 10\n",
    "min_dif = minimum_difference(a, b, c)\n",
    "print(min_dif)"
   ]
  },
  {
   "cell_type": "code",
   "execution_count": 15,
   "id": "bf068a27-3d4a-4038-b4b6-34717029ee25",
   "metadata": {
    "tags": []
   },
   "outputs": [
    {
     "name": "stdout",
     "output_type": "stream",
     "text": [
      "9.0\n"
     ]
    }
   ],
   "source": [
    "# Q8\n",
    "def square_root(number):\n",
    "    import math\n",
    "    result = math.sqrt(number)\n",
    "    return result\n",
    "\n",
    "num = 81\n",
    "sqr = square_root(num)\n",
    "print(sqr)"
   ]
  },
  {
   "cell_type": "code",
   "execution_count": 16,
   "id": "e10b0214-ff6d-4540-b4e6-7accd2d5b291",
   "metadata": {
    "tags": []
   },
   "outputs": [
    {
     "name": "stdout",
     "output_type": "stream",
     "text": [
      "2.4849066497880004\n",
      "2.4849066497880004\n"
     ]
    }
   ],
   "source": [
    "# Q9\n",
    "def get_logarithm(number):\n",
    "    import math\n",
    "    result = math.log(number)\n",
    "    return result\n",
    "\n",
    "n = 12\n",
    "log = get_logarithm(n)\n",
    "print(log)\n",
    "\n",
    "# chained function call\n",
    "print(get_logarithm(n))\n"
   ]
  },
  {
   "cell_type": "code",
   "execution_count": 17,
   "id": "598b90ba-2efa-4ade-b7c4-67d943356190",
   "metadata": {
    "tags": []
   },
   "outputs": [
    {
     "name": "stdout",
     "output_type": "stream",
     "text": [
      "5.0\n",
      "25.0\n",
      "17.0\n"
     ]
    }
   ],
   "source": [
    "# Q10\n",
    "def hypotenuse(cat_1, cat_2):\n",
    "    import math\n",
    "    result = math.sqrt(cat_1**2 + cat_2**2)\n",
    "    return result\n",
    "\n",
    "print(hypotenuse(3, 4))\n",
    "\n",
    "print(hypotenuse(7, 24))\n",
    "\n",
    "print(hypotenuse(8, 15))\n"
   ]
  },
  {
   "cell_type": "code",
   "execution_count": null,
   "id": "6cdfd040-7d67-4c2b-ae23-f0f6a7621ac2",
   "metadata": {},
   "outputs": [],
   "source": []
  }
 ],
 "metadata": {
  "kernelspec": {
   "display_name": "Python 3 (ipykernel)",
   "language": "python",
   "name": "python3"
  },
  "language_info": {
   "codemirror_mode": {
    "name": "ipython",
    "version": 3
   },
   "file_extension": ".py",
   "mimetype": "text/x-python",
   "name": "python",
   "nbconvert_exporter": "python",
   "pygments_lexer": "ipython3",
   "version": "3.10.10"
  }
 },
 "nbformat": 4,
 "nbformat_minor": 5
}
