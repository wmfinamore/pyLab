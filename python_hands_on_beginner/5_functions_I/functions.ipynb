{
 "cells": [
  {
   "cell_type": "code",
   "execution_count": 1,
   "id": "c55aadee-5aad-4f75-b550-25207754f5d2",
   "metadata": {},
   "outputs": [],
   "source": [
    "# import math module\n",
    "import math"
   ]
  },
  {
   "cell_type": "code",
   "execution_count": 2,
   "id": "351f9244-9858-4db8-85a5-83ad501ff0d3",
   "metadata": {
    "tags": []
   },
   "outputs": [
    {
     "name": "stdout",
     "output_type": "stream",
     "text": [
      "<module 'math' (built-in)>\n"
     ]
    }
   ],
   "source": [
    "# see the module info\n",
    "print(math)"
   ]
  },
  {
   "cell_type": "code",
   "execution_count": 3,
   "id": "3d475cc1-0a09-492a-be3c-8d98844ede13",
   "metadata": {
    "tags": []
   },
   "outputs": [
    {
     "name": "stdout",
     "output_type": "stream",
     "text": [
      "Help on built-in module math:\n",
      "\n",
      "NAME\n",
      "    math\n",
      "\n",
      "DESCRIPTION\n",
      "    This module provides access to the mathematical functions\n",
      "    defined by the C standard.\n",
      "\n",
      "FUNCTIONS\n",
      "    acos(x, /)\n",
      "        Return the arc cosine (measured in radians) of x.\n",
      "        \n",
      "        The result is between 0 and pi.\n",
      "    \n",
      "    acosh(x, /)\n",
      "        Return the inverse hyperbolic cosine of x.\n",
      "    \n",
      "    asin(x, /)\n",
      "        Return the arc sine (measured in radians) of x.\n",
      "        \n",
      "        The result is between -pi/2 and pi/2.\n",
      "    \n",
      "    asinh(x, /)\n",
      "        Return the inverse hyperbolic sine of x.\n",
      "    \n",
      "    atan(x, /)\n",
      "        Return the arc tangent (measured in radians) of x.\n",
      "        \n",
      "        The result is between -pi/2 and pi/2.\n",
      "    \n",
      "    atan2(y, x, /)\n",
      "        Return the arc tangent (measured in radians) of y/x.\n",
      "        \n",
      "        Unlike atan(y/x), the signs of both x and y are considered.\n",
      "    \n",
      "    atanh(x, /)\n",
      "        Return the inverse hyperbolic tangent of x.\n",
      "    \n",
      "    ceil(x, /)\n",
      "        Return the ceiling of x as an Integral.\n",
      "        \n",
      "        This is the smallest integer >= x.\n",
      "    \n",
      "    comb(n, k, /)\n",
      "        Number of ways to choose k items from n items without repetition and without order.\n",
      "        \n",
      "        Evaluates to n! / (k! * (n - k)!) when k <= n and evaluates\n",
      "        to zero when k > n.\n",
      "        \n",
      "        Also called the binomial coefficient because it is equivalent\n",
      "        to the coefficient of k-th term in polynomial expansion of the\n",
      "        expression (1 + x)**n.\n",
      "        \n",
      "        Raises TypeError if either of the arguments are not integers.\n",
      "        Raises ValueError if either of the arguments are negative.\n",
      "    \n",
      "    copysign(x, y, /)\n",
      "        Return a float with the magnitude (absolute value) of x but the sign of y.\n",
      "        \n",
      "        On platforms that support signed zeros, copysign(1.0, -0.0)\n",
      "        returns -1.0.\n",
      "    \n",
      "    cos(x, /)\n",
      "        Return the cosine of x (measured in radians).\n",
      "    \n",
      "    cosh(x, /)\n",
      "        Return the hyperbolic cosine of x.\n",
      "    \n",
      "    degrees(x, /)\n",
      "        Convert angle x from radians to degrees.\n",
      "    \n",
      "    dist(p, q, /)\n",
      "        Return the Euclidean distance between two points p and q.\n",
      "        \n",
      "        The points should be specified as sequences (or iterables) of\n",
      "        coordinates.  Both inputs must have the same dimension.\n",
      "        \n",
      "        Roughly equivalent to:\n",
      "            sqrt(sum((px - qx) ** 2.0 for px, qx in zip(p, q)))\n",
      "    \n",
      "    erf(x, /)\n",
      "        Error function at x.\n",
      "    \n",
      "    erfc(x, /)\n",
      "        Complementary error function at x.\n",
      "    \n",
      "    exp(x, /)\n",
      "        Return e raised to the power of x.\n",
      "    \n",
      "    expm1(x, /)\n",
      "        Return exp(x)-1.\n",
      "        \n",
      "        This function avoids the loss of precision involved in the direct evaluation of exp(x)-1 for small x.\n",
      "    \n",
      "    fabs(x, /)\n",
      "        Return the absolute value of the float x.\n",
      "    \n",
      "    factorial(x, /)\n",
      "        Find x!.\n",
      "        \n",
      "        Raise a ValueError if x is negative or non-integral.\n",
      "    \n",
      "    floor(x, /)\n",
      "        Return the floor of x as an Integral.\n",
      "        \n",
      "        This is the largest integer <= x.\n",
      "    \n",
      "    fmod(x, y, /)\n",
      "        Return fmod(x, y), according to platform C.\n",
      "        \n",
      "        x % y may differ.\n",
      "    \n",
      "    frexp(x, /)\n",
      "        Return the mantissa and exponent of x, as pair (m, e).\n",
      "        \n",
      "        m is a float and e is an int, such that x = m * 2.**e.\n",
      "        If x is 0, m and e are both 0.  Else 0.5 <= abs(m) < 1.0.\n",
      "    \n",
      "    fsum(seq, /)\n",
      "        Return an accurate floating point sum of values in the iterable seq.\n",
      "        \n",
      "        Assumes IEEE-754 floating point arithmetic.\n",
      "    \n",
      "    gamma(x, /)\n",
      "        Gamma function at x.\n",
      "    \n",
      "    gcd(*integers)\n",
      "        Greatest Common Divisor.\n",
      "    \n",
      "    hypot(...)\n",
      "        hypot(*coordinates) -> value\n",
      "        \n",
      "        Multidimensional Euclidean distance from the origin to a point.\n",
      "        \n",
      "        Roughly equivalent to:\n",
      "            sqrt(sum(x**2 for x in coordinates))\n",
      "        \n",
      "        For a two dimensional point (x, y), gives the hypotenuse\n",
      "        using the Pythagorean theorem:  sqrt(x*x + y*y).\n",
      "        \n",
      "        For example, the hypotenuse of a 3/4/5 right triangle is:\n",
      "        \n",
      "            >>> hypot(3.0, 4.0)\n",
      "            5.0\n",
      "    \n",
      "    isclose(a, b, *, rel_tol=1e-09, abs_tol=0.0)\n",
      "        Determine whether two floating point numbers are close in value.\n",
      "        \n",
      "          rel_tol\n",
      "            maximum difference for being considered \"close\", relative to the\n",
      "            magnitude of the input values\n",
      "          abs_tol\n",
      "            maximum difference for being considered \"close\", regardless of the\n",
      "            magnitude of the input values\n",
      "        \n",
      "        Return True if a is close in value to b, and False otherwise.\n",
      "        \n",
      "        For the values to be considered close, the difference between them\n",
      "        must be smaller than at least one of the tolerances.\n",
      "        \n",
      "        -inf, inf and NaN behave similarly to the IEEE 754 Standard.  That\n",
      "        is, NaN is not close to anything, even itself.  inf and -inf are\n",
      "        only close to themselves.\n",
      "    \n",
      "    isfinite(x, /)\n",
      "        Return True if x is neither an infinity nor a NaN, and False otherwise.\n",
      "    \n",
      "    isinf(x, /)\n",
      "        Return True if x is a positive or negative infinity, and False otherwise.\n",
      "    \n",
      "    isnan(x, /)\n",
      "        Return True if x is a NaN (not a number), and False otherwise.\n",
      "    \n",
      "    isqrt(n, /)\n",
      "        Return the integer part of the square root of the input.\n",
      "    \n",
      "    lcm(*integers)\n",
      "        Least Common Multiple.\n",
      "    \n",
      "    ldexp(x, i, /)\n",
      "        Return x * (2**i).\n",
      "        \n",
      "        This is essentially the inverse of frexp().\n",
      "    \n",
      "    lgamma(x, /)\n",
      "        Natural logarithm of absolute value of Gamma function at x.\n",
      "    \n",
      "    log(...)\n",
      "        log(x, [base=math.e])\n",
      "        Return the logarithm of x to the given base.\n",
      "        \n",
      "        If the base not specified, returns the natural logarithm (base e) of x.\n",
      "    \n",
      "    log10(x, /)\n",
      "        Return the base 10 logarithm of x.\n",
      "    \n",
      "    log1p(x, /)\n",
      "        Return the natural logarithm of 1+x (base e).\n",
      "        \n",
      "        The result is computed in a way which is accurate for x near zero.\n",
      "    \n",
      "    log2(x, /)\n",
      "        Return the base 2 logarithm of x.\n",
      "    \n",
      "    modf(x, /)\n",
      "        Return the fractional and integer parts of x.\n",
      "        \n",
      "        Both results carry the sign of x and are floats.\n",
      "    \n",
      "    nextafter(x, y, /)\n",
      "        Return the next floating-point value after x towards y.\n",
      "    \n",
      "    perm(n, k=None, /)\n",
      "        Number of ways to choose k items from n items without repetition and with order.\n",
      "        \n",
      "        Evaluates to n! / (n - k)! when k <= n and evaluates\n",
      "        to zero when k > n.\n",
      "        \n",
      "        If k is not specified or is None, then k defaults to n\n",
      "        and the function returns n!.\n",
      "        \n",
      "        Raises TypeError if either of the arguments are not integers.\n",
      "        Raises ValueError if either of the arguments are negative.\n",
      "    \n",
      "    pow(x, y, /)\n",
      "        Return x**y (x to the power of y).\n",
      "    \n",
      "    prod(iterable, /, *, start=1)\n",
      "        Calculate the product of all the elements in the input iterable.\n",
      "        \n",
      "        The default start value for the product is 1.\n",
      "        \n",
      "        When the iterable is empty, return the start value.  This function is\n",
      "        intended specifically for use with numeric values and may reject\n",
      "        non-numeric types.\n",
      "    \n",
      "    radians(x, /)\n",
      "        Convert angle x from degrees to radians.\n",
      "    \n",
      "    remainder(x, y, /)\n",
      "        Difference between x and the closest integer multiple of y.\n",
      "        \n",
      "        Return x - n*y where n*y is the closest integer multiple of y.\n",
      "        In the case where x is exactly halfway between two multiples of\n",
      "        y, the nearest even value of n is used. The result is always exact.\n",
      "    \n",
      "    sin(x, /)\n",
      "        Return the sine of x (measured in radians).\n",
      "    \n",
      "    sinh(x, /)\n",
      "        Return the hyperbolic sine of x.\n",
      "    \n",
      "    sqrt(x, /)\n",
      "        Return the square root of x.\n",
      "    \n",
      "    tan(x, /)\n",
      "        Return the tangent of x (measured in radians).\n",
      "    \n",
      "    tanh(x, /)\n",
      "        Return the hyperbolic tangent of x.\n",
      "    \n",
      "    trunc(x, /)\n",
      "        Truncates the Real x to the nearest Integral toward 0.\n",
      "        \n",
      "        Uses the __trunc__ magic method.\n",
      "    \n",
      "    ulp(x, /)\n",
      "        Return the value of the least significant bit of the float x.\n",
      "\n",
      "DATA\n",
      "    e = 2.718281828459045\n",
      "    inf = inf\n",
      "    nan = nan\n",
      "    pi = 3.141592653589793\n",
      "    tau = 6.283185307179586\n",
      "\n",
      "FILE\n",
      "    (built-in)\n",
      "\n",
      "\n"
     ]
    }
   ],
   "source": [
    "# see detailed docs\n",
    "\n",
    "# help() -> gives you the detailed docs\n",
    "help(math)"
   ]
  },
  {
   "cell_type": "code",
   "execution_count": 4,
   "id": "fb89ef71-954c-4125-a8f5-c8eed90cd85f",
   "metadata": {
    "tags": []
   },
   "outputs": [
    {
     "data": {
      "text/plain": [
       "3.141592653589793"
      ]
     },
     "execution_count": 4,
     "metadata": {},
     "output_type": "execute_result"
    }
   ],
   "source": [
    "# we can call any function from module -> .notation\n",
    "math.pi"
   ]
  },
  {
   "cell_type": "code",
   "execution_count": 5,
   "id": "6e7d8546-8a9d-4022-b371-7a9029f39a0e",
   "metadata": {
    "tags": []
   },
   "outputs": [
    {
     "name": "stdout",
     "output_type": "stream",
     "text": [
      "62.83185307179586\n"
     ]
    }
   ],
   "source": [
    "# Example\n",
    "\n",
    "# What is the perimeter(Circumference) of cicle having radius of 10 cm?\n",
    "# Perimeter = 2 * pi * r\n",
    "\n",
    "# radius\n",
    "r = 10\n",
    "\n",
    "# perimeter\n",
    "perimeter = 2 * math.pi * r\n",
    "\n",
    "print(perimeter)\n"
   ]
  },
  {
   "cell_type": "code",
   "execution_count": 6,
   "id": "32960031-c555-4ef9-9a7e-454892785b1a",
   "metadata": {
    "tags": []
   },
   "outputs": [
    {
     "name": "stdout",
     "output_type": "stream",
     "text": [
      "0.49999999999999994\n"
     ]
    }
   ],
   "source": [
    "# Example:\n",
    "# Calculate the sine of 30 degrees -> sin(30)\n",
    "\n",
    "degree = 30\n",
    "\n",
    "# calculate radian\n",
    "radian = math.radians(degree)\n",
    "\n",
    "# calculate the sine\n",
    "sine = math.sin(radian)\n",
    "\n",
    "print(sine)\n"
   ]
  },
  {
   "cell_type": "markdown",
   "id": "7b3e354b-df3d-40db-9f31-59c7342fa4ed",
   "metadata": {},
   "source": [
    "COMPOSITION OF FUNCTIONS"
   ]
  },
  {
   "cell_type": "code",
   "execution_count": 7,
   "id": "44d84f57-fb81-48f3-a5e9-06f05d769529",
   "metadata": {
    "tags": []
   },
   "outputs": [
    {
     "name": "stdout",
     "output_type": "stream",
     "text": [
      "0.49999999999999994\n"
     ]
    }
   ],
   "source": [
    "# chain the functions\n",
    "# first call math.radians(degree)\n",
    "# then pass it into math.sin()\n",
    "\n",
    "degree = 30\n",
    "sine = math.sin(math.radians(degree))\n",
    "print(sine)\n"
   ]
  },
  {
   "cell_type": "markdown",
   "id": "695520bf-23f3-49c0-8c61-bc0201fe2d9f",
   "metadata": {},
   "source": [
    "DEFINING FUNCTIONS"
   ]
  },
  {
   "cell_type": "code",
   "execution_count": 8,
   "id": "697f2236-45e4-4b4f-8625-dd9e92c8e1b7",
   "metadata": {
    "tags": []
   },
   "outputs": [],
   "source": [
    "# Without Parameters\n",
    "\n",
    "def my_first_function():\n",
    "    #print line\n",
    "    print(\"My first function\")\n",
    "    "
   ]
  },
  {
   "cell_type": "code",
   "execution_count": 9,
   "id": "894a287d-6839-4b5f-99c1-6bb822c15a19",
   "metadata": {
    "tags": []
   },
   "outputs": [
    {
     "name": "stdout",
     "output_type": "stream",
     "text": [
      "My first function\n"
     ]
    }
   ],
   "source": [
    "# call the function\n",
    "my_first_function()"
   ]
  },
  {
   "cell_type": "markdown",
   "id": "19a7c559-4ef2-42cb-9c77-33d660dc9f5c",
   "metadata": {},
   "source": [
    "IDENTATION"
   ]
  },
  {
   "cell_type": "code",
   "execution_count": 10,
   "id": "83dba315-84c6-498e-a282-5be019a1b501",
   "metadata": {
    "tags": []
   },
   "outputs": [
    {
     "name": "stdout",
     "output_type": "stream",
     "text": [
      "Name: John Doe\n",
      "Age: 24\n",
      "Language: Python\n"
     ]
    }
   ],
   "source": [
    "# Student Data\n",
    "print(\"Name: John Doe\")\n",
    "print(\"Age: 24\")\n",
    "print(\"Language: Python\")\n"
   ]
  },
  {
   "cell_type": "code",
   "execution_count": 11,
   "id": "37477d33-32fc-49cd-8f51-8aa08745cb24",
   "metadata": {
    "tags": []
   },
   "outputs": [
    {
     "name": "stdout",
     "output_type": "stream",
     "text": [
      "Name: John Doe\n",
      "Age: 24\n",
      "Language: Python\n"
     ]
    }
   ],
   "source": [
    "# we need student data again\n",
    "print(\"Name: John Doe\")\n",
    "print(\"Age: 24\")\n",
    "print(\"Language: Python\")"
   ]
  },
  {
   "cell_type": "code",
   "execution_count": 12,
   "id": "912c9cea-a6fc-4cf3-a6a5-d9131274ba34",
   "metadata": {
    "tags": []
   },
   "outputs": [],
   "source": [
    "# Define a function for student name\n",
    "\n",
    "def student_name():\n",
    "    print(\"Name: John Doe\")\n",
    "    "
   ]
  },
  {
   "cell_type": "code",
   "execution_count": 13,
   "id": "896b41ea-53f8-4317-ba18-885647aa797e",
   "metadata": {
    "tags": []
   },
   "outputs": [
    {
     "name": "stdout",
     "output_type": "stream",
     "text": [
      "Name: John Doe\n"
     ]
    }
   ],
   "source": [
    "# call the function student_name\n",
    "student_name()"
   ]
  },
  {
   "cell_type": "code",
   "execution_count": 14,
   "id": "ac20ee12-28f6-45b2-97a5-0320b9830c5d",
   "metadata": {
    "tags": []
   },
   "outputs": [],
   "source": [
    "# Define a function for student age\n",
    "def student_age():\n",
    "    print(\"Age: 24\")\n",
    "    "
   ]
  },
  {
   "cell_type": "code",
   "execution_count": 15,
   "id": "8d815fa3-4f5a-457a-875e-de2d29690031",
   "metadata": {
    "tags": []
   },
   "outputs": [
    {
     "name": "stdout",
     "output_type": "stream",
     "text": [
      "Age: 24\n"
     ]
    }
   ],
   "source": [
    "# call the function student_age\n",
    "student_age()"
   ]
  },
  {
   "cell_type": "code",
   "execution_count": 20,
   "id": "1796b9d5-b00c-4cda-a05e-ee483ee8eb12",
   "metadata": {
    "tags": []
   },
   "outputs": [],
   "source": [
    "# Define a function for student language\n",
    "\n",
    "def student_language():\n",
    "    print(\"Language: Python\")"
   ]
  },
  {
   "cell_type": "code",
   "execution_count": 21,
   "id": "c1219cf0-3b2e-4c8a-b1d6-a004dd821cf1",
   "metadata": {
    "tags": []
   },
   "outputs": [
    {
     "name": "stdout",
     "output_type": "stream",
     "text": [
      "Language: Python\n"
     ]
    }
   ],
   "source": [
    "# call the function student_language\n",
    "student_language()"
   ]
  },
  {
   "cell_type": "code",
   "execution_count": 22,
   "id": "1817fa6f-5116-43c8-879f-a856ea746a3f",
   "metadata": {
    "tags": []
   },
   "outputs": [
    {
     "name": "stdout",
     "output_type": "stream",
     "text": [
      "Name: John Doe\n",
      "Age: 24\n",
      "Language: Python\n"
     ]
    }
   ],
   "source": [
    "# Print Student with functions\n",
    "student_name()\n",
    "student_age()\n",
    "student_language()"
   ]
  },
  {
   "cell_type": "code",
   "execution_count": 23,
   "id": "65745666-6321-4ade-8d23-768e3190b815",
   "metadata": {
    "tags": []
   },
   "outputs": [
    {
     "name": "stdout",
     "output_type": "stream",
     "text": [
      "Name: John Doe\n",
      "Age: 24\n",
      "Language: Python\n"
     ]
    }
   ],
   "source": [
    "# print student data again\n",
    "# we have to call all 3 functions again\n",
    "\n",
    "student_name()\n",
    "student_age()\n",
    "student_language()"
   ]
  },
  {
   "cell_type": "code",
   "execution_count": 24,
   "id": "1ab98687-1e70-403e-bc15-5a8f9506f739",
   "metadata": {
    "tags": []
   },
   "outputs": [],
   "source": [
    "# one wrapper function to call all three\n",
    "def student_data():\n",
    "    student_name()\n",
    "    student_age()\n",
    "    student_language()"
   ]
  },
  {
   "cell_type": "code",
   "execution_count": 25,
   "id": "a428939d-81c4-4c8a-be2c-e3e80a847fe6",
   "metadata": {
    "tags": []
   },
   "outputs": [
    {
     "name": "stdout",
     "output_type": "stream",
     "text": [
      "Name: John Doe\n",
      "Age: 24\n",
      "Language: Python\n"
     ]
    }
   ],
   "source": [
    "# print student data in just one function call\n",
    "student_data()"
   ]
  },
  {
   "cell_type": "code",
   "execution_count": 26,
   "id": "5c3a773b-d68a-4464-9cfb-51251ec9255c",
   "metadata": {
    "tags": []
   },
   "outputs": [
    {
     "name": "stdout",
     "output_type": "stream",
     "text": [
      "Name: John Doe\n",
      "Age: 24\n",
      "Language: Python\n"
     ]
    }
   ],
   "source": [
    "# print student data again\n",
    "student_data()"
   ]
  },
  {
   "cell_type": "code",
   "execution_count": 27,
   "id": "c4392913-8a52-4a0f-a7d0-da3af7ed87b1",
   "metadata": {
    "tags": []
   },
   "outputs": [],
   "source": [
    "def student_firstname():\n",
    "    print(\"Name: John\")\n",
    "\n",
    "def student_lastname():\n",
    "    print(\"Lastname: Doe\")"
   ]
  },
  {
   "cell_type": "code",
   "execution_count": 29,
   "id": "e5a25cbd-9f5c-4790-82d2-09df4b9bb3c5",
   "metadata": {
    "tags": []
   },
   "outputs": [],
   "source": [
    "# redefine student_name function\n",
    "# it will print students name by calling two separate functions\n",
    "def student_name():\n",
    "    student_firstname()\n",
    "    student_lastname()"
   ]
  },
  {
   "cell_type": "code",
   "execution_count": 30,
   "id": "8ae3bc9b-a756-4a2f-af84-821cdaf35146",
   "metadata": {
    "tags": []
   },
   "outputs": [
    {
     "name": "stdout",
     "output_type": "stream",
     "text": [
      "Name: John\n",
      "Lastname: Doe\n"
     ]
    }
   ],
   "source": [
    "# call the redefined student_name function\n",
    "student_name()"
   ]
  },
  {
   "cell_type": "code",
   "execution_count": 31,
   "id": "1eb4174b-6caf-46dc-8eee-3c3837059c82",
   "metadata": {
    "tags": []
   },
   "outputs": [
    {
     "name": "stdout",
     "output_type": "stream",
     "text": [
      "Name: John\n",
      "Lastname: Doe\n",
      "Age: 24\n",
      "Language: Python\n"
     ]
    }
   ],
   "source": [
    "student_data()"
   ]
  },
  {
   "cell_type": "code",
   "execution_count": null,
   "id": "d5758308-108a-4d95-8dc9-fa89e12c906f",
   "metadata": {},
   "outputs": [],
   "source": []
  }
 ],
 "metadata": {
  "kernelspec": {
   "display_name": "Python 3 (ipykernel)",
   "language": "python",
   "name": "python3"
  },
  "language_info": {
   "codemirror_mode": {
    "name": "ipython",
    "version": 3
   },
   "file_extension": ".py",
   "mimetype": "text/x-python",
   "name": "python",
   "nbconvert_exporter": "python",
   "pygments_lexer": "ipython3",
   "version": "3.10.10"
  }
 },
 "nbformat": 4,
 "nbformat_minor": 5
}
