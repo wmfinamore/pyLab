{
 "cells": [
  {
   "cell_type": "code",
   "execution_count": null,
   "metadata": {},
   "outputs": [],
   "source": [
    "import pandas as pd\n",
    "import datetime"
   ]
  },
  {
   "cell_type": "code",
   "execution_count": null,
   "metadata": {},
   "outputs": [],
   "source": [
    "number_of_stores = 40\n",
    "number_of_sales = 5000\n",
    "number_of_products = 61\n",
    "number_of_dates = 30"
   ]
  },
  {
   "cell_type": "code",
   "execution_count": null,
   "metadata": {},
   "outputs": [],
   "source": [
    "def get(l: list, i: int):\n",
    "    return l[i % len(l)]"
   ]
  },
  {
   "cell_type": "markdown",
   "metadata": {},
   "source": [
    "## Shop Store"
   ]
  },
  {
   "cell_type": "code",
   "execution_count": null,
   "metadata": {},
   "outputs": [],
   "source": [
    "sizes = [\n",
    "    \"big\",\n",
    "    \"medium\",\n",
    "    \"medium\",\n",
    "    \"medium\",\n",
    "    \"small\",\n",
    "    \"small\",\n",
    "    \"small\",\n",
    "    \"small\",\n",
    "    \"small\",\n",
    "]"
   ]
  },
  {
   "cell_type": "code",
   "execution_count": null,
   "metadata": {},
   "outputs": [],
   "source": [
    "geography_map = {\n",
    "    \"USA\": {\n",
    "        \"New York\": [\"New York\"],\n",
    "        \"California\": [\"Los Angeles\", \"San Diego\", \"San Jose\", \"San Francisco\"],\n",
    "        \"Texas\": [\"Houston\", \"San Antonio\"],\n",
    "        \"Illinois\": [\"Chicago\"],\n",
    "    },\n",
    "    \"France\": {\n",
    "        \"Île-de-France\": [\"Paris\"],\n",
    "        \"Provence-Alpes-Côte d'Azur\": [\"Marseille\", \"Nice\"],\n",
    "        \"Auvergne-Rhône-Alpes\": [\"Lyon\", \"Saint-Étienne\"],\n",
    "    },\n",
    "}"
   ]
  },
  {
   "cell_type": "code",
   "execution_count": null,
   "metadata": {},
   "outputs": [],
   "source": [
    "geo_array = [\n",
    "    [country, region, city]\n",
    "    for country, regions in geography_map.items()\n",
    "    for region, cities in regions.items()\n",
    "    for city in cities\n",
    "]"
   ]
  },
  {
   "cell_type": "code",
   "execution_count": null,
   "metadata": {},
   "outputs": [],
   "source": [
    "rows = []\n",
    "for i in range(0, number_of_stores):\n",
    "    id = \"shop_\" + str(i)\n",
    "    [country, region, city] = get(geo_array, i)\n",
    "    size = get(sizes, i)\n",
    "    rows.append([id, city, region, country, size])"
   ]
  },
  {
   "cell_type": "code",
   "execution_count": null,
   "metadata": {},
   "outputs": [],
   "source": [
    "shops_df = pd.DataFrame(\n",
    "    rows, columns=[\"Shop ID\", \"City\", \"State or region\", \"Country\", \"Shop size\"]\n",
    ")\n",
    "shops_df.head()"
   ]
  },
  {
   "cell_type": "markdown",
   "metadata": {},
   "source": [
    "## Product store"
   ]
  },
  {
   "cell_type": "code",
   "execution_count": null,
   "metadata": {},
   "outputs": [],
   "source": [
    "brands = [\"Basic\", \"Mega\", \"Over\", \"NewBrand\"]\n",
    "colors = [\"black\", \"white\", \"blue\", \"red\", \"brown\"]"
   ]
  },
  {
   "cell_type": "code",
   "execution_count": null,
   "metadata": {},
   "outputs": [],
   "source": [
    "products_map = {\n",
    "    \"Furniture\": {\n",
    "        \"Table\": {\"1m80\": (210, 190), \"2m40\": (300, 280)},\n",
    "        \"Chair\": {\"N/A\": (60, 48)},\n",
    "        \"Bed\": {\n",
    "            \"Single\": (150, 127),\n",
    "            \"Double\": (300, 252),\n",
    "            \"Queen\": (395, 333),\n",
    "            \"King\": (440, 375),\n",
    "        },\n",
    "    },\n",
    "    \"Cloth\": {\n",
    "        \"Tshirt\": {\n",
    "            \"XS\": (20, 17),\n",
    "            \"S\": (20, 18),\n",
    "            \"M\": (22, 19),\n",
    "            \"L\": (24, 20),\n",
    "            \"XL\": (24, 21),\n",
    "        },\n",
    "        \"Hoodie\": {\"S\": (45, 35), \"M\": (48, 38), \"L\": (49, 39)},\n",
    "        \"Shoes\": {\n",
    "            \"7\": (60, 40),\n",
    "            \"8\": (60, 42),\n",
    "            \"9\": (60, 44),\n",
    "            \"10\": (60, 46),\n",
    "            \"11\": (60, 48),\n",
    "            \"12\": (60, 48),\n",
    "        },\n",
    "    },\n",
    "}"
   ]
  },
  {
   "cell_type": "code",
   "execution_count": null,
   "metadata": {},
   "outputs": [],
   "source": [
    "product_list = [\n",
    "    [category, sub, size, price[0], price[1]]\n",
    "    for category, subcategories in products_map.items()\n",
    "    for sub, sizes in subcategories.items()\n",
    "    for size, price in sizes.items()\n",
    "]"
   ]
  },
  {
   "cell_type": "code",
   "execution_count": null,
   "metadata": {},
   "outputs": [],
   "source": [
    "rows = []\n",
    "for i in range(0, number_of_products):\n",
    "    [category, sub, size, price, purchase_price] = get(product_list, i)\n",
    "    id = sub[0:3].upper() + \"_\" + str(i)\n",
    "    color = get(colors, i)\n",
    "    # unbalanced the brands by allowing only 2 brands to sell furnitures\n",
    "    brand = get(brands, i) if category != \"Furniture\" else brands[i % 2]\n",
    "    rows.append([id, category, sub, size, price, purchase_price * 1.0, color, brand])"
   ]
  },
  {
   "cell_type": "code",
   "execution_count": null,
   "metadata": {},
   "outputs": [],
   "source": [
    "products_df = pd.DataFrame(\n",
    "    rows,\n",
    "    columns=[\n",
    "        \"Product\",\n",
    "        \"Category\",\n",
    "        \"Sub category\",\n",
    "        \"Size\",\n",
    "        \"Price\",\n",
    "        \"Purchase price\",\n",
    "        \"Color\",\n",
    "        \"Brand\",\n",
    "    ],\n",
    ")"
   ]
  },
  {
   "cell_type": "code",
   "execution_count": null,
   "metadata": {},
   "outputs": [],
   "source": [
    "products_df.head()"
   ]
  },
  {
   "cell_type": "markdown",
   "metadata": {},
   "source": [
    "## Sales store"
   ]
  },
  {
   "cell_type": "code",
   "execution_count": null,
   "metadata": {},
   "outputs": [],
   "source": [
    "quantities = [1, 1, 2, 1, 3, 1, 2, 2, 1, 1, 1, 4, 1]"
   ]
  },
  {
   "cell_type": "code",
   "execution_count": null,
   "metadata": {},
   "outputs": [],
   "source": [
    "base_date = datetime.date.today()\n",
    "date_list = [base_date - datetime.timedelta(days=x) for x in range(number_of_dates)]"
   ]
  },
  {
   "cell_type": "code",
   "execution_count": null,
   "metadata": {},
   "outputs": [],
   "source": [
    "rows = []\n",
    "shops = list(shops_df[\"Shop ID\"])\n",
    "product_ids = list(products_df[\"Product\"])\n",
    "product_prices = list(products_df[\"Price\"])\n",
    "for i in range(0, number_of_sales):\n",
    "    store_id = get(shops, i)\n",
    "    product_id = get(product_ids, i)\n",
    "    price = get(product_prices, i)\n",
    "    date = get(date_list, i)\n",
    "    quantity = get(quantities, i)\n",
    "    rows.append(\n",
    "        [\n",
    "            f\"S{i:09}\",\n",
    "            date,\n",
    "            store_id,\n",
    "            product_id,\n",
    "            quantity * 1.0,\n",
    "            price * 1.0,\n",
    "        ]\n",
    "    )"
   ]
  },
  {
   "cell_type": "code",
   "execution_count": null,
   "metadata": {},
   "outputs": [],
   "source": [
    "sales_df = pd.DataFrame(\n",
    "    rows,\n",
    "    columns=[\"Sale ID\", \"Date\", \"Shop\", \"Product\", \"Quantity\", \"Unit price\"],\n",
    ")\n",
    "sales_df.head()"
   ]
  },
  {
   "cell_type": "code",
   "execution_count": null,
   "metadata": {},
   "outputs": [],
   "source": [
    "products_df = products_df.drop(\"Price\", axis=\"columns\")"
   ]
  },
  {
   "cell_type": "markdown",
   "metadata": {},
   "source": [
    "## Write the files"
   ]
  },
  {
   "cell_type": "code",
   "execution_count": null,
   "metadata": {},
   "outputs": [],
   "source": [
    "shops_df.to_csv(\"./shops.csv\", index=False)\n",
    "products_df.to_csv(\"./products.csv\", index=False)\n",
    "sales_df.to_csv(\"./sales.csv\", index=False)"
   ]
  }
 ],
 "metadata": {
  "kernelspec": {
   "display_name": "Python 3",
   "language": "python",
   "name": "python3"
  },
  "language_info": {
   "codemirror_mode": {
    "name": "ipython",
    "version": 3
   },
   "file_extension": ".py",
   "mimetype": "text/x-python",
   "name": "python",
   "nbconvert_exporter": "python",
   "pygments_lexer": "ipython3",
   "version": "3.7.8"
  }
 },
 "nbformat": 4,
 "nbformat_minor": 4
}