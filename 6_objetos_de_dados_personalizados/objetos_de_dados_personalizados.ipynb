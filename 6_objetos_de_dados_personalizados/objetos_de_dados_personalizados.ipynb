{
 "cells": [
  {
   "cell_type": "code",
   "execution_count": 1,
   "id": "aad08b05-a6d4-4991-bc02-dc2e59f6a96c",
   "metadata": {},
   "outputs": [
    {
     "name": "stdout",
     "output_type": "stream",
     "text": [
      "Sarah Sweeney's fastest times are: '['2.18', '2.21', '2.22']\n"
     ]
    }
   ],
   "source": [
    "# Novo código para processamento dos dados\n",
    "def sanitize(time_string):\n",
    "    # a função \"sanitize\" é a mesma do módulo 5\n",
    "    if '-' in time_string:\n",
    "        splitter = '-'\n",
    "    elif ':' in time_string:\n",
    "        splitter = ':'\n",
    "    else:\n",
    "        return(time_string)\n",
    "    (mins, secs) = time_string.split(splitter)\n",
    "    return(mins + '.' + secs)\n",
    "\n",
    "\n",
    "def get_coach_data(filename):\n",
    "    #A função get_coach_data()\n",
    "    try:\n",
    "        with open(filename) as f:\n",
    "            data = f.readline()\n",
    "        return(data.strip().split(','))\n",
    "    except IOError as ioerr:\n",
    "        print('File error: ' + str(ioerr))\n",
    "        return(None)\n",
    "    \n",
    "\"\"\"\n",
    "Usamos a função para transformar o arquivo\n",
    "de dados de Sarah em uma lista e,\n",
    "em seguida, atribuimos a variável 'sarah'\n",
    "\"\"\"\n",
    "sarah = get_coach_data('sarah2.txt')\n",
    "\"\"\"\n",
    "A chamada pop(0) retorna e remove os\n",
    "dados da frente da lista. Duas\n",
    "chamadas pop(0) removem os dois primeiros\n",
    "valores de dados e os atribui às variáveis\n",
    "nomeadas\n",
    "\"\"\"\n",
    "(sarah_name, sarah_dob) = sarah.pop(0), sarah.pop(0)\n",
    "\"\"\"\n",
    "Uma mensagem personalizada dentro da chamada print()\n",
    "é usada para mostrar os resultados que você procura\n",
    "\"\"\"\n",
    "print(sarah_name + \"'s fastest times are: '\" + str(sorted(set([sanitize(t) for t in sarah]))[0:3]))"
   ]
  },
  {
   "cell_type": "code",
   "execution_count": 4,
   "id": "3c522f1d-5165-4034-b192-e57f634335bd",
   "metadata": {},
   "outputs": [
    {
     "name": "stdout",
     "output_type": "stream",
     "text": [
      "2-25's fastest times are: ['2.18', '2.21', '2.22']\n"
     ]
    }
   ],
   "source": [
    "sarah_data = {}\n",
    "sarah_data['Name'] = sarah.pop(0)\n",
    "sarah_data['DOB'] = sarah.pop(0)\n",
    "sarah_data['Times'] = sarah\n",
    "print(sarah_data['Name']+\"'s fastest times are: \"+str(sorted(set([sanitize(t) for t in sarah_data['Times']]))[0:3]))"
   ]
  }
 ],
 "metadata": {
  "kernelspec": {
   "display_name": "Python 3",
   "language": "python",
   "name": "python3"
  },
  "language_info": {
   "codemirror_mode": {
    "name": "ipython",
    "version": 3
   },
   "file_extension": ".py",
   "mimetype": "text/x-python",
   "name": "python",
   "nbconvert_exporter": "python",
   "pygments_lexer": "ipython3",
   "version": "3.9.2"
  }
 },
 "nbformat": 4,
 "nbformat_minor": 5
}
