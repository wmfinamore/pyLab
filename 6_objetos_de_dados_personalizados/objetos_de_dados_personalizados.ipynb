{
 "cells": [
  {
   "cell_type": "code",
   "execution_count": 1,
   "id": "aad08b05-a6d4-4991-bc02-dc2e59f6a96c",
   "metadata": {},
   "outputs": [
    {
     "name": "stdout",
     "output_type": "stream",
     "text": [
      "Sarah Sweeney's fastest times are: '['2.18', '2.21', '2.22']\n"
     ]
    }
   ],
   "source": [
    "# Novo código para processamento dos dados\n",
    "def sanitize(time_string):\n",
    "    # a função \"sanitize\" é a mesma do módulo 5\n",
    "    if '-' in time_string:\n",
    "        splitter = '-'\n",
    "    elif ':' in time_string:\n",
    "        splitter = ':'\n",
    "    else:\n",
    "        return(time_string)\n",
    "    (mins, secs) = time_string.split(splitter)\n",
    "    return(mins + '.' + secs)\n",
    "\n",
    "\n",
    "def get_coach_data(filename):\n",
    "    #A função get_coach_data()\n",
    "    try:\n",
    "        with open(filename) as f:\n",
    "            data = f.readline()\n",
    "        return(data.strip().split(','))\n",
    "    except IOError as ioerr:\n",
    "        print('File error: ' + str(ioerr))\n",
    "        return(None)\n",
    "    \n",
    "\"\"\"\n",
    "Usamos a função para transformar o arquivo\n",
    "de dados de Sarah em uma lista e,\n",
    "em seguida, atribuimos a variável 'sarah'\n",
    "\"\"\"\n",
    "sarah = get_coach_data('sarah2.txt')\n",
    "\"\"\"\n",
    "A chamada pop(0) retorna e remove os\n",
    "dados da frente da lista. Duas\n",
    "chamadas pop(0) removem os dois primeiros\n",
    "valores de dados e os atribui às variáveis\n",
    "nomeadas\n",
    "\"\"\"\n",
    "(sarah_name, sarah_dob) = sarah.pop(0), sarah.pop(0)\n",
    "\"\"\"\n",
    "Uma mensagem personalizada dentro da chamada print()\n",
    "é usada para mostrar os resultados que você procura\n",
    "\"\"\"\n",
    "print(sarah_name + \"'s fastest times are: '\" + str(sorted(set([sanitize(t) for t in sarah]))[0:3]))"
   ]
  },
  {
   "cell_type": "code",
   "execution_count": 2,
   "id": "3c522f1d-5165-4034-b192-e57f634335bd",
   "metadata": {},
   "outputs": [
    {
     "name": "stdout",
     "output_type": "stream",
     "text": [
      "2:58's fastest times are: ['2.18', '2.21', '2.22']\n"
     ]
    }
   ],
   "source": [
    "sarah_data = {}\n",
    "sarah_data['Name'] = sarah.pop(0)\n",
    "sarah_data['DOB'] = sarah.pop(0)\n",
    "sarah_data['Times'] = sarah\n",
    "print(sarah_data['Name']+\"'s fastest times are: \"+str(sorted(set([sanitize(t) for t in sarah_data['Times']]))[0:3]))"
   ]
  },
  {
   "cell_type": "code",
   "execution_count": 3,
   "id": "d2e004d0-61e4-4596-aff0-6985e33c089b",
   "metadata": {},
   "outputs": [
    {
     "name": "stdout",
     "output_type": "stream",
     "text": [
      "Sarah Sweeney's fastest times are: ['2.18', '2.21', '2.22']\n"
     ]
    }
   ],
   "source": [
    "# code review\n",
    "def get_coach_data(filename):\n",
    "    try:\n",
    "        with open(filename) as f:\n",
    "            data = f.readline()\n",
    "        templ = data.strip().split(',')\n",
    "        return({'Name': templ.pop(0),\n",
    "                'DOB': templ.pop(0),\n",
    "                'Times': str(sorted(set([sanitize(t) for t in templ]))[0:3])})\n",
    "    except IOError as ioerr:\n",
    "        print('File error: '+ str(ioerr))\n",
    "        return(None)\n",
    "\n",
    "sarah = get_coach_data('sarah2.txt')\n",
    "\n",
    "print(sarah['Name'] + \"'s fastest times are: \"+ sarah['Times'])"
   ]
  },
  {
   "cell_type": "code",
   "execution_count": 4,
   "id": "d769582b-23af-4f55-8789-658c0aacd5d9",
   "metadata": {},
   "outputs": [],
   "source": [
    "# classes em python\n",
    "class Athlete: # palavra chave para criação de uma classe e o nome da classe\n",
    "    def __init__(self, a_name, a_dob=None, a_times=[]): # método que permite definir como o objeto é inicializado\n",
    "        self.name = a_name\n",
    "        self.dob = a_dob\n",
    "        self.times = a_times\n",
    "\n",
    "sarah = Athlete('Sarah Sweeney', '2002-6-17', ['2:58', '2.58', '1.56'])\n",
    "james = Athlete('James Jones')"
   ]
  },
  {
   "cell_type": "code",
   "execution_count": 5,
   "id": "114bf57c-0f2c-4bad-bcae-97780c52f214",
   "metadata": {},
   "outputs": [
    {
     "data": {
      "text/plain": [
       "__main__.Athlete"
      ]
     },
     "execution_count": 5,
     "metadata": {},
     "output_type": "execute_result"
    }
   ],
   "source": [
    "type(sarah)\n"
   ]
  },
  {
   "cell_type": "code",
   "execution_count": 6,
   "id": "5b17a058-8cf0-422c-ab2c-d7535c34a80b",
   "metadata": {},
   "outputs": [
    {
     "data": {
      "text/plain": [
       "__main__.Athlete"
      ]
     },
     "execution_count": 6,
     "metadata": {},
     "output_type": "execute_result"
    }
   ],
   "source": [
    "type(james)"
   ]
  },
  {
   "cell_type": "code",
   "execution_count": 7,
   "id": "7dafdf5e-5e51-4069-83a8-44478e7d3910",
   "metadata": {},
   "outputs": [
    {
     "data": {
      "text/plain": [
       "'Sarah Sweeney'"
      ]
     },
     "execution_count": 7,
     "metadata": {},
     "output_type": "execute_result"
    }
   ],
   "source": [
    "sarah.name"
   ]
  },
  {
   "cell_type": "code",
   "execution_count": 8,
   "id": "2df2e088-8002-4277-824a-8f22318343a2",
   "metadata": {},
   "outputs": [
    {
     "data": {
      "text/plain": [
       "'2002-6-17'"
      ]
     },
     "execution_count": 8,
     "metadata": {},
     "output_type": "execute_result"
    }
   ],
   "source": [
    "sarah.dob"
   ]
  },
  {
   "cell_type": "code",
   "execution_count": 9,
   "id": "05e425ce-b06c-4045-9132-2c9caa633902",
   "metadata": {},
   "outputs": [
    {
     "data": {
      "text/plain": [
       "['2:58', '2.58', '1.56']"
      ]
     },
     "execution_count": 9,
     "metadata": {},
     "output_type": "execute_result"
    }
   ],
   "source": [
    "sarah.times"
   ]
  },
  {
   "cell_type": "code",
   "execution_count": 10,
   "id": "bbdfb65a-e804-46b6-a3c0-b760b1606207",
   "metadata": {},
   "outputs": [],
   "source": [
    "# Criando uma nova classe para atletas\n",
    "class Athlete:\n",
    "    def __init__(self, a_name, a_dob=None, a_times=[]):\n",
    "        self.name = a_name\n",
    "        self.dob = a_dob\n",
    "        self.times = a_times\n",
    "        \n",
    "    def top3(self):\n",
    "        return(sorted(set([sanitize(t) for t in self.times]))[0:3])\n",
    "    \n",
    "    def get_coach_data(filename):\n",
    "        try:\n",
    "            with open(filename) as f:\n",
    "                data = f.readline()\n",
    "            templ = data.strip().split(',')\n",
    "            return Athlete(templ.pop(0), templ.pop(0), templ)\n",
    "        except IOError as ioerr:\n",
    "            print('File error: '+ str(ioerr))\n",
    "            return(None)\n",
    "        "
   ]
  },
  {
   "cell_type": "code",
   "execution_count": 11,
   "id": "524a47b5-5b19-45a1-b962-f327265b287f",
   "metadata": {},
   "outputs": [],
   "source": [
    "james = Athlete.get_coach_data('sarah2.txt')"
   ]
  },
  {
   "cell_type": "code",
   "execution_count": 12,
   "id": "bd09d1f7-5000-4ff2-9dcf-12a2787f0985",
   "metadata": {},
   "outputs": [
    {
     "name": "stdout",
     "output_type": "stream",
     "text": [
      "Sarah Sweeney's faster times are:['2.18', '2.21', '2.22']\n"
     ]
    }
   ],
   "source": [
    "print(james.name + \"'s faster times are:\" + str(james.top3()))"
   ]
  },
  {
   "cell_type": "code",
   "execution_count": 13,
   "id": "7019a16d-1248-4a39-b064-1c2c7e0a4c0c",
   "metadata": {},
   "outputs": [],
   "source": [
    "# Adicionado métodos para incluir mais tempos\n",
    "class Athlete:\n",
    "    def __init__(self, a_name, a_dob=None, a_times=[]):\n",
    "        self.name = a_name\n",
    "        self.dob = a_dob\n",
    "        self.times = a_times\n",
    "        \n",
    "    def top3(self):\n",
    "        return(sorted(set([sanitize(t) for t in self.times]))[0:3])\n",
    "    \n",
    "    def get_coach_data(filename):\n",
    "        try:\n",
    "            with open(filename) as f:\n",
    "                data = f.readline()\n",
    "            templ = data.strip().split(',')\n",
    "            return Athlete(templ.pop(0), templ.pop(0), templ)\n",
    "        except IOError as ioerr:\n",
    "            print('File error: '+ str(ioerr))\n",
    "            return(None)\n",
    "        \n",
    "    def add_time(self, time_value):\n",
    "        templ = sanitize(time_value)\n",
    "        self.times.append(templ)\n",
    "        \n",
    "    def add_times(self, list_of_times):\n",
    "        templ = [sanitize(t) for t in list_of_times]\n",
    "        self.times.extend(templ)\n",
    "        \n"
   ]
  },
  {
   "cell_type": "code",
   "execution_count": 14,
   "id": "a9bcbd58-c01d-4bc5-a9e2-511ab3365db9",
   "metadata": {},
   "outputs": [
    {
     "name": "stdout",
     "output_type": "stream",
     "text": [
      "['1.31']\n"
     ]
    }
   ],
   "source": [
    "vera = Athlete('Vera Vi')\n",
    "vera.add_time('1.31')\n",
    "print(vera.top3())\n"
   ]
  },
  {
   "cell_type": "code",
   "execution_count": 15,
   "id": "16c8aef5-dae5-4f8a-b1c1-33743f04e098",
   "metadata": {},
   "outputs": [
    {
     "name": "stdout",
     "output_type": "stream",
     "text": [
      "['1.2', '1.31', '2.22']\n"
     ]
    }
   ],
   "source": [
    "vera.add_times(['2.22', '1-2', '2:22'])\n",
    "print(vera.top3())"
   ]
  },
  {
   "cell_type": "code",
   "execution_count": 17,
   "id": "871383c2-7256-4e2e-afb9-c7404eb8d0e1",
   "metadata": {},
   "outputs": [
    {
     "data": {
      "text/plain": [
       "['1.31', '2.22', '1.2', '2.22']"
      ]
     },
     "execution_count": 17,
     "metadata": {},
     "output_type": "execute_result"
    }
   ],
   "source": [
    "vera.times"
   ]
  },
  {
   "cell_type": "code",
   "execution_count": 18,
   "id": "8e8ee4a2-5181-4008-bb0e-c3661234652f",
   "metadata": {},
   "outputs": [],
   "source": [
    "# praticando herança de objetos\n",
    "\n",
    "class NamedList(list): # Forneça o nome da classe da qual deriva esta nova classe\n",
    "    def __init__(self, a_name):\n",
    "        list.__init__([]) # Inicialize a derivada da classe e depois\n",
    "        self.name = a_name # atribua o argumento ao atributo"
   ]
  },
  {
   "cell_type": "code",
   "execution_count": 19,
   "id": "74f71273-e670-4975-b654-64a488e2b345",
   "metadata": {},
   "outputs": [
    {
     "data": {
      "text/plain": [
       "__main__.NamedList"
      ]
     },
     "execution_count": 19,
     "metadata": {},
     "output_type": "execute_result"
    }
   ],
   "source": [
    "johny = NamedList(\"John Paul Jones\") # Crie uma nova instância do objeto \"NamedList\"\n",
    "type(johny)"
   ]
  },
  {
   "cell_type": "code",
   "execution_count": 20,
   "id": "ab1970c4-a48f-4316-9632-c0f3a92ef010",
   "metadata": {},
   "outputs": [
    {
     "data": {
      "text/plain": [
       "['__add__',\n",
       " '__class__',\n",
       " '__class_getitem__',\n",
       " '__contains__',\n",
       " '__delattr__',\n",
       " '__delitem__',\n",
       " '__dict__',\n",
       " '__dir__',\n",
       " '__doc__',\n",
       " '__eq__',\n",
       " '__format__',\n",
       " '__ge__',\n",
       " '__getattribute__',\n",
       " '__getitem__',\n",
       " '__gt__',\n",
       " '__hash__',\n",
       " '__iadd__',\n",
       " '__imul__',\n",
       " '__init__',\n",
       " '__init_subclass__',\n",
       " '__iter__',\n",
       " '__le__',\n",
       " '__len__',\n",
       " '__lt__',\n",
       " '__module__',\n",
       " '__mul__',\n",
       " '__ne__',\n",
       " '__new__',\n",
       " '__reduce__',\n",
       " '__reduce_ex__',\n",
       " '__repr__',\n",
       " '__reversed__',\n",
       " '__rmul__',\n",
       " '__setattr__',\n",
       " '__setitem__',\n",
       " '__sizeof__',\n",
       " '__str__',\n",
       " '__subclasshook__',\n",
       " '__weakref__',\n",
       " 'append',\n",
       " 'clear',\n",
       " 'copy',\n",
       " 'count',\n",
       " 'extend',\n",
       " 'index',\n",
       " 'insert',\n",
       " 'name',\n",
       " 'pop',\n",
       " 'remove',\n",
       " 'reverse',\n",
       " 'sort']"
      ]
     },
     "execution_count": 20,
     "metadata": {},
     "output_type": "execute_result"
    }
   ],
   "source": [
    "dir(johny)"
   ]
  },
  {
   "cell_type": "code",
   "execution_count": 21,
   "id": "4797a4e8-ad7a-4fd4-a630-0b257239d1b8",
   "metadata": {},
   "outputs": [
    {
     "data": {
      "text/plain": [
       "['Bass player', 'Composer', 'Arrnger', 'Musician']"
      ]
     },
     "execution_count": 21,
     "metadata": {},
     "output_type": "execute_result"
    }
   ],
   "source": [
    "johny.append('Bass player')\n",
    "johny.extend(['Composer', 'Arrnger', 'Musician']) # Adicione dados a \"NamedList\" usando os métodos fornecidos pela lista predefinida\n"
   ]
  },
  {
   "cell_type": "code",
   "execution_count": 22,
   "id": "89184019-1bdc-40eb-a1ac-02230df9fd49",
   "metadata": {},
   "outputs": [
    {
     "data": {
      "text/plain": [
       "'John Paul Jones'"
      ]
     },
     "execution_count": 22,
     "metadata": {},
     "output_type": "execute_result"
    }
   ],
   "source": [
    "johny\n",
    "johny.name # Acesse a lista de dados, assim como os dados do atributo"
   ]
  },
  {
   "cell_type": "code",
   "execution_count": 23,
   "id": "5cf9c685-c113-4ce4-9fe0-28c5ee76c7e3",
   "metadata": {},
   "outputs": [
    {
     "name": "stdout",
     "output_type": "stream",
     "text": [
      "John Paul Jonesis a Bass player.\n",
      "John Paul Jonesis a Composer.\n",
      "John Paul Jonesis a Arrnger.\n",
      "John Paul Jonesis a Musician.\n"
     ]
    }
   ],
   "source": [
    "for attr in johny:\n",
    "    print(johny.name + \"is a \" + attr + \".\") # \"johny\" é como qualquer outra lista, portanto, sinta-se à vontade para usá-la onde quer que você usaria uma lista"
   ]
  },
  {
   "cell_type": "code",
   "execution_count": null,
   "id": "6c979876-dfdf-447a-bb00-f13f9a22f7b0",
   "metadata": {},
   "outputs": [],
   "source": []
  }
 ],
 "metadata": {
  "kernelspec": {
   "display_name": "Python 3",
   "language": "python",
   "name": "python3"
  },
  "language_info": {
   "codemirror_mode": {
    "name": "ipython",
    "version": 3
   },
   "file_extension": ".py",
   "mimetype": "text/x-python",
   "name": "python",
   "nbconvert_exporter": "python",
   "pygments_lexer": "ipython3",
   "version": "3.9.2"
  }
 },
 "nbformat": 4,
 "nbformat_minor": 5
}
