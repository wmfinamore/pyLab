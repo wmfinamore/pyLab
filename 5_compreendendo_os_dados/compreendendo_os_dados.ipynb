{
 "cells": [
  {
   "cell_type": "code",
   "execution_count": 1,
   "id": "d58d7d45-b1df-4bac-9ac6-da7bcd2584cd",
   "metadata": {},
   "outputs": [],
   "source": [
    "# Criado arquivos de dados\n",
    "try:\n",
    "    with open('james.txt', \"w\") as data:\n",
    "        print(\"2-34,3:21,2.34,2.45,3.01,2:01,2:01,3:10,2-22\", file=data)\n",
    "except IOError as err:\n",
    "    print('File erro: '+ str(err))"
   ]
  },
  {
   "cell_type": "code",
   "execution_count": 2,
   "id": "0155b470-899e-490c-a58e-3caae1c0baa5",
   "metadata": {},
   "outputs": [],
   "source": [
    "try:\n",
    "    with open('julie.txt', \"w\") as data:\n",
    "        print(\"2.59,2.11,2:11,2:23,3-10,2-23,3:10,3.21,3-21\", file=data)\n",
    "except IOError as err:\n",
    "    print('File erro: '+ str(err))"
   ]
  },
  {
   "cell_type": "code",
   "execution_count": 3,
   "id": "bac5c0e8-9c86-4a1c-aaad-fbd17e47731a",
   "metadata": {},
   "outputs": [],
   "source": [
    "try:\n",
    "    with open('mikey.txt', \"w\") as data:\n",
    "        print(\"2:22,3.01,3:01,3.02,3:02,3.02,3:22,2.49,2:38\", file=data)\n",
    "except IOError as err:\n",
    "    print('File erro: '+ str(err))"
   ]
  },
  {
   "cell_type": "code",
   "execution_count": 4,
   "id": "e3e114bc-efe2-4c78-8666-144b5c4e9809",
   "metadata": {},
   "outputs": [],
   "source": [
    "try:\n",
    "    with open('sarah.txt', \"w\") as data:\n",
    "        print(\"2:58,2.58,2:39,2-25,2-55,2:54,2.18,2:55,2:55\", file=data)\n",
    "except IOError as err:\n",
    "    print('File erro: '+ str(err))"
   ]
  },
  {
   "cell_type": "code",
   "execution_count": 5,
   "id": "7070dc74-2abb-4972-baf8-9f4f8310e1cf",
   "metadata": {},
   "outputs": [
    {
     "name": "stdout",
     "output_type": "stream",
     "text": [
      "['2-34', '3:21', '2.34', '2.45', '3.01', '2:01', '2:01', '3:10', '2-22']\n",
      "['2.59', '2.11', '2:11', '2:23', '3-10', '2-23', '3:10', '3.21', '3-21']\n",
      "['2:22', '3.01', '3:01', '3.02', '3:02', '3.02', '3:22', '2.49', '2:38']\n",
      "['2:58', '2.58', '2:39', '2-25', '2-55', '2:54', '2.18', '2:55', '2:55']\n"
     ]
    }
   ],
   "source": [
    "# Abrindo os arquivos, lendo as linhas e usando os BIF's split and strip\n",
    "with open('james.txt') as jaf:\n",
    "    data = jaf.readline()\n",
    "    james = data.strip().split(',')\n",
    "    \n",
    "with open('julie.txt') as juf:\n",
    "    data = juf.readline()\n",
    "    julie = data.strip().split(',')\n",
    "\n",
    "with open('mikey.txt') as mif:\n",
    "    data = mif.readline()\n",
    "    mikey = data.strip().split(',')\n",
    "    \n",
    "with open('sarah.txt') as saf:\n",
    "    data = saf.readline()\n",
    "    sarah = data.strip().split(',')\n",
    "    \n",
    "#Exibindo as listas\n",
    "print(james)\n",
    "print(julie)\n",
    "print(mikey)\n",
    "print(sarah)"
   ]
  },
  {
   "cell_type": "code",
   "execution_count": null,
   "id": "4582d3a7-7522-4363-8e79-621a83ff006a",
   "metadata": {},
   "outputs": [],
   "source": []
  }
 ],
 "metadata": {
  "kernelspec": {
   "display_name": "Python 3",
   "language": "python",
   "name": "python3"
  },
  "language_info": {
   "codemirror_mode": {
    "name": "ipython",
    "version": 3
   },
   "file_extension": ".py",
   "mimetype": "text/x-python",
   "name": "python",
   "nbconvert_exporter": "python",
   "pygments_lexer": "ipython3",
   "version": "3.9.2"
  }
 },
 "nbformat": 4,
 "nbformat_minor": 5
}
