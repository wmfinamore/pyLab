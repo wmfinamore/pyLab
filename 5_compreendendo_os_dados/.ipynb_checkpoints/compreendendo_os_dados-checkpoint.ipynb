{
 "cells": [
  {
   "cell_type": "code",
   "execution_count": 1,
   "id": "d58d7d45-b1df-4bac-9ac6-da7bcd2584cd",
   "metadata": {},
   "outputs": [],
   "source": [
    "# Criado arquivos de dados\n",
    "try:\n",
    "    with open('james.txt', \"w\") as data:\n",
    "        print(\"2-34,3:21,2.34,2.45,3.01,2:01,2:01,3:10,2-22\", file=data)\n",
    "except IOError as err:\n",
    "    print('File erro: '+ str(err))"
   ]
  },
  {
   "cell_type": "code",
   "execution_count": 2,
   "id": "0155b470-899e-490c-a58e-3caae1c0baa5",
   "metadata": {},
   "outputs": [],
   "source": [
    "try:\n",
    "    with open('julie.txt', \"w\") as data:\n",
    "        print(\"2.59,2.11,2:11,2:23,3-10,2-23,3:10,3.21,3-21\", file=data)\n",
    "except IOError as err:\n",
    "    print('File erro: '+ str(err))"
   ]
  },
  {
   "cell_type": "code",
   "execution_count": 3,
   "id": "bac5c0e8-9c86-4a1c-aaad-fbd17e47731a",
   "metadata": {},
   "outputs": [],
   "source": [
    "try:\n",
    "    with open('mikey.txt', \"w\") as data:\n",
    "        print(\"2:22,3.01,3:01,3.02,3:02,3.02,3:22,2.49,2:38\", file=data)\n",
    "except IOError as err:\n",
    "    print('File erro: '+ str(err))"
   ]
  },
  {
   "cell_type": "code",
   "execution_count": 4,
   "id": "e3e114bc-efe2-4c78-8666-144b5c4e9809",
   "metadata": {},
   "outputs": [],
   "source": [
    "try:\n",
    "    with open('sarah.txt', \"w\") as data:\n",
    "        print(\"2:58,2.58,2:39,2-25,2-55,2:54,2.18,2:55,2:55\", file=data)\n",
    "except IOError as err:\n",
    "    print('File erro: '+ str(err))"
   ]
  },
  {
   "cell_type": "code",
   "execution_count": 5,
   "id": "7070dc74-2abb-4972-baf8-9f4f8310e1cf",
   "metadata": {},
   "outputs": [
    {
     "name": "stdout",
     "output_type": "stream",
     "text": [
      "['2-22', '2-34', '2.34', '2.45', '2:01', '2:01', '3.01', '3:10', '3:21']\n",
      "['2-23', '2.11', '2.59', '2:11', '2:23', '3-10', '3-21', '3.21', '3:10']\n",
      "['2.49', '2:22', '2:38', '3.01', '3.02', '3.02', '3:01', '3:02', '3:22']\n",
      "['2-25', '2-55', '2.18', '2.58', '2:39', '2:54', '2:55', '2:55', '2:58']\n"
     ]
    }
   ],
   "source": [
    "# Abrindo os arquivos, lendo as linhas e usando os BIF's split and strip\n",
    "with open('james.txt') as jaf:\n",
    "    data = jaf.readline()\n",
    "    james = data.strip().split(',')\n",
    "    \n",
    "with open('julie.txt') as juf:\n",
    "    data = juf.readline()\n",
    "    julie = data.strip().split(',')\n",
    "\n",
    "with open('mikey.txt') as mif:\n",
    "    data = mif.readline()\n",
    "    mikey = data.strip().split(',')\n",
    "    \n",
    "with open('sarah.txt') as saf:\n",
    "    data = saf.readline()\n",
    "    sarah = data.strip().split(',')\n",
    "    \n",
    "#Exibindo as listas\n",
    "print(sorted(james))\n",
    "print(sorted(julie))\n",
    "print(sorted(mikey))\n",
    "print(sorted(sarah))"
   ]
  },
  {
   "cell_type": "code",
   "execution_count": 6,
   "id": "4582d3a7-7522-4363-8e79-621a83ff006a",
   "metadata": {},
   "outputs": [
    {
     "data": {
      "text/plain": [
       "[6, 3, 1, 2, 4, 5]"
      ]
     },
     "execution_count": 6,
     "metadata": {},
     "output_type": "execute_result"
    }
   ],
   "source": [
    "# ordenação de dados\n",
    "data = [6,3,1,2,4,5]\n",
    "data"
   ]
  },
  {
   "cell_type": "code",
   "execution_count": 7,
   "id": "35de6738-11c6-4137-9640-740f0706dab6",
   "metadata": {},
   "outputs": [
    {
     "data": {
      "text/plain": [
       "[1, 2, 3, 4, 5, 6]"
      ]
     },
     "execution_count": 7,
     "metadata": {},
     "output_type": "execute_result"
    }
   ],
   "source": [
    "data.sort()\n",
    "data"
   ]
  },
  {
   "cell_type": "code",
   "execution_count": 8,
   "id": "2e127813-fe2d-403c-8020-5e2a6b03b37d",
   "metadata": {},
   "outputs": [
    {
     "data": {
      "text/plain": [
       "[6, 3, 1, 2, 4, 5]"
      ]
     },
     "execution_count": 8,
     "metadata": {},
     "output_type": "execute_result"
    }
   ],
   "source": [
    "data = [6,3,1,2,4,5]\n",
    "data"
   ]
  },
  {
   "cell_type": "code",
   "execution_count": 9,
   "id": "5c26e0b7-b8c0-4eca-9ff7-b918202c9934",
   "metadata": {},
   "outputs": [
    {
     "data": {
      "text/plain": [
       "[6, 3, 1, 2, 4, 5]"
      ]
     },
     "execution_count": 9,
     "metadata": {},
     "output_type": "execute_result"
    }
   ],
   "source": [
    "data2 = sorted(data)\n",
    "data2\n",
    "data"
   ]
  },
  {
   "cell_type": "code",
   "execution_count": 10,
   "id": "6ec2ff56-2ea9-42aa-9c7b-6c67908dfd71",
   "metadata": {},
   "outputs": [
    {
     "data": {
      "text/plain": [
       "[1, 2, 3, 4, 5, 6]"
      ]
     },
     "execution_count": 10,
     "metadata": {},
     "output_type": "execute_result"
    }
   ],
   "source": [
    "data2"
   ]
  },
  {
   "cell_type": "code",
   "execution_count": 11,
   "id": "1b104ed7-8cd1-4920-a9a2-75f3e289611a",
   "metadata": {},
   "outputs": [],
   "source": [
    "def sanitize(time_string):\n",
    "    if '-' in time_string:\n",
    "        splitter = '-'\n",
    "    elif ':' in time_string:\n",
    "        splitter = ':'\n",
    "    else:\n",
    "        return(time_string)\n",
    "    (mins, secs) = time_string.split(splitter)\n",
    "    return (mins + '.' + secs)"
   ]
  },
  {
   "cell_type": "code",
   "execution_count": 12,
   "id": "0a94d6f3-d20f-485b-b4bf-a350b592627e",
   "metadata": {},
   "outputs": [],
   "source": [
    "with open('james.txt') as jaf: \n",
    "    data = jaf.readline()\n",
    "    james = data.strip().split(',')\n",
    "    \n",
    "with open('julie.txt') as juf: \n",
    "    data = juf.readline()\n",
    "    julie = data.strip().split(',')\n",
    "    \n",
    "with open('mikey.txt') as mif: \n",
    "    data = mif.readline()\n",
    "    mikey = data.strip().split(',')\n",
    "    \n",
    "with open('sarah.txt') as saf: \n",
    "    data = saf.readline()\n",
    "    sarah = data.strip().split(',')"
   ]
  },
  {
   "cell_type": "code",
   "execution_count": 13,
   "id": "29501ca5-a062-437c-8965-8fab5dcda849",
   "metadata": {},
   "outputs": [],
   "source": [
    "# criando quatro listas vazias\n",
    "clean_james = []\n",
    "clean_julie = []\n",
    "clean_mikey = []\n",
    "clean_sarah = []\n"
   ]
  },
  {
   "cell_type": "code",
   "execution_count": 14,
   "id": "15981b9f-74f8-4b9c-ac77-8f38cf0095a9",
   "metadata": {},
   "outputs": [],
   "source": [
    "# Cada um dos itens de dados nas listas originais serão limpos e em seguida acrescentados a lista nova apropriada\n",
    "for each_t in james:\n",
    "    clean_james.append(sanitize(each_t))\n",
    "\n",
    "for each_t in julie:\n",
    "    clean_julie.append(sanitize(each_t))\n",
    "\n",
    "for each_t in mikey:\n",
    "    clean_mikey.append(sanitize(each_t))\n",
    "    \n",
    "for each_t in sarah:\n",
    "    clean_sarah.append(sanitize(each_t))"
   ]
  },
  {
   "cell_type": "code",
   "execution_count": 15,
   "id": "40a9813b-f791-482d-ae9c-5ea56b2533b8",
   "metadata": {},
   "outputs": [
    {
     "name": "stdout",
     "output_type": "stream",
     "text": [
      "['2.01', '2.01', '2.22', '2.34', '2.34', '2.45', '3.01', '3.10', '3.21']\n",
      "['2.11', '2.11', '2.23', '2.23', '2.59', '3.10', '3.10', '3.21', '3.21']\n",
      "['2.22', '2.38', '2.49', '3.01', '3.01', '3.02', '3.02', '3.02', '3.22']\n",
      "['2.18', '2.25', '2.39', '2.54', '2.55', '2.55', '2.55', '2.58', '2.58']\n"
     ]
    }
   ],
   "source": [
    "# Mostra as novas listas classificadas/ordenadas\n",
    "print(sorted(clean_james))\n",
    "\n",
    "print(sorted(clean_julie))\n",
    "\n",
    "print(sorted(clean_mikey))\n",
    "\n",
    "print(sorted(clean_sarah))"
   ]
  },
  {
   "cell_type": "code",
   "execution_count": 16,
   "id": "550e4722-e0f3-40ec-9219-d80b530daf89",
   "metadata": {},
   "outputs": [],
   "source": [
    "# usando list comprehension\n",
    "clean_mikey = [sanitize(each_t) for each_t in mikey]\n"
   ]
  },
  {
   "cell_type": "code",
   "execution_count": 17,
   "id": "15bed58a-b2f1-4ac0-9ee8-e21e718598dd",
   "metadata": {},
   "outputs": [
    {
     "data": {
      "text/plain": [
       "['2.22', '3.01', '3.01', '3.02', '3.02', '3.02', '3.22', '2.49', '2.38']"
      ]
     },
     "execution_count": 17,
     "metadata": {},
     "output_type": "execute_result"
    }
   ],
   "source": [
    "clean_mikey"
   ]
  },
  {
   "cell_type": "code",
   "execution_count": 18,
   "id": "0b73f6a2-cb51-48b9-add0-45cd388b2c4b",
   "metadata": {},
   "outputs": [
    {
     "data": {
      "text/plain": [
       "[60, 120, 180]"
      ]
     },
     "execution_count": 18,
     "metadata": {},
     "output_type": "execute_result"
    }
   ],
   "source": [
    "# Outros exemplos de uso de list comprehension\n",
    "mins = [1,2,3]\n",
    "secs = [m * 60 for m in mins] #multiplica cada item da lista mins por 60, e inlui na cada valor na nova lista secs\n",
    "secs"
   ]
  },
  {
   "cell_type": "code",
   "execution_count": 19,
   "id": "02593250-a26c-45ab-ad91-cf11b8e27083",
   "metadata": {},
   "outputs": [
    {
     "data": {
      "text/plain": [
       "[3.281, 32.81, 9.843]"
      ]
     },
     "execution_count": 19,
     "metadata": {},
     "output_type": "execute_result"
    }
   ],
   "source": [
    "# metros em pés\n",
    "meters = [1, 10, 3]\n",
    "feet = [m * 3.281 for m in meters] # 1 metro é igual a 3.281 pés\n",
    "feet"
   ]
  },
  {
   "cell_type": "code",
   "execution_count": 20,
   "id": "c246a503-23c6-413d-aeb2-e30b213f2309",
   "metadata": {},
   "outputs": [
    {
     "data": {
      "text/plain": [
       "['I', \"DON'T\", 'LIKE', 'SPAM']"
      ]
     },
     "execution_count": 20,
     "metadata": {},
     "output_type": "execute_result"
    }
   ],
   "source": [
    "# aplicação em strings\n",
    "lower = [\"I\", \"don't\", \"like\", \"spam\"]\n",
    "upper = [s.upper() for s in lower]\n",
    "upper"
   ]
  },
  {
   "cell_type": "code",
   "execution_count": 21,
   "id": "5f923a98-ec80-4ba8-8d06-28700e29951d",
   "metadata": {},
   "outputs": [
    {
     "data": {
      "text/plain": [
       "['2.01', '2.01', '2.22', '2.34', '2.34', '2.45', '3.01', '3.10', '3.21']"
      ]
     },
     "execution_count": 21,
     "metadata": {},
     "output_type": "execute_result"
    }
   ],
   "source": [
    "# processando as listas de tempos usando list comprehension\n",
    "sorted([sanitize(t) for t in james])\n"
   ]
  },
  {
   "cell_type": "code",
   "execution_count": 22,
   "id": "739e67b7-abb4-41dc-b962-96746d60c83e",
   "metadata": {},
   "outputs": [
    {
     "data": {
      "text/plain": [
       "['2.11', '2.11', '2.23', '2.23', '2.59', '3.10', '3.10', '3.21', '3.21']"
      ]
     },
     "execution_count": 22,
     "metadata": {},
     "output_type": "execute_result"
    }
   ],
   "source": [
    "sorted([sanitize(t) for t in julie])\n"
   ]
  },
  {
   "cell_type": "code",
   "execution_count": 23,
   "id": "7e537ae4-abb1-4747-b8d3-f36dca014666",
   "metadata": {},
   "outputs": [
    {
     "data": {
      "text/plain": [
       "['2.22', '2.38', '2.49', '3.01', '3.01', '3.02', '3.02', '3.02', '3.22']"
      ]
     },
     "execution_count": 23,
     "metadata": {},
     "output_type": "execute_result"
    }
   ],
   "source": [
    "sorted([sanitize(t) for t in mikey])\n"
   ]
  },
  {
   "cell_type": "code",
   "execution_count": 24,
   "id": "a9a6e95e-b5ea-4910-ba77-36c03a6d2dec",
   "metadata": {},
   "outputs": [
    {
     "data": {
      "text/plain": [
       "['2.18', '2.25', '2.39', '2.54', '2.55', '2.55', '2.55', '2.58', '2.58']"
      ]
     },
     "execution_count": 24,
     "metadata": {},
     "output_type": "execute_result"
    }
   ],
   "source": [
    "sorted([sanitize(t) for t in sarah])\n"
   ]
  },
  {
   "cell_type": "code",
   "execution_count": 25,
   "id": "f1481d29-4e02-4778-bc70-9b23680dda8e",
   "metadata": {},
   "outputs": [
    {
     "name": "stdout",
     "output_type": "stream",
     "text": [
      "['2.01', '2.22', '2.34']\n",
      "['2.11', '2.23', '2.59']\n",
      "['2.22', '2.38', '2.49']\n",
      "['2.18', '2.25', '2.39']\n"
     ]
    }
   ],
   "source": [
    "# Usanto iterações para limpar itens repetidos das listas\n",
    "clean_james = sorted([sanitize(t) for t in james])\n",
    "clean_julie = sorted([sanitize(t) for t in julie])\n",
    "clean_mikey = sorted([sanitize(t) for t in mikey])\n",
    "clean_sarah = sorted([sanitize(t) for t in sarah])\n",
    "\n",
    "unique_james = [] #Cria a lista vazia para manter os itens de dados únicos\n",
    "unique_julie = []\n",
    "unique_mikey = []\n",
    "unique_sarah = []\n",
    "\n",
    "for each_t in clean_james: #Itera os dados existentes\n",
    "    if each_t not in unique_james: # se o item de dados ainda não estiver na nova lista\n",
    "        unique_james.append(each_t) # acresce o item a lista de dados únicos\n",
    "        \n",
    "for each_t in clean_julie: #Itera os dados existentes\n",
    "    if each_t not in unique_julie: # se o item de dados ainda não estiver na nova lista\n",
    "        unique_julie.append(each_t) # acresce o item a lista de dados únicos\n",
    "        \n",
    "for each_t in clean_mikey: #Itera os dados existentes\n",
    "    if each_t not in unique_mikey: # se o item de dados ainda não estiver na nova lista\n",
    "        unique_mikey.append(each_t) # acresce o item a lista de dados únicos\n",
    "\n",
    "for each_t in clean_sarah: #Itera os dados existentes\n",
    "    if each_t not in unique_sarah: # se o item de dados ainda não estiver na nova lista\n",
    "        unique_sarah.append(each_t) # acresce o item a lista de dados únicos\n",
    "\n",
    "print(unique_james[0:3]) #exibe os três primeiros itens da lista usando slice\n",
    "print(unique_julie[0:3])\n",
    "print(unique_mikey[0:3])\n",
    "print(unique_sarah[0:3])\n"
   ]
  },
  {
   "cell_type": "code",
   "execution_count": 26,
   "id": "97c31963-df12-45c4-b835-b258910055d1",
   "metadata": {},
   "outputs": [
    {
     "name": "stdout",
     "output_type": "stream",
     "text": [
      "{'two', 7, 8, 10.6, 11}\n"
     ]
    }
   ],
   "source": [
    "# Uso de conjuntos: set()\n",
    "distances = set()\n",
    "\n",
    "distances = {10.6, 11, 8, 10.6, \"two\", 7}\n",
    "\n",
    "print(distances)"
   ]
  },
  {
   "cell_type": "code",
   "execution_count": 33,
   "id": "1da332c9-2556-4cfb-8456-779ade7e095c",
   "metadata": {},
   "outputs": [
    {
     "name": "stdout",
     "output_type": "stream",
     "text": [
      "['2-34', '3:21', '2.34', '2.45', '3.01', '2:01', '2:01', '3:10', '2-22']\n",
      "['2.01', '2.22', '2.34']\n"
     ]
    }
   ],
   "source": [
    "print(james)\n",
    "print(sorted(set([sanitize(t) for t in james]))[0:3])"
   ]
  },
  {
   "cell_type": "code",
   "execution_count": null,
   "id": "0bbc67a2-61f0-4e06-8fc2-3f7a9d8604b6",
   "metadata": {},
   "outputs": [],
   "source": []
  }
 ],
 "metadata": {
  "kernelspec": {
   "display_name": "Python 3",
   "language": "python",
   "name": "python3"
  },
  "language_info": {
   "codemirror_mode": {
    "name": "ipython",
    "version": 3
   },
   "file_extension": ".py",
   "mimetype": "text/x-python",
   "name": "python",
   "nbconvert_exporter": "python",
   "pygments_lexer": "ipython3",
   "version": "3.9.2"
  }
 },
 "nbformat": 4,
 "nbformat_minor": 5
}
